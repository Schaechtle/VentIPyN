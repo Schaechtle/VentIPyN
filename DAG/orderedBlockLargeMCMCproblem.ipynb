{
 "metadata": {
  "kernelspec": {
   "codemirror_mode": {
    "name": "ipython",
    "version": 2
   },
   "display_name": "IPython (Python 2)",
   "language": "python",
   "name": "python2"
  },
  "name": "",
  "signature": "sha256:96b22da940e35b3b8f5469b6f22a3652c40df949ca81ca45ce22f5c52863b73f"
 },
 "nbformat": 3,
 "nbformat_minor": 0,
 "worksheets": [
  {
   "cells": [
    {
     "cell_type": "code",
     "collapsed": false,
     "input": [
      "from venture.test.config import get_ripl, collectSamples, broken_in\n",
      "from venture.test.stats import statisticalTest, reportKnownMean, reportKnownMeanVariance\n",
      "from venture import shortcuts\n",
      "from venture.lite.dagMC import DAG\n",
      "from venture.lite.builtin import typed_nr\n",
      "from venture.lite.utils import ordering\n",
      "import numpy as np\n",
      "import numpy.linalg as la\n",
      "import numpy.random as npr\n",
      "import scipy.spatial.distance as spdist\n",
      "\n",
      "from venture.lite.function import VentureFunction\n",
      "from venture.lite.sp import SPType\n",
      "from venture.lite.discrete import  DiscretePSP\n",
      "import venture.lite.value as v\n",
      "import venture.value.dicts as d\n",
      "\n",
      "\n",
      "import scipy.io as sio\n",
      "\n",
      "import pylab as pl\n",
      "import seaborn\n",
      "import time\n",
      "\n",
      "figlength = 16\n",
      "figheigth = 8\n",
      "xa = 0\n",
      "xb = 10\n",
      "ya = -50\n",
      "yb =50\n"
     ],
     "language": "python",
     "metadata": {},
     "outputs": [
      {
       "ename": "ImportError",
       "evalue": "No module named dagMC",
       "output_type": "pyerr",
       "traceback": [
        "\u001b[0;31m---------------------------------------------------------------------------\u001b[0m\n\u001b[0;31mImportError\u001b[0m                               Traceback (most recent call last)",
        "\u001b[0;32m<ipython-input-1-26c6b9951a7b>\u001b[0m in \u001b[0;36m<module>\u001b[0;34m()\u001b[0m\n\u001b[1;32m      2\u001b[0m \u001b[0;32mfrom\u001b[0m \u001b[0mventure\u001b[0m\u001b[0;34m.\u001b[0m\u001b[0mtest\u001b[0m\u001b[0;34m.\u001b[0m\u001b[0mstats\u001b[0m \u001b[0;32mimport\u001b[0m \u001b[0mstatisticalTest\u001b[0m\u001b[0;34m,\u001b[0m \u001b[0mreportKnownMean\u001b[0m\u001b[0;34m,\u001b[0m \u001b[0mreportKnownMeanVariance\u001b[0m\u001b[0;34m\u001b[0m\u001b[0m\n\u001b[1;32m      3\u001b[0m \u001b[0;32mfrom\u001b[0m \u001b[0mventure\u001b[0m \u001b[0;32mimport\u001b[0m \u001b[0mshortcuts\u001b[0m\u001b[0;34m\u001b[0m\u001b[0m\n\u001b[0;32m----> 4\u001b[0;31m \u001b[0;32mfrom\u001b[0m \u001b[0mventure\u001b[0m\u001b[0;34m.\u001b[0m\u001b[0mlite\u001b[0m\u001b[0;34m.\u001b[0m\u001b[0mdagMC\u001b[0m \u001b[0;32mimport\u001b[0m \u001b[0mDAG\u001b[0m\u001b[0;34m\u001b[0m\u001b[0m\n\u001b[0m\u001b[1;32m      5\u001b[0m \u001b[0;32mfrom\u001b[0m \u001b[0mventure\u001b[0m\u001b[0;34m.\u001b[0m\u001b[0mlite\u001b[0m\u001b[0;34m.\u001b[0m\u001b[0mbuiltin\u001b[0m \u001b[0;32mimport\u001b[0m \u001b[0mtyped_nr\u001b[0m\u001b[0;34m\u001b[0m\u001b[0m\n\u001b[1;32m      6\u001b[0m \u001b[0;32mfrom\u001b[0m \u001b[0mventure\u001b[0m\u001b[0;34m.\u001b[0m\u001b[0mlite\u001b[0m\u001b[0;34m.\u001b[0m\u001b[0mutils\u001b[0m \u001b[0;32mimport\u001b[0m \u001b[0mordering\u001b[0m\u001b[0;34m\u001b[0m\u001b[0m\n",
        "\u001b[0;31mImportError\u001b[0m: No module named dagMC"
       ]
      }
     ],
     "prompt_number": 1
    },
    {
     "cell_type": "code",
     "collapsed": false,
     "input": [
      "start = time.time()"
     ],
     "language": "python",
     "metadata": {},
     "outputs": []
    },
    {
     "cell_type": "code",
     "collapsed": false,
     "input": [
      "%pylab inline"
     ],
     "language": "python",
     "metadata": {},
     "outputs": []
    },
    {
     "cell_type": "code",
     "collapsed": false,
     "input": [
      "ripl = shortcuts.make_lite_church_prime_ripl()"
     ],
     "language": "python",
     "metadata": {},
     "outputs": []
    },
    {
     "cell_type": "heading",
     "level": 3,
     "metadata": {},
     "source": [
      "load data for fork / collider structure, i.e. 0 -> 2, 1 -> 2"
     ]
    },
    {
     "cell_type": "code",
     "collapsed": false,
     "input": [
      "mat_contents = sio.loadmat('block.mat')\n",
      "data = mat_contents['data']"
     ],
     "language": "python",
     "metadata": {},
     "outputs": []
    },
    {
     "cell_type": "heading",
     "level": 1,
     "metadata": {},
     "source": [
      "Structure Learning"
     ]
    },
    {
     "cell_type": "code",
     "collapsed": false,
     "input": [
      "d=6\n",
      "dag =DAG(d)"
     ],
     "language": "python",
     "metadata": {},
     "outputs": []
    },
    {
     "cell_type": "code",
     "collapsed": false,
     "input": [
      "#ripl.infer(\"(resample 10)\")"
     ],
     "language": "python",
     "metadata": {},
     "outputs": []
    },
    {
     "cell_type": "heading",
     "level": 3,
     "metadata": {},
     "source": [
      "cpr"
     ]
    },
    {
     "cell_type": "code",
     "collapsed": false,
     "input": [
      "#ripl.infer(\"(resample 20)\")"
     ],
     "language": "python",
     "metadata": {},
     "outputs": []
    },
    {
     "cell_type": "code",
     "collapsed": false,
     "input": [
      "ripl.assume(\"alpha\",\"0.5\")\n",
      "ripl.assume(\"crp\",\"(make_crp alpha)\")\n",
      "ripl.assume(\"get_block\",\"(mem (lambda (id) (scope_include (quote block) id (crp))))\") "
     ],
     "language": "python",
     "metadata": {},
     "outputs": []
    },
    {
     "cell_type": "code",
     "collapsed": false,
     "input": [
      "dir_parameter_Str,ordering_array_Str=ordering(d)\n",
      "\n",
      "ripl.assume(\"orderPrior\",dir_parameter_Str)\n",
      "ripl.assume(\"causal_order\",\"(scope_include (quote order) 0 \"+ordering_array_Str+\")\")\n",
      "ripl.assume(\"block_order\",\"(scope_include (quote order) 1 \"+ ordering_array_Str+\" )\")"
     ],
     "language": "python",
     "metadata": {},
     "outputs": []
    },
    {
     "cell_type": "code",
     "collapsed": false,
     "input": [
      "ripl.assume(\"p_ab\",\"(scope_include (quote block_edge) 0 (beta 1 1))\")\n",
      "\n",
      "ripl.assume(\"block_edge_prior\",\"(lambda (i j) (if (in_order block_order i j) p_ab 0 ))\")\n",
      "#ripl.assume(\"block_edge_prior\",\"(lambda (i j) p_ab)\")\n",
      "ripl.assume(\"edge_prior\",\"(mem (lambda (i j) (block_edge_prior (get_block i) (get_block j))))\")\n",
      "\n",
      "#ripl.assume(\"edge_prior\",\"(mem (lambda (i j) p_ab))\")"
     ],
     "language": "python",
     "metadata": {},
     "outputs": []
    },
    {
     "cell_type": "code",
     "collapsed": false,
     "input": [
      "ripl.assume(\"dag_scores\",v.VentureForeignBlob(dag))\n"
     ],
     "language": "python",
     "metadata": {},
     "outputs": []
    },
    {
     "cell_type": "code",
     "collapsed": false,
     "input": [
      "ripl.assume(\"interaction_alpha\",\"(scope_include (quote inter_hyper ) 0 (gamma 1 1))\")\n",
      "ripl.assume(\"interaction_crp\",\"(make_crp interaction_alpha)\")\n",
      "ripl.assume(\"get_interaction\",\"(mem (lambda (interaction_id) (scope_include (quote inter) interaction_id (interaction_crp))))\") "
     ],
     "language": "python",
     "metadata": {},
     "outputs": []
    },
    {
     "cell_type": "code",
     "collapsed": false,
     "input": [],
     "language": "python",
     "metadata": {},
     "outputs": [],
     "prompt_number": 1
    },
    {
     "cell_type": "code",
     "collapsed": false,
     "input": [
      "ripl.assume(\"e\",\"(mem(lambda (i j) (scope_include (quote edges ) (real (get_interaction j)) (edge2  i j (edge_prior i j) causal_order ))))\")"
     ],
     "language": "python",
     "metadata": {},
     "outputs": [
      {
       "ename": "NameError",
       "evalue": "name 'ripl' is not defined",
       "output_type": "pyerr",
       "traceback": [
        "\u001b[0;31m---------------------------------------------------------------------------\u001b[0m\n\u001b[0;31mNameError\u001b[0m                                 Traceback (most recent call last)",
        "\u001b[0;32m<ipython-input-2-d7bf792dcb47>\u001b[0m in \u001b[0;36m<module>\u001b[0;34m()\u001b[0m\n\u001b[0;32m----> 1\u001b[0;31m \u001b[0mripl\u001b[0m\u001b[0;34m.\u001b[0m\u001b[0massume\u001b[0m\u001b[0;34m(\u001b[0m\u001b[0;34m\"e\"\u001b[0m\u001b[0;34m,\u001b[0m\u001b[0;34m\"(mem(lambda (i j) (scope_include (quote edges ) (real (get_interaction j)) (edge2  i j (edge_prior i j) causal_order ))))\"\u001b[0m\u001b[0;34m)\u001b[0m\u001b[0;34m\u001b[0m\u001b[0m\n\u001b[0m",
        "\u001b[0;31mNameError\u001b[0m: name 'ripl' is not defined"
       ]
      }
     ],
     "prompt_number": 2
    },
    {
     "cell_type": "code",
     "collapsed": false,
     "input": [],
     "language": "python",
     "metadata": {},
     "outputs": [],
     "prompt_number": 2
    },
    {
     "cell_type": "code",
     "collapsed": false,
     "input": [
      "def produceEdgesAndDAG(d):\n",
      "    scope_i = 0\n",
      "    dagStr=\"(array \"\n",
      "    edgeStr=\"\"\n",
      "    for i in range(d):\n",
      "        dagStr+=\"(array \"\n",
      "        for j in range(d):\n",
      "            if i!=j:\n",
      "                eStr =\"(e \"+str(i)+\" \"+str(j)+ \")\"\n",
      "                e = \"e\"+str(i)+str(j)\n",
      "                edgeStr+=e+\" \"\n",
      "                scope_i+=1\n",
      "                #print(\"ripl.assume(\"+e+\",\"+eStr+\")\")\n",
      "                ripl.assume(e,eStr)\n",
      "                dagStr+=e+\" \"\n",
      "            else:\n",
      "                dagStr+=\"False \"\n",
      "        dagStr+=\" ) \"\n",
      "    dagStr+=\" ) \"\n",
      "    ripl.assume(\"dag\",dagStr)\n",
      "    #print(\"ripl.assume(dag,\"+dagStr+\"))\")\n",
      "    return edgeStr\n",
      "                    \n",
      "                \n",
      "edgeStr = produceEdgesAndDAG(d)               \n",
      "                "
     ],
     "language": "python",
     "metadata": {},
     "outputs": [
      {
       "ename": "NameError",
       "evalue": "name 'd' is not defined",
       "output_type": "pyerr",
       "traceback": [
        "\u001b[0;31m---------------------------------------------------------------------------\u001b[0m\n\u001b[0;31mNameError\u001b[0m                                 Traceback (most recent call last)",
        "\u001b[0;32m<ipython-input-3-dfb756a10b21>\u001b[0m in \u001b[0;36m<module>\u001b[0;34m()\u001b[0m\n\u001b[1;32m     23\u001b[0m \u001b[0;34m\u001b[0m\u001b[0m\n\u001b[1;32m     24\u001b[0m \u001b[0;34m\u001b[0m\u001b[0m\n\u001b[0;32m---> 25\u001b[0;31m \u001b[0medgeStr\u001b[0m \u001b[0;34m=\u001b[0m \u001b[0mproduceEdgesAndDAG\u001b[0m\u001b[0;34m(\u001b[0m\u001b[0md\u001b[0m\u001b[0;34m)\u001b[0m\u001b[0;34m\u001b[0m\u001b[0m\n\u001b[0m\u001b[1;32m     26\u001b[0m \u001b[0;34m\u001b[0m\u001b[0m\n",
        "\u001b[0;31mNameError\u001b[0m: name 'd' is not defined"
       ]
      }
     ],
     "prompt_number": 3
    },
    {
     "cell_type": "code",
     "collapsed": false,
     "input": [],
     "language": "python",
     "metadata": {},
     "outputs": [],
     "prompt_number": 3
    },
    {
     "cell_type": "code",
     "collapsed": false,
     "input": [
      "#ripl.assume(\"dag\",\"(array (array False False False False) (array False False False False) (array False False False False) (array False False False False) )\")"
     ],
     "language": "python",
     "metadata": {},
     "outputs": [],
     "prompt_number": 4
    },
    {
     "cell_type": "code",
     "collapsed": false,
     "input": [
      "#ripl.assume(\"dag\",\"(array (array False False True) (array False False True) (array False False False))\")"
     ],
     "language": "python",
     "metadata": {},
     "outputs": [],
     "prompt_number": 5
    },
    {
     "cell_type": "code",
     "collapsed": false,
     "input": [
      "ripl.assume(\"ranges\",\"(array 2 2 2 2 2 2)\")"
     ],
     "language": "python",
     "metadata": {},
     "outputs": [
      {
       "ename": "NameError",
       "evalue": "name 'ripl' is not defined",
       "output_type": "pyerr",
       "traceback": [
        "\u001b[0;31m---------------------------------------------------------------------------\u001b[0m\n\u001b[0;31mNameError\u001b[0m                                 Traceback (most recent call last)",
        "\u001b[0;32m<ipython-input-6-402673e3112b>\u001b[0m in \u001b[0;36m<module>\u001b[0;34m()\u001b[0m\n\u001b[0;32m----> 1\u001b[0;31m \u001b[0mripl\u001b[0m\u001b[0;34m.\u001b[0m\u001b[0massume\u001b[0m\u001b[0;34m(\u001b[0m\u001b[0;34m\"ranges\"\u001b[0m\u001b[0;34m,\u001b[0m\u001b[0;34m\"(array 2 2 2 2 2 2)\"\u001b[0m\u001b[0;34m)\u001b[0m\u001b[0;34m\u001b[0m\u001b[0m\n\u001b[0m",
        "\u001b[0;31mNameError\u001b[0m: name 'ripl' is not defined"
       ]
      }
     ],
     "prompt_number": 6
    },
    {
     "cell_type": "code",
     "collapsed": false,
     "input": [
      "ripl.assume(\"dir_prior_on_cpd\",\"0.5\")"
     ],
     "language": "python",
     "metadata": {},
     "outputs": []
    },
    {
     "cell_type": "code",
     "collapsed": false,
     "input": [
      "ripl.assume(\"dagdata\",\"(scope_include (quote dag) 0 (dir_dag dir_prior_on_cpd dag ranges dag_scores true))\"); "
     ],
     "language": "python",
     "metadata": {},
     "outputs": [
      {
       "ename": "NameError",
       "evalue": "name 'ripl' is not defined",
       "output_type": "pyerr",
       "traceback": [
        "\u001b[0;31m---------------------------------------------------------------------------\u001b[0m\n\u001b[0;31mNameError\u001b[0m                                 Traceback (most recent call last)",
        "\u001b[0;32m<ipython-input-7-16d65699fa99>\u001b[0m in \u001b[0;36m<module>\u001b[0;34m()\u001b[0m\n\u001b[0;32m----> 1\u001b[0;31m \u001b[0mripl\u001b[0m\u001b[0;34m.\u001b[0m\u001b[0massume\u001b[0m\u001b[0;34m(\u001b[0m\u001b[0;34m\"dagdata\"\u001b[0m\u001b[0;34m,\u001b[0m\u001b[0;34m\"(scope_include (quote dag) 0 (dir_dag dir_prior_on_cpd dag ranges dag_scores true))\"\u001b[0m\u001b[0;34m)\u001b[0m\u001b[0;34m;\u001b[0m\u001b[0;34m\u001b[0m\u001b[0m\n\u001b[0m",
        "\u001b[0;31mNameError\u001b[0m: name 'ripl' is not defined"
       ]
      }
     ],
     "prompt_number": 7
    },
    {
     "cell_type": "code",
     "collapsed": false,
     "input": [
      "dataset=ripl.infer(\"(collect \"+edgeStr +\" )\")\n",
      "df =dataset.asPandas()\n",
      "\n",
      "import seaborn as sns\n",
      "sns.set(style=\"darkgrid\")\n",
      "edgeMatrix = np.zeros((d,d))\n",
      "\n",
      "for i in range(d):\n",
      "    for j in range(d):\n",
      "        if (i!=j):\n",
      "            if len(df['e'+str(i)+str(j)].value_counts(True))>1:\n",
      "                edgeMatrix[i][j]=df['e'+str(i)+str(j)].value_counts(True)[1]\n",
      "            \n",
      "            \n",
      "f, ax = plt.subplots(figsize=(9, 9))\n",
      "#cmap = sns.diverging_palette(5, 20, as_cmap=True)\n",
      "sns.heatmap(edgeMatrix,vmax=1,vmin=0,cmap='Blues')\n",
      "f.tight_layout()"
     ],
     "language": "python",
     "metadata": {},
     "outputs": [
      {
       "ename": "NameError",
       "evalue": "name 'ripl' is not defined",
       "output_type": "pyerr",
       "traceback": [
        "\u001b[0;31m---------------------------------------------------------------------------\u001b[0m\n\u001b[0;31mNameError\u001b[0m                                 Traceback (most recent call last)",
        "\u001b[0;32m<ipython-input-8-dca06320be59>\u001b[0m in \u001b[0;36m<module>\u001b[0;34m()\u001b[0m\n\u001b[0;32m----> 1\u001b[0;31m \u001b[0mdataset\u001b[0m\u001b[0;34m=\u001b[0m\u001b[0mripl\u001b[0m\u001b[0;34m.\u001b[0m\u001b[0minfer\u001b[0m\u001b[0;34m(\u001b[0m\u001b[0;34m\"(collect \"\u001b[0m\u001b[0;34m+\u001b[0m\u001b[0medgeStr\u001b[0m \u001b[0;34m+\u001b[0m\u001b[0;34m\" )\"\u001b[0m\u001b[0;34m)\u001b[0m\u001b[0;34m\u001b[0m\u001b[0m\n\u001b[0m\u001b[1;32m      2\u001b[0m \u001b[0mdf\u001b[0m \u001b[0;34m=\u001b[0m\u001b[0mdataset\u001b[0m\u001b[0;34m.\u001b[0m\u001b[0masPandas\u001b[0m\u001b[0;34m(\u001b[0m\u001b[0;34m)\u001b[0m\u001b[0;34m\u001b[0m\u001b[0m\n\u001b[1;32m      3\u001b[0m \u001b[0;34m\u001b[0m\u001b[0m\n\u001b[1;32m      4\u001b[0m \u001b[0;32mimport\u001b[0m \u001b[0mseaborn\u001b[0m \u001b[0;32mas\u001b[0m \u001b[0msns\u001b[0m\u001b[0;34m\u001b[0m\u001b[0m\n\u001b[1;32m      5\u001b[0m \u001b[0msns\u001b[0m\u001b[0;34m.\u001b[0m\u001b[0mset\u001b[0m\u001b[0;34m(\u001b[0m\u001b[0mstyle\u001b[0m\u001b[0;34m=\u001b[0m\u001b[0;34m\"darkgrid\"\u001b[0m\u001b[0;34m)\u001b[0m\u001b[0;34m\u001b[0m\u001b[0m\n",
        "\u001b[0;31mNameError\u001b[0m: name 'ripl' is not defined"
       ]
      }
     ],
     "prompt_number": 8
    },
    {
     "cell_type": "code",
     "collapsed": false,
     "input": [
      "ripl.observe(\"dagdata\",v.VentureMatrix(data))"
     ],
     "language": "python",
     "metadata": {},
     "outputs": [
      {
       "ename": "NameError",
       "evalue": "name 'ripl' is not defined",
       "output_type": "pyerr",
       "traceback": [
        "\u001b[0;31m---------------------------------------------------------------------------\u001b[0m\n\u001b[0;31mNameError\u001b[0m                                 Traceback (most recent call last)",
        "\u001b[0;32m<ipython-input-9-3da2456268c6>\u001b[0m in \u001b[0;36m<module>\u001b[0;34m()\u001b[0m\n\u001b[0;32m----> 1\u001b[0;31m \u001b[0mripl\u001b[0m\u001b[0;34m.\u001b[0m\u001b[0mobserve\u001b[0m\u001b[0;34m(\u001b[0m\u001b[0;34m\"dagdata\"\u001b[0m\u001b[0;34m,\u001b[0m\u001b[0mv\u001b[0m\u001b[0;34m.\u001b[0m\u001b[0mVentureMatrix\u001b[0m\u001b[0;34m(\u001b[0m\u001b[0mdata\u001b[0m\u001b[0;34m)\u001b[0m\u001b[0;34m)\u001b[0m\u001b[0;34m\u001b[0m\u001b[0m\n\u001b[0m",
        "\u001b[0;31mNameError\u001b[0m: name 'ripl' is not defined"
       ]
      }
     ],
     "prompt_number": 9
    },
    {
     "cell_type": "code",
     "collapsed": false,
     "input": [
      "ripl.infer(1000) "
     ],
     "language": "python",
     "metadata": {},
     "outputs": []
    },
    {
     "cell_type": "code",
     "collapsed": false,
     "input": [
      "#ripl.infer(\"(repeat 50 (do  (mh block one 3) (mh order one 3) (gibbs edges one 5)))\")"
     ],
     "language": "python",
     "metadata": {},
     "outputs": [],
     "prompt_number": 10
    },
    {
     "cell_type": "code",
     "collapsed": false,
     "input": [
      "#ripl.infer(\"(repeat 100 (do  (mh block one 3)  (mh order all 1) (mh block_edge one 3) (gibbs edges one 5) (mh dag one 1)))\")"
     ],
     "language": "python",
     "metadata": {},
     "outputs": [],
     "prompt_number": 11
    },
    {
     "cell_type": "code",
     "collapsed": false,
     "input": [
      "dataset=ripl.infer(\"(collect \"+edgeStr +\" )\")\n",
      "df =dataset.asPandas()\n",
      "\n",
      "import seaborn as sns\n",
      "sns.set(style=\"darkgrid\")\n",
      "edgeMatrix = np.zeros((d,d))\n",
      "\n",
      "for i in range(d):\n",
      "    for j in range(d):\n",
      "        if (i!=j):\n",
      "            if len(df['e'+str(i)+str(j)].value_counts(True))>1:\n",
      "                edgeMatrix[i][j]=df['e'+str(i)+str(j)].value_counts(True)[1]\n",
      "            \n",
      "            \n",
      "f, ax = plt.subplots(figsize=(9, 9))\n",
      "#cmap = sns.diverging_palette(5, 20, as_cmap=True)\n",
      "sns.heatmap(edgeMatrix,vmax=1,vmin=0,cmap='Blues')\n",
      "f.tight_layout()"
     ],
     "language": "python",
     "metadata": {},
     "outputs": [
      {
       "ename": "NameError",
       "evalue": "name 'ripl' is not defined",
       "output_type": "pyerr",
       "traceback": [
        "\u001b[0;31m---------------------------------------------------------------------------\u001b[0m\n\u001b[0;31mNameError\u001b[0m                                 Traceback (most recent call last)",
        "\u001b[0;32m<ipython-input-12-dca06320be59>\u001b[0m in \u001b[0;36m<module>\u001b[0;34m()\u001b[0m\n\u001b[0;32m----> 1\u001b[0;31m \u001b[0mdataset\u001b[0m\u001b[0;34m=\u001b[0m\u001b[0mripl\u001b[0m\u001b[0;34m.\u001b[0m\u001b[0minfer\u001b[0m\u001b[0;34m(\u001b[0m\u001b[0;34m\"(collect \"\u001b[0m\u001b[0;34m+\u001b[0m\u001b[0medgeStr\u001b[0m \u001b[0;34m+\u001b[0m\u001b[0;34m\" )\"\u001b[0m\u001b[0;34m)\u001b[0m\u001b[0;34m\u001b[0m\u001b[0m\n\u001b[0m\u001b[1;32m      2\u001b[0m \u001b[0mdf\u001b[0m \u001b[0;34m=\u001b[0m\u001b[0mdataset\u001b[0m\u001b[0;34m.\u001b[0m\u001b[0masPandas\u001b[0m\u001b[0;34m(\u001b[0m\u001b[0;34m)\u001b[0m\u001b[0;34m\u001b[0m\u001b[0m\n\u001b[1;32m      3\u001b[0m \u001b[0;34m\u001b[0m\u001b[0m\n\u001b[1;32m      4\u001b[0m \u001b[0;32mimport\u001b[0m \u001b[0mseaborn\u001b[0m \u001b[0;32mas\u001b[0m \u001b[0msns\u001b[0m\u001b[0;34m\u001b[0m\u001b[0m\n\u001b[1;32m      5\u001b[0m \u001b[0msns\u001b[0m\u001b[0;34m.\u001b[0m\u001b[0mset\u001b[0m\u001b[0;34m(\u001b[0m\u001b[0mstyle\u001b[0m\u001b[0;34m=\u001b[0m\u001b[0;34m\"darkgrid\"\u001b[0m\u001b[0;34m)\u001b[0m\u001b[0;34m\u001b[0m\u001b[0m\n",
        "\u001b[0;31mNameError\u001b[0m: name 'ripl' is not defined"
       ]
      }
     ],
     "prompt_number": 12
    },
    {
     "cell_type": "code",
     "collapsed": false,
     "input": [
      "end = time.time()\n",
      "print end - start"
     ],
     "language": "python",
     "metadata": {},
     "outputs": []
    },
    {
     "cell_type": "code",
     "collapsed": false,
     "input": [],
     "language": "python",
     "metadata": {},
     "outputs": []
    }
   ],
   "metadata": {}
  }
 ]
}