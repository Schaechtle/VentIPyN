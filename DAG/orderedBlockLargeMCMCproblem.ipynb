{
 "metadata": {
  "kernelspec": {
   "codemirror_mode": {
    "name": "ipython",
    "version": 2
   },
   "display_name": "IPython (Python 2)",
   "language": "python",
   "name": "python2"
  },
  "name": "",
  "signature": "sha256:96b22da940e35b3b8f5469b6f22a3652c40df949ca81ca45ce22f5c52863b73f"
 },
 "nbformat": 3,
 "nbformat_minor": 0,
 "worksheets": [
  {
   "cells": [
    {
     "cell_type": "code",
     "collapsed": false,
     "input": [
      "from venture.test.config import get_ripl, collectSamples, broken_in\n",
      "from venture.test.stats import statisticalTest, reportKnownMean, reportKnownMeanVariance\n",
      "from venture import shortcuts\n",
      "from venture.lite.dagMC import DAG\n",
      "from venture.lite.builtin import typed_nr\n",
      "from venture.lite.utils import ordering\n",
      "import numpy as np\n",
      "import numpy.linalg as la\n",
      "import numpy.random as npr\n",
      "import scipy.spatial.distance as spdist\n",
      "\n",
      "from venture.lite.function import VentureFunction\n",
      "from venture.lite.sp import SPType\n",
      "from venture.lite.discrete import  DiscretePSP\n",
      "import venture.lite.value as v\n",
      "import venture.value.dicts as d\n",
      "\n",
      "\n",
      "import scipy.io as sio\n",
      "\n",
      "import pylab as pl\n",
      "import seaborn\n",
      "import time\n",
      "\n",
      "figlength = 16\n",
      "figheigth = 8\n",
      "xa = 0\n",
      "xb = 10\n",
      "ya = -50\n",
      "yb =50\n"
     ],
     "language": "python",
     "metadata": {},
     "outputs": [],
     "prompt_number": 1
    },
    {
     "cell_type": "code",
     "collapsed": false,
     "input": [
      "start = time.time()"
     ],
     "language": "python",
     "metadata": {},
     "outputs": [],
     "prompt_number": 2
    },
    {
     "cell_type": "code",
     "collapsed": false,
     "input": [
      "%pylab inline"
     ],
     "language": "python",
     "metadata": {},
     "outputs": [
      {
       "output_type": "stream",
       "stream": "stdout",
       "text": [
        "Populating the interactive namespace from numpy and matplotlib\n"
       ]
      }
     ],
     "prompt_number": 3
    },
    {
     "cell_type": "code",
     "collapsed": false,
     "input": [
      "ripl = shortcuts.make_lite_church_prime_ripl()"
     ],
     "language": "python",
     "metadata": {},
     "outputs": [],
     "prompt_number": 4
    },
    {
     "cell_type": "heading",
     "level": 3,
     "metadata": {},
     "source": [
      "load data for fork / collider structure, i.e. 0 -> 2, 1 -> 2"
     ]
    },
    {
     "cell_type": "code",
     "collapsed": false,
     "input": [
      "mat_contents = sio.loadmat('block.mat')\n",
      "data = mat_contents['data']"
     ],
     "language": "python",
     "metadata": {},
     "outputs": [],
     "prompt_number": 5
    },
    {
     "cell_type": "heading",
     "level": 1,
     "metadata": {},
     "source": [
      "Structure Learning"
     ]
    },
    {
     "cell_type": "code",
     "collapsed": false,
     "input": [
      "d=6\n",
      "dag =DAG(d)"
     ],
     "language": "python",
     "metadata": {},
     "outputs": [],
     "prompt_number": 6
    },
    {
     "cell_type": "code",
     "collapsed": false,
     "input": [
      "#ripl.infer(\"(resample 10)\")"
     ],
     "language": "python",
     "metadata": {},
     "outputs": [],
     "prompt_number": 7
    },
    {
     "cell_type": "heading",
     "level": 3,
     "metadata": {},
     "source": [
      "cpr"
     ]
    },
    {
     "cell_type": "code",
     "collapsed": false,
     "input": [
      "#ripl.infer(\"(resample 20)\")"
     ],
     "language": "python",
     "metadata": {},
     "outputs": [],
     "prompt_number": 8
    },
    {
     "cell_type": "code",
     "collapsed": false,
     "input": [
      "ripl.assume(\"alpha\",\"0.5\")\n",
      "ripl.assume(\"crp\",\"(make_crp alpha)\")\n",
      "ripl.assume(\"get_block\",\"(mem (lambda (id) (scope_include (quote block) id (crp))))\") "
     ],
     "language": "python",
     "metadata": {},
     "outputs": [
      {
       "metadata": {},
       "output_type": "pyout",
       "prompt_number": 9,
       "text": [
        "'unknown spAux'"
       ]
      }
     ],
     "prompt_number": 9
    },
    {
     "cell_type": "code",
     "collapsed": false,
     "input": [
      "dir_parameter_Str,ordering_array_Str=ordering(d)\n",
      "\n",
      "ripl.assume(\"orderPrior\",dir_parameter_Str)\n",
      "ripl.assume(\"causal_order\",\"(scope_include (quote order) 0 \"+ordering_array_Str+\")\")\n",
      "ripl.assume(\"block_order\",\"(scope_include (quote order) 1 \"+ ordering_array_Str+\" )\")"
     ],
     "language": "python",
     "metadata": {},
     "outputs": [
      {
       "metadata": {},
       "output_type": "pyout",
       "prompt_number": 10,
       "text": [
        "[3.0, 4.0, 2.0, 5.0, 0.0, 1.0]"
       ]
      }
     ],
     "prompt_number": 10
    },
    {
     "cell_type": "code",
     "collapsed": false,
     "input": [
      "ripl.assume(\"p_ab\",\"(scope_include (quote block_edge) 0 (beta 1 1))\")\n",
      "\n",
      "ripl.assume(\"block_edge_prior\",\"(lambda (i j) (if (in_order block_order i j) p_ab 0 ))\")\n",
      "#ripl.assume(\"block_edge_prior\",\"(lambda (i j) p_ab)\")\n",
      "ripl.assume(\"edge_prior\",\"(mem (lambda (i j) (block_edge_prior (get_block i) (get_block j))))\")\n",
      "\n",
      "#ripl.assume(\"edge_prior\",\"(mem (lambda (i j) p_ab))\")"
     ],
     "language": "python",
     "metadata": {},
     "outputs": [
      {
       "metadata": {},
       "output_type": "pyout",
       "prompt_number": 11,
       "text": [
        "'unknown spAux'"
       ]
      }
     ],
     "prompt_number": 11
    },
    {
     "cell_type": "code",
     "collapsed": false,
     "input": [
      "ripl.assume(\"dag_scores\",v.VentureForeignBlob(dag))\n"
     ],
     "language": "python",
     "metadata": {},
     "outputs": [
      {
       "metadata": {},
       "output_type": "pyout",
       "prompt_number": 12,
       "text": [
        "<venture.lite.dagMC.DAG instance at 0x7fda15e362d8>"
       ]
      }
     ],
     "prompt_number": 12
    },
    {
     "cell_type": "code",
     "collapsed": false,
     "input": [
      "ripl.assume(\"interaction_alpha\",\"(scope_include (quote inter_hyper ) 0 (gamma 1 1))\")\n",
      "ripl.assume(\"interaction_crp\",\"(make_crp interaction_alpha)\")\n",
      "ripl.assume(\"get_interaction\",\"(mem (lambda (interaction_id) (scope_include (quote inter) interaction_id (interaction_crp))))\") "
     ],
     "language": "python",
     "metadata": {},
     "outputs": [
      {
       "metadata": {},
       "output_type": "pyout",
       "prompt_number": 13,
       "text": [
        "'unknown spAux'"
       ]
      }
     ],
     "prompt_number": 13
    },
    {
     "cell_type": "code",
     "collapsed": false,
     "input": [],
     "language": "python",
     "metadata": {},
     "outputs": [],
     "prompt_number": 13
    },
    {
     "cell_type": "code",
     "collapsed": false,
     "input": [
      "ripl.assume(\"e\",\"(mem(lambda (i j) (scope_include (quote edges ) (real (get_interaction j)) (edge2  i j (edge_prior i j) causal_order ))))\")"
     ],
     "language": "python",
     "metadata": {},
     "outputs": [
      {
       "metadata": {},
       "output_type": "pyout",
       "prompt_number": 14,
       "text": [
        "'unknown spAux'"
       ]
      }
     ],
     "prompt_number": 14
    },
    {
     "cell_type": "code",
     "collapsed": false,
     "input": [],
     "language": "python",
     "metadata": {},
     "outputs": [],
     "prompt_number": 14
    },
    {
     "cell_type": "code",
     "collapsed": false,
     "input": [
      "def produceEdgesAndDAG(d):\n",
      "    scope_i = 0\n",
      "    dagStr=\"(array \"\n",
      "    edgeStr=\"\"\n",
      "    for i in range(d):\n",
      "        dagStr+=\"(array \"\n",
      "        for j in range(d):\n",
      "            if i!=j:\n",
      "                eStr =\"(e \"+str(i)+\" \"+str(j)+ \")\"\n",
      "                e = \"e\"+str(i)+str(j)\n",
      "                edgeStr+=e+\" \"\n",
      "                scope_i+=1\n",
      "                #print(\"ripl.assume(\"+e+\",\"+eStr+\")\")\n",
      "                ripl.assume(e,eStr)\n",
      "                dagStr+=e+\" \"\n",
      "            else:\n",
      "                dagStr+=\"False \"\n",
      "        dagStr+=\" ) \"\n",
      "    dagStr+=\" ) \"\n",
      "    ripl.assume(\"dag\",dagStr)\n",
      "    #print(\"ripl.assume(dag,\"+dagStr+\"))\")\n",
      "    return edgeStr\n",
      "                    \n",
      "                \n",
      "edgeStr = produceEdgesAndDAG(d)               \n",
      "                "
     ],
     "language": "python",
     "metadata": {},
     "outputs": [],
     "prompt_number": 15
    },
    {
     "cell_type": "code",
     "collapsed": false,
     "input": [],
     "language": "python",
     "metadata": {},
     "outputs": [],
     "prompt_number": 15
    },
    {
     "cell_type": "code",
     "collapsed": false,
     "input": [
      "#ripl.assume(\"dag\",\"(array (array False False False False) (array False False False False) (array False False False False) (array False False False False) )\")"
     ],
     "language": "python",
     "metadata": {},
     "outputs": [],
     "prompt_number": 16
    },
    {
     "cell_type": "code",
     "collapsed": false,
     "input": [
      "#ripl.assume(\"dag\",\"(array (array False False True) (array False False True) (array False False False))\")"
     ],
     "language": "python",
     "metadata": {},
     "outputs": [],
     "prompt_number": 17
    },
    {
     "cell_type": "code",
     "collapsed": false,
     "input": [
      "ripl.assume(\"ranges\",\"(array 2 2 2 2 2 2)\")"
     ],
     "language": "python",
     "metadata": {},
     "outputs": [
      {
       "metadata": {},
       "output_type": "pyout",
       "prompt_number": 18,
       "text": [
        "[2.0, 2.0, 2.0, 2.0, 2.0, 2.0]"
       ]
      }
     ],
     "prompt_number": 18
    },
    {
     "cell_type": "code",
     "collapsed": false,
     "input": [
      "ripl.assume(\"dir_prior_on_cpd\",\"0.5\")"
     ],
     "language": "python",
     "metadata": {},
     "outputs": [
      {
       "metadata": {},
       "output_type": "pyout",
       "prompt_number": 19,
       "text": [
        "0.5"
       ]
      }
     ],
     "prompt_number": 19
    },
    {
     "cell_type": "code",
     "collapsed": false,
     "input": [
      "ripl.assume(\"dagdata\",\"(scope_include (quote dag) 0 (dir_dag dir_prior_on_cpd dag ranges dag_scores true))\"); "
     ],
     "language": "python",
     "metadata": {},
     "outputs": [],
     "prompt_number": 20
    },
    {
     "cell_type": "code",
     "collapsed": false,
     "input": [
      "dataset=ripl.infer(\"(collect \"+edgeStr +\" )\")\n",
      "df =dataset.asPandas()\n",
      "\n",
      "import seaborn as sns\n",
      "sns.set(style=\"darkgrid\")\n",
      "edgeMatrix = np.zeros((d,d))\n",
      "\n",
      "for i in range(d):\n",
      "    for j in range(d):\n",
      "        if (i!=j):\n",
      "            if len(df['e'+str(i)+str(j)].value_counts(True))>1:\n",
      "                edgeMatrix[i][j]=df['e'+str(i)+str(j)].value_counts(True)[1]\n",
      "            \n",
      "            \n",
      "f, ax = plt.subplots(figsize=(9, 9))\n",
      "#cmap = sns.diverging_palette(5, 20, as_cmap=True)\n",
      "sns.heatmap(edgeMatrix,vmax=1,vmin=0,cmap='Blues')\n",
      "f.tight_layout()"
     ],
     "language": "python",
     "metadata": {},
     "outputs": [
      {
       "metadata": {},
       "output_type": "display_data",
       "png": "[encoded data removed]",
       "text": [
        "<matplotlib.figure.Figure at 0x7fda13ba1790>"
       ]
      }
     ],
     "prompt_number": 21
    },
    {
     "cell_type": "code",
     "collapsed": false,
     "input": [
      "ripl.observe(\"dagdata\",v.VentureMatrix(data))"
     ],
     "language": "python",
     "metadata": {},
     "outputs": [],
     "prompt_number": 22
    },
    {
     "cell_type": "code",
     "collapsed": false,
     "input": [
      "ripl.infer(1000) "
     ],
     "language": "python",
     "metadata": {},
     "outputs": [
      {
       "ename": "KeyError",
       "evalue": "'4.0\\n**************************************************\\nStack trace from worker:\\n**************************************************\\nTraceback (most recent call last):\\n  File \"/usr/local/lib/python2.7/dist-packages/venture/multiprocess.py\", line 91, in wrapped\\n    res = f(*args, **kwargs)\\n  File \"/usr/local/lib/python2.7/dist-packages/venture/lite/trace.py\", line 434, in primitive_infer\\n    mixMH(self, BlockScaffoldIndexer(scope, block), MHOperator())\\n  File \"/usr/local/lib/python2.7/dist-packages/venture/lite/infer/mh.py\", line 43, in mixMH\\n    proposedTrace,logAlpha = operator.propose(trace,index)\\n  File \"/usr/local/lib/python2.7/dist-packages/venture/lite/infer/mh.py\", line 133, in propose\\n    rhoWeight = self.prepare(trace, scaffold)\\n  File \"/usr/local/lib/python2.7/dist-packages/venture/lite/infer/mh.py\", line 121, in prepare\\n    rhoWeight,self.rhoDB = detachAndExtract(trace, scaffold, compute_gradient)\\n  File \"/usr/local/lib/python2.7/dist-packages/venture/lite/detach.py\", line 11, in detachAndExtract\\n    ans = detachAndExtractAtBorder(trace, scaffold.border[0], scaffold, compute_gradient=compute_gradient)\\n  File \"/usr/local/lib/python2.7/dist-packages/venture/lite/detach.py\", line 26, in detachAndExtractAtBorder\\n    weight += detach(trace, node, scaffold, omegaDB, compute_gradient)\\n  File \"/usr/local/lib/python2.7/dist-packages/venture/lite/detach.py\", line 50, in detach\\n    weight += extractParents(trace, node, scaffold, omegaDB, compute_gradient)\\n  File \"/usr/local/lib/python2.7/dist-packages/venture/lite/detach.py\", line 58, in extractParents\\n    weight += extract(trace, parent, scaffold, omegaDB, compute_gradient)\\n  File \"/usr/local/lib/python2.7/dist-packages/venture/lite/detach.py\", line 88, in extract\\n    weight += extractParents(trace, node, scaffold, omegaDB, compute_gradient)\\n  File \"/usr/local/lib/python2.7/dist-packages/venture/lite/detach.py\", line 58, in extractParents\\n    weight += extract(trace, parent, scaffold, omegaDB, compute_gradient)\\n  File \"/usr/local/lib/python2.7/dist-packages/venture/lite/detach.py\", line 88, in extract\\n    weight += extractParents(trace, node, scaffold, omegaDB, compute_gradient)\\n  File \"/usr/local/lib/python2.7/dist-packages/venture/lite/detach.py\", line 58, in extractParents\\n    weight += extract(trace, parent, scaffold, omegaDB, compute_gradient)\\n  File \"/usr/local/lib/python2.7/dist-packages/venture/lite/detach.py\", line 88, in extract\\n    weight += extractParents(trace, node, scaffold, omegaDB, compute_gradient)\\n  File \"/usr/local/lib/python2.7/dist-packages/venture/lite/detach.py\", line 56, in extractParents\\n    weight += extract(trace, parent, scaffold, omegaDB, compute_gradient)\\n  File \"/usr/local/lib/python2.7/dist-packages/venture/lite/detach.py\", line 88, in extract\\n    weight += extractParents(trace, node, scaffold, omegaDB, compute_gradient)\\n  File \"/usr/local/lib/python2.7/dist-packages/venture/lite/detach.py\", line 56, in extractParents\\n    weight += extract(trace, parent, scaffold, omegaDB, compute_gradient)\\n  File \"/usr/local/lib/python2.7/dist-packages/venture/lite/detach.py\", line 80, in extract\\n    weight += unapplyPSP(trace, node, scaffold, omegaDB, compute_gradient)\\n  File \"/usr/local/lib/python2.7/dist-packages/venture/lite/detach.py\", line 134, in unapplyPSP\\n    trace.unregisterRandomChoiceInScope(scope,block,blockNode)\\n  File \"/usr/local/lib/python2.7/dist-packages/venture/lite/trace.py\", line 90, in unregisterRandomChoiceInScope\\n    self.scopes[scope][block].remove(node)\\n  File \"/usr/local/lib/python2.7/dist-packages/venture/lite/smap.py\", line 9, in __getitem__\\n    return self.a[self.d[k]][1]\\nKeyError: 4.0\\n'",
       "output_type": "pyerr",
       "traceback": [
        "\u001b[0;31m---------------------------------------------------------------------------\u001b[0m\n\u001b[0;31mKeyError\u001b[0m                                  Traceback (most recent call last)",
        "\u001b[0;32m<ipython-input-23-b29f115e77a2>\u001b[0m in \u001b[0;36m<module>\u001b[0;34m()\u001b[0m\n\u001b[0;32m----> 1\u001b[0;31m \u001b[0mripl\u001b[0m\u001b[0;34m.\u001b[0m\u001b[0minfer\u001b[0m\u001b[0;34m(\u001b[0m\u001b[0;36m1000\u001b[0m\u001b[0;34m)\u001b[0m\u001b[0;34m\u001b[0m\u001b[0m\n\u001b[0m",
        "\u001b[0;32m/usr/local/lib/python2.7/dist-packages/venture/ripl/ripl.pyc\u001b[0m in \u001b[0;36minfer\u001b[0;34m(self, params, type, suppress_pausing_continous_inference)\u001b[0m\n\u001b[1;32m    592\u001b[0m         \u001b[0;31m# The suppress_pausing_continous_inference flag is used by the\u001b[0m\u001b[0;34m\u001b[0m\u001b[0;34m\u001b[0m\u001b[0m\n\u001b[1;32m    593\u001b[0m         \u001b[0;31m# thread doing the continuous inference.\u001b[0m\u001b[0;34m\u001b[0m\u001b[0;34m\u001b[0m\u001b[0m\n\u001b[0;32m--> 594\u001b[0;31m         \u001b[0mo\u001b[0m \u001b[0;34m=\u001b[0m \u001b[0mself\u001b[0m\u001b[0;34m.\u001b[0m\u001b[0mexecute_instruction\u001b[0m\u001b[0;34m(\u001b[0m\u001b[0;34m{\u001b[0m\u001b[0;34m'instruction'\u001b[0m\u001b[0;34m:\u001b[0m\u001b[0;34m'infer'\u001b[0m\u001b[0;34m,\u001b[0m \u001b[0;34m'expression'\u001b[0m\u001b[0;34m:\u001b[0m \u001b[0mself\u001b[0m\u001b[0;34m.\u001b[0m\u001b[0mdefaultInferProgram\u001b[0m\u001b[0;34m(\u001b[0m\u001b[0mparams\u001b[0m\u001b[0;34m)\u001b[0m\u001b[0;34m}\u001b[0m\u001b[0;34m,\u001b[0m \u001b[0msuppress_pausing_continous_inference\u001b[0m\u001b[0;34m=\u001b[0m\u001b[0msuppress_pausing_continous_inference\u001b[0m\u001b[0;34m)\u001b[0m\u001b[0;34m\u001b[0m\u001b[0m\n\u001b[0m\u001b[1;32m    595\u001b[0m         \u001b[0mvalue\u001b[0m \u001b[0;34m=\u001b[0m \u001b[0mo\u001b[0m\u001b[0;34m[\u001b[0m\u001b[0;34m\"value\"\u001b[0m\u001b[0;34m]\u001b[0m\u001b[0;34m\u001b[0m\u001b[0m\n\u001b[1;32m    596\u001b[0m         \u001b[0;32mreturn\u001b[0m \u001b[0mvalue\u001b[0m \u001b[0;32mif\u001b[0m \u001b[0mtype\u001b[0m \u001b[0;32melse\u001b[0m \u001b[0mu\u001b[0m\u001b[0;34m.\u001b[0m\u001b[0mstrip_types\u001b[0m\u001b[0;34m(\u001b[0m\u001b[0mvalue\u001b[0m\u001b[0;34m)\u001b[0m\u001b[0;34m\u001b[0m\u001b[0m\n",
        "\u001b[0;32m/usr/local/lib/python2.7/dist-packages/venture/ripl/ripl.pyc\u001b[0m in \u001b[0;36mexecute_instruction\u001b[0;34m(self, instruction, params, suppress_pausing_continous_inference)\u001b[0m\n\u001b[1;32m    129\u001b[0m                 \u001b[0mstringable_instruction\u001b[0m \u001b[0;34m=\u001b[0m \u001b[0minstruction\u001b[0m\u001b[0;34m\u001b[0m\u001b[0m\n\u001b[1;32m    130\u001b[0m                 \u001b[0mparsed_instruction\u001b[0m \u001b[0;34m=\u001b[0m \u001b[0mself\u001b[0m\u001b[0;34m.\u001b[0m\u001b[0m_ensure_parsed\u001b[0m\u001b[0;34m(\u001b[0m\u001b[0minstruction\u001b[0m\u001b[0;34m)\u001b[0m\u001b[0;34m\u001b[0m\u001b[0m\n\u001b[0;32m--> 131\u001b[0;31m             \u001b[0mret_value\u001b[0m \u001b[0;34m=\u001b[0m \u001b[0mself\u001b[0m\u001b[0;34m.\u001b[0m\u001b[0msivm\u001b[0m\u001b[0;34m.\u001b[0m\u001b[0mexecute_instruction\u001b[0m\u001b[0;34m(\u001b[0m\u001b[0mparsed_instruction\u001b[0m\u001b[0;34m,\u001b[0m \u001b[0msuppress_pausing_continous_inference\u001b[0m\u001b[0;34m=\u001b[0m\u001b[0msuppress_pausing_continous_inference\u001b[0m\u001b[0;34m)\u001b[0m\u001b[0;34m\u001b[0m\u001b[0m\n\u001b[0m\u001b[1;32m    132\u001b[0m         \u001b[0;32mexcept\u001b[0m \u001b[0mVentureException\u001b[0m \u001b[0;32mas\u001b[0m \u001b[0me\u001b[0m\u001b[0;34m:\u001b[0m\u001b[0;34m\u001b[0m\u001b[0m\n\u001b[1;32m    133\u001b[0m             \u001b[0;32mimport\u001b[0m \u001b[0msys\u001b[0m\u001b[0;34m\u001b[0m\u001b[0m\n",
        "\u001b[0;32m/usr/local/lib/python2.7/dist-packages/venture/sivm/venture_sivm.pyc\u001b[0m in \u001b[0;36mexecute_instruction\u001b[0;34m(self, instruction, suppress_pausing_continous_inference)\u001b[0m\n\u001b[1;32m     67\u001b[0m                 \u001b[0;32mreturn\u001b[0m \u001b[0mf\u001b[0m\u001b[0;34m(\u001b[0m\u001b[0minstruction\u001b[0m\u001b[0;34m)\u001b[0m\u001b[0;34m\u001b[0m\u001b[0m\n\u001b[1;32m     68\u001b[0m             \u001b[0;32melse\u001b[0m\u001b[0;34m:\u001b[0m\u001b[0;34m\u001b[0m\u001b[0m\n\u001b[0;32m---> 69\u001b[0;31m                 \u001b[0mresponse\u001b[0m \u001b[0;34m=\u001b[0m \u001b[0mself\u001b[0m\u001b[0;34m.\u001b[0m\u001b[0m_call_core_sivm_instruction\u001b[0m\u001b[0;34m(\u001b[0m\u001b[0minstruction\u001b[0m\u001b[0;34m)\u001b[0m\u001b[0;34m\u001b[0m\u001b[0m\n\u001b[0m\u001b[1;32m     70\u001b[0m                 \u001b[0;32mreturn\u001b[0m \u001b[0mresponse\u001b[0m\u001b[0;34m\u001b[0m\u001b[0m\n\u001b[1;32m     71\u001b[0m \u001b[0;34m\u001b[0m\u001b[0m\n",
        "\u001b[0;32m/usr/local/lib/python2.7/dist-packages/venture/sivm/venture_sivm.pyc\u001b[0m in \u001b[0;36m_call_core_sivm_instruction\u001b[0;34m(self, instruction)\u001b[0m\n\u001b[1;32m    128\u001b[0m             \u001b[0mdesugared_src_location\u001b[0m\u001b[0;34m[\u001b[0m\u001b[0;34m'expression_index'\u001b[0m\u001b[0;34m]\u001b[0m \u001b[0;34m=\u001b[0m \u001b[0mnew_index\u001b[0m\u001b[0;34m\u001b[0m\u001b[0m\n\u001b[1;32m    129\u001b[0m         \u001b[0;32mtry\u001b[0m\u001b[0;34m:\u001b[0m\u001b[0;34m\u001b[0m\u001b[0m\n\u001b[0;32m--> 130\u001b[0;31m             \u001b[0mresponse\u001b[0m \u001b[0;34m=\u001b[0m \u001b[0mself\u001b[0m\u001b[0;34m.\u001b[0m\u001b[0mcore_sivm\u001b[0m\u001b[0;34m.\u001b[0m\u001b[0mexecute_instruction\u001b[0m\u001b[0;34m(\u001b[0m\u001b[0mdesugared_instruction\u001b[0m\u001b[0;34m)\u001b[0m\u001b[0;34m\u001b[0m\u001b[0m\n\u001b[0m\u001b[1;32m    131\u001b[0m         \u001b[0;32mexcept\u001b[0m \u001b[0mVentureException\u001b[0m \u001b[0;32mas\u001b[0m \u001b[0me\u001b[0m\u001b[0;34m:\u001b[0m\u001b[0;34m\u001b[0m\u001b[0m\n\u001b[1;32m    132\u001b[0m             \u001b[0;31m# raise # One can suppress error annotation by uncommenting this\u001b[0m\u001b[0;34m\u001b[0m\u001b[0;34m\u001b[0m\u001b[0m\n",
        "\u001b[0;32m/usr/local/lib/python2.7/dist-packages/venture/sivm/core_sivm.pyc\u001b[0m in \u001b[0;36mexecute_instruction\u001b[0;34m(self, instruction)\u001b[0m\n\u001b[1;32m     43\u001b[0m         \u001b[0mutils\u001b[0m\u001b[0;34m.\u001b[0m\u001b[0mvalidate_instruction\u001b[0m\u001b[0;34m(\u001b[0m\u001b[0minstruction\u001b[0m\u001b[0;34m,\u001b[0m\u001b[0mself\u001b[0m\u001b[0;34m.\u001b[0m\u001b[0m_implemented_instructions\u001b[0m\u001b[0;34m)\u001b[0m\u001b[0;34m\u001b[0m\u001b[0m\n\u001b[1;32m     44\u001b[0m         \u001b[0mf\u001b[0m \u001b[0;34m=\u001b[0m \u001b[0mgetattr\u001b[0m\u001b[0;34m(\u001b[0m\u001b[0mself\u001b[0m\u001b[0;34m,\u001b[0m\u001b[0;34m'_do_'\u001b[0m\u001b[0;34m+\u001b[0m\u001b[0minstruction\u001b[0m\u001b[0;34m[\u001b[0m\u001b[0;34m'instruction'\u001b[0m\u001b[0;34m]\u001b[0m\u001b[0;34m)\u001b[0m\u001b[0;34m\u001b[0m\u001b[0m\n\u001b[0;32m---> 45\u001b[0;31m         \u001b[0;32mreturn\u001b[0m \u001b[0mf\u001b[0m\u001b[0;34m(\u001b[0m\u001b[0minstruction\u001b[0m\u001b[0;34m)\u001b[0m\u001b[0;34m\u001b[0m\u001b[0m\n\u001b[0m\u001b[1;32m     46\u001b[0m \u001b[0;34m\u001b[0m\u001b[0m\n\u001b[1;32m     47\u001b[0m     \u001b[0;31m###############################\u001b[0m\u001b[0;34m\u001b[0m\u001b[0;34m\u001b[0m\u001b[0m\n",
        "\u001b[0;32m/usr/local/lib/python2.7/dist-packages/venture/sivm/core_sivm.pyc\u001b[0m in \u001b[0;36m_do_infer\u001b[0;34m(self, instruction)\u001b[0m\n\u001b[1;32m    150\u001b[0m         e = utils.validate_arg(instruction,'expression',\n\u001b[1;32m    151\u001b[0m                 utils.validate_expression,modifier=_modify_expression, wrap_exception=False)\n\u001b[0;32m--> 152\u001b[0;31m         \u001b[0mval\u001b[0m \u001b[0;34m=\u001b[0m \u001b[0mself\u001b[0m\u001b[0;34m.\u001b[0m\u001b[0mengine\u001b[0m\u001b[0;34m.\u001b[0m\u001b[0minfer\u001b[0m\u001b[0;34m(\u001b[0m\u001b[0me\u001b[0m\u001b[0;34m)\u001b[0m\u001b[0;34m\u001b[0m\u001b[0m\n\u001b[0m\u001b[1;32m    153\u001b[0m         \u001b[0;32mreturn\u001b[0m \u001b[0;34m{\u001b[0m\u001b[0;34m\"value\"\u001b[0m\u001b[0;34m:\u001b[0m\u001b[0mval\u001b[0m\u001b[0;34m}\u001b[0m\u001b[0;34m\u001b[0m\u001b[0m\n\u001b[1;32m    154\u001b[0m \u001b[0;34m\u001b[0m\u001b[0m\n",
        "\u001b[0;32m/usr/local/lib/python2.7/dist-packages/venture/engine/engine.pyc\u001b[0m in \u001b[0;36minfer\u001b[0;34m(self, program)\u001b[0m\n\u001b[1;32m    176\u001b[0m       \u001b[0;32mwith\u001b[0m \u001b[0mself\u001b[0m\u001b[0;34m.\u001b[0m\u001b[0minference_trace\u001b[0m\u001b[0;34m(\u001b[0m\u001b[0;34m)\u001b[0m\u001b[0;34m:\u001b[0m\u001b[0;34m\u001b[0m\u001b[0m\n\u001b[1;32m    177\u001b[0m         \u001b[0;32mwith\u001b[0m \u001b[0mself\u001b[0m\u001b[0;34m.\u001b[0m\u001b[0mself_evaluating_scope_hack\u001b[0m\u001b[0;34m(\u001b[0m\u001b[0;34m)\u001b[0m\u001b[0;34m:\u001b[0m\u001b[0;34m\u001b[0m\u001b[0m\n\u001b[0;32m--> 178\u001b[0;31m           \u001b[0;32mreturn\u001b[0m \u001b[0mself\u001b[0m\u001b[0;34m.\u001b[0m\u001b[0m_extract_infer_result\u001b[0m\u001b[0;34m(\u001b[0m\u001b[0mself\u001b[0m\u001b[0;34m.\u001b[0m\u001b[0m_do_infer\u001b[0m\u001b[0;34m(\u001b[0m\u001b[0mprogram\u001b[0m\u001b[0;34m)\u001b[0m\u001b[0;34m)\u001b[0m\u001b[0;34m\u001b[0m\u001b[0m\n\u001b[0m\u001b[1;32m    179\u001b[0m \u001b[0;34m\u001b[0m\u001b[0m\n\u001b[1;32m    180\u001b[0m   \u001b[0;32mdef\u001b[0m \u001b[0mis_infer_loop_program\u001b[0m\u001b[0;34m(\u001b[0m\u001b[0mself\u001b[0m\u001b[0;34m,\u001b[0m \u001b[0mprogram\u001b[0m\u001b[0;34m)\u001b[0m\u001b[0;34m:\u001b[0m\u001b[0;34m\u001b[0m\u001b[0m\n",
        "\u001b[0;32m/usr/local/lib/python2.7/dist-packages/venture/engine/engine.pyc\u001b[0m in \u001b[0;36m_do_infer\u001b[0;34m(self, program)\u001b[0m\n\u001b[1;32m    184\u001b[0m     \u001b[0mself\u001b[0m\u001b[0;34m.\u001b[0m\u001b[0mdirectiveCounter\u001b[0m \u001b[0;34m+=\u001b[0m \u001b[0;36m1\u001b[0m\u001b[0;34m\u001b[0m\u001b[0m\n\u001b[1;32m    185\u001b[0m     \u001b[0mdid\u001b[0m \u001b[0;34m=\u001b[0m \u001b[0mself\u001b[0m\u001b[0;34m.\u001b[0m\u001b[0mdirectiveCounter\u001b[0m \u001b[0;31m# Might be mutated by reentrant execution\u001b[0m\u001b[0;34m\u001b[0m\u001b[0m\n\u001b[0;32m--> 186\u001b[0;31m     \u001b[0mself\u001b[0m\u001b[0;34m.\u001b[0m\u001b[0minfer_trace\u001b[0m\u001b[0;34m.\u001b[0m\u001b[0meval\u001b[0m\u001b[0;34m(\u001b[0m\u001b[0mdid\u001b[0m\u001b[0;34m,\u001b[0m \u001b[0;34m[\u001b[0m\u001b[0mprogram\u001b[0m\u001b[0;34m,\u001b[0m \u001b[0mv\u001b[0m\u001b[0;34m.\u001b[0m\u001b[0mblob\u001b[0m\u001b[0;34m(\u001b[0m\u001b[0mInfer\u001b[0m\u001b[0;34m(\u001b[0m\u001b[0mself\u001b[0m\u001b[0;34m)\u001b[0m\u001b[0;34m)\u001b[0m\u001b[0;34m]\u001b[0m\u001b[0;34m)\u001b[0m\u001b[0;34m\u001b[0m\u001b[0m\n\u001b[0m\u001b[1;32m    187\u001b[0m     \u001b[0;32mreturn\u001b[0m \u001b[0mdid\u001b[0m\u001b[0;34m\u001b[0m\u001b[0m\n\u001b[1;32m    188\u001b[0m \u001b[0;34m\u001b[0m\u001b[0m\n",
        "\u001b[0;32m/usr/local/lib/python2.7/dist-packages/venture/lite/trace.pyc\u001b[0m in \u001b[0;36meval\u001b[0;34m(self, id, exp)\u001b[0m\n\u001b[1;32m    335\u001b[0m   \u001b[0;32mdef\u001b[0m \u001b[0meval\u001b[0m\u001b[0;34m(\u001b[0m\u001b[0mself\u001b[0m\u001b[0;34m,\u001b[0m\u001b[0mid\u001b[0m\u001b[0;34m,\u001b[0m\u001b[0mexp\u001b[0m\u001b[0;34m)\u001b[0m\u001b[0;34m:\u001b[0m\u001b[0;34m\u001b[0m\u001b[0m\n\u001b[1;32m    336\u001b[0m     \u001b[0;32massert\u001b[0m \u001b[0;32mnot\u001b[0m \u001b[0mid\u001b[0m \u001b[0;32min\u001b[0m \u001b[0mself\u001b[0m\u001b[0;34m.\u001b[0m\u001b[0mfamilies\u001b[0m\u001b[0;34m\u001b[0m\u001b[0m\n\u001b[0;32m--> 337\u001b[0;31m     \u001b[0;34m(\u001b[0m\u001b[0m_\u001b[0m\u001b[0;34m,\u001b[0m\u001b[0mself\u001b[0m\u001b[0;34m.\u001b[0m\u001b[0mfamilies\u001b[0m\u001b[0;34m[\u001b[0m\u001b[0mid\u001b[0m\u001b[0;34m]\u001b[0m\u001b[0;34m)\u001b[0m \u001b[0;34m=\u001b[0m \u001b[0mevalFamily\u001b[0m\u001b[0;34m(\u001b[0m\u001b[0mself\u001b[0m\u001b[0;34m,\u001b[0m\u001b[0mAddress\u001b[0m\u001b[0;34m(\u001b[0m\u001b[0mList\u001b[0m\u001b[0;34m(\u001b[0m\u001b[0mid\u001b[0m\u001b[0;34m)\u001b[0m\u001b[0;34m)\u001b[0m\u001b[0;34m,\u001b[0m\u001b[0mself\u001b[0m\u001b[0;34m.\u001b[0m\u001b[0munboxExpression\u001b[0m\u001b[0;34m(\u001b[0m\u001b[0mexp\u001b[0m\u001b[0;34m)\u001b[0m\u001b[0;34m,\u001b[0m\u001b[0mself\u001b[0m\u001b[0;34m.\u001b[0m\u001b[0mglobalEnv\u001b[0m\u001b[0;34m,\u001b[0m\u001b[0mScaffold\u001b[0m\u001b[0;34m(\u001b[0m\u001b[0;34m)\u001b[0m\u001b[0;34m,\u001b[0m\u001b[0mFalse\u001b[0m\u001b[0;34m,\u001b[0m\u001b[0mOmegaDB\u001b[0m\u001b[0;34m(\u001b[0m\u001b[0;34m)\u001b[0m\u001b[0;34m,\u001b[0m\u001b[0;34m{\u001b[0m\u001b[0;34m}\u001b[0m\u001b[0;34m)\u001b[0m\u001b[0;34m\u001b[0m\u001b[0m\n\u001b[0m\u001b[1;32m    338\u001b[0m \u001b[0;34m\u001b[0m\u001b[0m\n\u001b[1;32m    339\u001b[0m   \u001b[0;32mdef\u001b[0m \u001b[0mbindInGlobalEnv\u001b[0m\u001b[0;34m(\u001b[0m\u001b[0mself\u001b[0m\u001b[0;34m,\u001b[0m\u001b[0msym\u001b[0m\u001b[0;34m,\u001b[0m\u001b[0mid\u001b[0m\u001b[0;34m)\u001b[0m\u001b[0;34m:\u001b[0m\u001b[0;34m\u001b[0m\u001b[0m\n",
        "\u001b[0;32m/usr/local/lib/python2.7/dist-packages/venture/lite/regen.pyc\u001b[0m in \u001b[0;36mevalFamily\u001b[0;34m(trace, address, exp, env, scaffold, shouldRestore, omegaDB, gradients)\u001b[0m\n\u001b[1;32m    128\u001b[0m     \u001b[0;34m(\u001b[0m\u001b[0mrequestNode\u001b[0m\u001b[0;34m,\u001b[0m\u001b[0moutputNode\u001b[0m\u001b[0;34m)\u001b[0m \u001b[0;34m=\u001b[0m \u001b[0mtrace\u001b[0m\u001b[0;34m.\u001b[0m\u001b[0mcreateApplicationNodes\u001b[0m\u001b[0;34m(\u001b[0m\u001b[0maddress\u001b[0m\u001b[0;34m,\u001b[0m\u001b[0mnodes\u001b[0m\u001b[0;34m[\u001b[0m\u001b[0;36m0\u001b[0m\u001b[0;34m]\u001b[0m\u001b[0;34m,\u001b[0m\u001b[0mnodes\u001b[0m\u001b[0;34m[\u001b[0m\u001b[0;36m1\u001b[0m\u001b[0;34m:\u001b[0m\u001b[0;34m]\u001b[0m\u001b[0;34m,\u001b[0m\u001b[0menv\u001b[0m\u001b[0;34m)\u001b[0m\u001b[0;34m\u001b[0m\u001b[0m\n\u001b[1;32m    129\u001b[0m     \u001b[0;32mtry\u001b[0m\u001b[0;34m:\u001b[0m\u001b[0;34m\u001b[0m\u001b[0m\n\u001b[0;32m--> 130\u001b[0;31m       \u001b[0mweight\u001b[0m \u001b[0;34m+=\u001b[0m \u001b[0mapply\u001b[0m\u001b[0;34m(\u001b[0m\u001b[0mtrace\u001b[0m\u001b[0;34m,\u001b[0m\u001b[0mrequestNode\u001b[0m\u001b[0;34m,\u001b[0m\u001b[0moutputNode\u001b[0m\u001b[0;34m,\u001b[0m\u001b[0mscaffold\u001b[0m\u001b[0;34m,\u001b[0m\u001b[0mshouldRestore\u001b[0m\u001b[0;34m,\u001b[0m\u001b[0momegaDB\u001b[0m\u001b[0;34m,\u001b[0m\u001b[0mgradients\u001b[0m\u001b[0;34m)\u001b[0m\u001b[0;34m\u001b[0m\u001b[0m\n\u001b[0m\u001b[1;32m    131\u001b[0m     \u001b[0;32mexcept\u001b[0m \u001b[0mVentureNestedRiplMethodError\u001b[0m \u001b[0;32mas\u001b[0m \u001b[0merr\u001b[0m\u001b[0;34m:\u001b[0m\u001b[0;34m\u001b[0m\u001b[0m\n\u001b[1;32m    132\u001b[0m       \u001b[0;31m# This is a hack to allow errors raised by inference SP actions\u001b[0m\u001b[0;34m\u001b[0m\u001b[0;34m\u001b[0m\u001b[0m\n",
        "\u001b[0;32m/usr/local/lib/python2.7/dist-packages/venture/lite/regen.pyc\u001b[0m in \u001b[0;36mapply\u001b[0;34m(trace, requestNode, outputNode, scaffold, shouldRestore, omegaDB, gradients)\u001b[0m\n\u001b[1;32m    150\u001b[0m   \u001b[0;32massert\u001b[0m \u001b[0mlen\u001b[0m\u001b[0;34m(\u001b[0m\u001b[0mtrace\u001b[0m\u001b[0;34m.\u001b[0m\u001b[0mesrParentsAt\u001b[0m\u001b[0;34m(\u001b[0m\u001b[0moutputNode\u001b[0m\u001b[0;34m)\u001b[0m\u001b[0;34m)\u001b[0m \u001b[0;34m==\u001b[0m \u001b[0mlen\u001b[0m\u001b[0;34m(\u001b[0m\u001b[0mtrace\u001b[0m\u001b[0;34m.\u001b[0m\u001b[0mvalueAt\u001b[0m\u001b[0;34m(\u001b[0m\u001b[0mrequestNode\u001b[0m\u001b[0;34m)\u001b[0m\u001b[0;34m.\u001b[0m\u001b[0mesrs\u001b[0m\u001b[0;34m)\u001b[0m\u001b[0;34m\u001b[0m\u001b[0m\n\u001b[1;32m    151\u001b[0m   \u001b[0mweight\u001b[0m \u001b[0;34m+=\u001b[0m \u001b[0mregenESRParents\u001b[0m\u001b[0;34m(\u001b[0m\u001b[0mtrace\u001b[0m\u001b[0;34m,\u001b[0m\u001b[0moutputNode\u001b[0m\u001b[0;34m,\u001b[0m\u001b[0mscaffold\u001b[0m\u001b[0;34m,\u001b[0m\u001b[0mshouldRestore\u001b[0m\u001b[0;34m,\u001b[0m\u001b[0momegaDB\u001b[0m\u001b[0;34m,\u001b[0m\u001b[0mgradients\u001b[0m\u001b[0;34m)\u001b[0m\u001b[0;34m\u001b[0m\u001b[0m\n\u001b[0;32m--> 152\u001b[0;31m   \u001b[0mweight\u001b[0m \u001b[0;34m+=\u001b[0m \u001b[0mapplyPSP\u001b[0m\u001b[0;34m(\u001b[0m\u001b[0mtrace\u001b[0m\u001b[0;34m,\u001b[0m\u001b[0moutputNode\u001b[0m\u001b[0;34m,\u001b[0m\u001b[0mscaffold\u001b[0m\u001b[0;34m,\u001b[0m\u001b[0mshouldRestore\u001b[0m\u001b[0;34m,\u001b[0m\u001b[0momegaDB\u001b[0m\u001b[0;34m,\u001b[0m\u001b[0mgradients\u001b[0m\u001b[0;34m)\u001b[0m\u001b[0;34m\u001b[0m\u001b[0m\n\u001b[0m\u001b[1;32m    153\u001b[0m   \u001b[0;32massert\u001b[0m \u001b[0misinstance\u001b[0m\u001b[0;34m(\u001b[0m\u001b[0mweight\u001b[0m\u001b[0;34m,\u001b[0m \u001b[0mnumbers\u001b[0m\u001b[0;34m.\u001b[0m\u001b[0mNumber\u001b[0m\u001b[0;34m)\u001b[0m\u001b[0;34m\u001b[0m\u001b[0m\n\u001b[1;32m    154\u001b[0m   \u001b[0;32mreturn\u001b[0m \u001b[0mweight\u001b[0m\u001b[0;34m\u001b[0m\u001b[0m\n",
        "\u001b[0;32m/usr/local/lib/python2.7/dist-packages/venture/lite/regen.pyc\u001b[0m in \u001b[0;36mapplyPSP\u001b[0;34m(trace, node, scaffold, shouldRestore, omegaDB, gradients)\u001b[0m\n\u001b[1;32m    180\u001b[0m   \u001b[0;32melse\u001b[0m\u001b[0;34m:\u001b[0m\u001b[0;34m\u001b[0m\u001b[0m\n\u001b[1;32m    181\u001b[0m     \u001b[0;31m# if we simulate from the prior, the weight is 0\u001b[0m\u001b[0;34m\u001b[0m\u001b[0;34m\u001b[0m\u001b[0m\n\u001b[0;32m--> 182\u001b[0;31m     \u001b[0mnewValue\u001b[0m \u001b[0;34m=\u001b[0m \u001b[0mpsp\u001b[0m\u001b[0;34m.\u001b[0m\u001b[0msimulate\u001b[0m\u001b[0;34m(\u001b[0m\u001b[0margs\u001b[0m\u001b[0;34m)\u001b[0m \u001b[0;32mif\u001b[0m \u001b[0;32mnot\u001b[0m \u001b[0mshouldRestore\u001b[0m \u001b[0;32melse\u001b[0m \u001b[0moldValue\u001b[0m\u001b[0;34m\u001b[0m\u001b[0m\n\u001b[0m\u001b[1;32m    183\u001b[0m \u001b[0;34m\u001b[0m\u001b[0m\n\u001b[1;32m    184\u001b[0m   \u001b[0mtrace\u001b[0m\u001b[0;34m.\u001b[0m\u001b[0msetValueAt\u001b[0m\u001b[0;34m(\u001b[0m\u001b[0mnode\u001b[0m\u001b[0;34m,\u001b[0m\u001b[0mnewValue\u001b[0m\u001b[0;34m)\u001b[0m\u001b[0;34m\u001b[0m\u001b[0m\n",
        "\u001b[0;32m/usr/local/lib/python2.7/dist-packages/venture/lite/psp.pyc\u001b[0m in \u001b[0;36msimulate\u001b[0;34m(self, args)\u001b[0m\n\u001b[1;32m    305\u001b[0m \u001b[0;34m\u001b[0m\u001b[0m\n\u001b[1;32m    306\u001b[0m   \u001b[0;32mdef\u001b[0m \u001b[0msimulate\u001b[0m\u001b[0;34m(\u001b[0m\u001b[0mself\u001b[0m\u001b[0;34m,\u001b[0m\u001b[0margs\u001b[0m\u001b[0;34m)\u001b[0m\u001b[0;34m:\u001b[0m\u001b[0;34m\u001b[0m\u001b[0m\n\u001b[0;32m--> 307\u001b[0;31m     \u001b[0;32mreturn\u001b[0m \u001b[0mself\u001b[0m\u001b[0;34m.\u001b[0m\u001b[0mf_type\u001b[0m\u001b[0;34m.\u001b[0m\u001b[0mwrap_return\u001b[0m\u001b[0;34m(\u001b[0m\u001b[0mself\u001b[0m\u001b[0;34m.\u001b[0m\u001b[0mpsp\u001b[0m\u001b[0;34m.\u001b[0m\u001b[0msimulate\u001b[0m\u001b[0;34m(\u001b[0m\u001b[0mself\u001b[0m\u001b[0;34m.\u001b[0m\u001b[0mf_type\u001b[0m\u001b[0;34m.\u001b[0m\u001b[0munwrap_args\u001b[0m\u001b[0;34m(\u001b[0m\u001b[0margs\u001b[0m\u001b[0;34m)\u001b[0m\u001b[0;34m)\u001b[0m\u001b[0;34m)\u001b[0m\u001b[0;34m\u001b[0m\u001b[0m\n\u001b[0m\u001b[1;32m    308\u001b[0m   \u001b[0;32mdef\u001b[0m \u001b[0mgradientOfSimulate\u001b[0m\u001b[0;34m(\u001b[0m\u001b[0mself\u001b[0m\u001b[0;34m,\u001b[0m \u001b[0margs\u001b[0m\u001b[0;34m,\u001b[0m \u001b[0mvalue\u001b[0m\u001b[0;34m,\u001b[0m \u001b[0mdirection\u001b[0m\u001b[0;34m)\u001b[0m\u001b[0;34m:\u001b[0m\u001b[0;34m\u001b[0m\u001b[0m\n\u001b[1;32m    309\u001b[0m     \u001b[0;31m# TODO Should gradientOfSimulate unwrap the direction and wrap the\u001b[0m\u001b[0;34m\u001b[0m\u001b[0;34m\u001b[0m\u001b[0m\n",
        "\u001b[0;32m/usr/local/lib/python2.7/dist-packages/venture/lite/inference_sps.pyc\u001b[0m in \u001b[0;36msimulate\u001b[0;34m(self, args)\u001b[0m\n\u001b[1;32m     28\u001b[0m     \u001b[0mself\u001b[0m\u001b[0;34m.\u001b[0m\u001b[0mexp\u001b[0m \u001b[0;34m=\u001b[0m \u001b[0;34m[\u001b[0m\u001b[0mname\u001b[0m\u001b[0;34m]\u001b[0m \u001b[0;34m+\u001b[0m \u001b[0mexp\u001b[0m\u001b[0;34m\u001b[0m\u001b[0m\n\u001b[1;32m     29\u001b[0m   \u001b[0;32mdef\u001b[0m \u001b[0msimulate\u001b[0m\u001b[0;34m(\u001b[0m\u001b[0mself\u001b[0m\u001b[0;34m,\u001b[0m \u001b[0margs\u001b[0m\u001b[0;34m)\u001b[0m\u001b[0;34m:\u001b[0m\u001b[0;34m\u001b[0m\u001b[0m\n\u001b[0;32m---> 30\u001b[0;31m     \u001b[0mans\u001b[0m \u001b[0;34m=\u001b[0m \u001b[0margs\u001b[0m\u001b[0;34m.\u001b[0m\u001b[0moperandValues\u001b[0m\u001b[0;34m[\u001b[0m\u001b[0;36m0\u001b[0m\u001b[0;34m]\u001b[0m\u001b[0;34m.\u001b[0m\u001b[0mprimitive_infer\u001b[0m\u001b[0;34m(\u001b[0m\u001b[0mself\u001b[0m\u001b[0;34m.\u001b[0m\u001b[0mexp\u001b[0m\u001b[0;34m)\u001b[0m\u001b[0;34m\u001b[0m\u001b[0m\n\u001b[0m\u001b[1;32m     31\u001b[0m     \u001b[0;32mreturn\u001b[0m \u001b[0;34m(\u001b[0m\u001b[0mans\u001b[0m\u001b[0;34m,\u001b[0m \u001b[0margs\u001b[0m\u001b[0;34m.\u001b[0m\u001b[0moperandValues\u001b[0m\u001b[0;34m[\u001b[0m\u001b[0;36m0\u001b[0m\u001b[0;34m]\u001b[0m\u001b[0;34m)\u001b[0m\u001b[0;34m\u001b[0m\u001b[0m\n\u001b[1;32m     32\u001b[0m \u001b[0;34m\u001b[0m\u001b[0m\n",
        "\u001b[0;32m/usr/local/lib/python2.7/dist-packages/venture/engine/inference.pyc\u001b[0m in \u001b[0;36mprimitive_infer\u001b[0;34m(self, exp)\u001b[0m\n\u001b[1;32m     86\u001b[0m       \u001b[0;32mreturn\u001b[0m \u001b[0mitem\u001b[0m\u001b[0;34m\u001b[0m\u001b[0m\n\u001b[1;32m     87\u001b[0m \u001b[0;34m\u001b[0m\u001b[0m\n\u001b[0;32m---> 88\u001b[0;31m   \u001b[0;32mdef\u001b[0m \u001b[0mprimitive_infer\u001b[0m\u001b[0;34m(\u001b[0m\u001b[0mself\u001b[0m\u001b[0;34m,\u001b[0m \u001b[0mexp\u001b[0m\u001b[0;34m)\u001b[0m\u001b[0;34m:\u001b[0m \u001b[0mself\u001b[0m\u001b[0;34m.\u001b[0m\u001b[0mengine\u001b[0m\u001b[0;34m.\u001b[0m\u001b[0mprimitive_infer\u001b[0m\u001b[0;34m(\u001b[0m\u001b[0mexp\u001b[0m\u001b[0;34m)\u001b[0m\u001b[0;34m\u001b[0m\u001b[0m\n\u001b[0m\u001b[1;32m     89\u001b[0m   \u001b[0;32mdef\u001b[0m \u001b[0mresample\u001b[0m\u001b[0;34m(\u001b[0m\u001b[0mself\u001b[0m\u001b[0;34m,\u001b[0m \u001b[0mct\u001b[0m\u001b[0;34m)\u001b[0m\u001b[0;34m:\u001b[0m \u001b[0mself\u001b[0m\u001b[0;34m.\u001b[0m\u001b[0mengine\u001b[0m\u001b[0;34m.\u001b[0m\u001b[0mresample\u001b[0m\u001b[0;34m(\u001b[0m\u001b[0mct\u001b[0m\u001b[0;34m,\u001b[0m \u001b[0;34m'sequential'\u001b[0m\u001b[0;34m)\u001b[0m\u001b[0;34m\u001b[0m\u001b[0m\n\u001b[1;32m     90\u001b[0m   \u001b[0;32mdef\u001b[0m \u001b[0mresample_serializing\u001b[0m\u001b[0;34m(\u001b[0m\u001b[0mself\u001b[0m\u001b[0;34m,\u001b[0m \u001b[0mct\u001b[0m\u001b[0;34m)\u001b[0m\u001b[0;34m:\u001b[0m \u001b[0mself\u001b[0m\u001b[0;34m.\u001b[0m\u001b[0mengine\u001b[0m\u001b[0;34m.\u001b[0m\u001b[0mresample\u001b[0m\u001b[0;34m(\u001b[0m\u001b[0mct\u001b[0m\u001b[0;34m,\u001b[0m \u001b[0;34m'serializing'\u001b[0m\u001b[0;34m)\u001b[0m\u001b[0;34m\u001b[0m\u001b[0m\n",
        "\u001b[0;32m/usr/local/lib/python2.7/dist-packages/venture/engine/engine.pyc\u001b[0m in \u001b[0;36mprimitive_infer\u001b[0;34m(self, exp)\u001b[0m\n\u001b[1;32m    260\u001b[0m       \u001b[0mself\u001b[0m\u001b[0;34m.\u001b[0m\u001b[0m_define_in\u001b[0m\u001b[0;34m(\u001b[0m\u001b[0mname\u001b[0m\u001b[0;34m,\u001b[0m \u001b[0mexp\u001b[0m\u001b[0;34m,\u001b[0m \u001b[0mnext_trace\u001b[0m\u001b[0;34m)\u001b[0m\u001b[0;34m\u001b[0m\u001b[0m\n\u001b[1;32m    261\u001b[0m \u001b[0;34m\u001b[0m\u001b[0m\n\u001b[0;32m--> 262\u001b[0;31m   \u001b[0;32mdef\u001b[0m \u001b[0mprimitive_infer\u001b[0m\u001b[0;34m(\u001b[0m\u001b[0mself\u001b[0m\u001b[0;34m,\u001b[0m \u001b[0mexp\u001b[0m\u001b[0;34m)\u001b[0m\u001b[0;34m:\u001b[0m \u001b[0mself\u001b[0m\u001b[0;34m.\u001b[0m\u001b[0mmodel\u001b[0m\u001b[0;34m.\u001b[0m\u001b[0mprimitive_infer\u001b[0m\u001b[0;34m(\u001b[0m\u001b[0mexp\u001b[0m\u001b[0;34m)\u001b[0m\u001b[0;34m\u001b[0m\u001b[0m\n\u001b[0m\u001b[1;32m    263\u001b[0m   \u001b[0;32mdef\u001b[0m \u001b[0mlogscore\u001b[0m\u001b[0;34m(\u001b[0m\u001b[0mself\u001b[0m\u001b[0;34m)\u001b[0m\u001b[0;34m:\u001b[0m \u001b[0;32mreturn\u001b[0m \u001b[0mself\u001b[0m\u001b[0;34m.\u001b[0m\u001b[0mmodel\u001b[0m\u001b[0;34m.\u001b[0m\u001b[0mlogscore\u001b[0m\u001b[0;34m(\u001b[0m\u001b[0;34m)\u001b[0m\u001b[0;34m\u001b[0m\u001b[0m\n\u001b[1;32m    264\u001b[0m   \u001b[0;32mdef\u001b[0m \u001b[0mlogscore_all\u001b[0m\u001b[0;34m(\u001b[0m\u001b[0mself\u001b[0m\u001b[0;34m)\u001b[0m\u001b[0;34m:\u001b[0m \u001b[0;32mreturn\u001b[0m \u001b[0mself\u001b[0m\u001b[0;34m.\u001b[0m\u001b[0mmodel\u001b[0m\u001b[0;34m.\u001b[0m\u001b[0mlogscore_all\u001b[0m\u001b[0;34m(\u001b[0m\u001b[0;34m)\u001b[0m\u001b[0;34m\u001b[0m\u001b[0m\n",
        "\u001b[0;32m/usr/local/lib/python2.7/dist-packages/venture/engine/trace_set.pyc\u001b[0m in \u001b[0;36mprimitive_infer\u001b[0;34m(self, exp)\u001b[0m\n\u001b[1;32m    177\u001b[0m \u001b[0;34m\u001b[0m\u001b[0m\n\u001b[1;32m    178\u001b[0m   \u001b[0;32mdef\u001b[0m \u001b[0mprimitive_infer\u001b[0m\u001b[0;34m(\u001b[0m\u001b[0mself\u001b[0m\u001b[0;34m,\u001b[0m \u001b[0mexp\u001b[0m\u001b[0;34m)\u001b[0m\u001b[0;34m:\u001b[0m\u001b[0;34m\u001b[0m\u001b[0m\n\u001b[0;32m--> 179\u001b[0;31m     \u001b[0mself\u001b[0m\u001b[0;34m.\u001b[0m\u001b[0mtraces\u001b[0m\u001b[0;34m.\u001b[0m\u001b[0mmap\u001b[0m\u001b[0;34m(\u001b[0m\u001b[0;34m'primitive_infer'\u001b[0m\u001b[0;34m,\u001b[0m \u001b[0mexp\u001b[0m\u001b[0;34m)\u001b[0m\u001b[0;34m\u001b[0m\u001b[0m\n\u001b[0m\u001b[1;32m    180\u001b[0m \u001b[0;34m\u001b[0m\u001b[0m\n\u001b[1;32m    181\u001b[0m   \u001b[0;32mdef\u001b[0m \u001b[0mlogscore\u001b[0m\u001b[0;34m(\u001b[0m\u001b[0mself\u001b[0m\u001b[0;34m)\u001b[0m\u001b[0;34m:\u001b[0m \u001b[0;32mreturn\u001b[0m \u001b[0mself\u001b[0m\u001b[0;34m.\u001b[0m\u001b[0mtraces\u001b[0m\u001b[0;34m.\u001b[0m\u001b[0mat_distinguished\u001b[0m\u001b[0;34m(\u001b[0m\u001b[0;34m'getGlobalLogScore'\u001b[0m\u001b[0;34m)\u001b[0m\u001b[0;34m\u001b[0m\u001b[0m\n",
        "\u001b[0;32m/usr/local/lib/python2.7/dist-packages/venture/multiprocess.pyc\u001b[0m in \u001b[0;36mmap\u001b[0;34m(self, cmd, *args, **kwargs)\u001b[0m\n\u001b[1;32m    192\u001b[0m     \u001b[0;32mif\u001b[0m \u001b[0many\u001b[0m\u001b[0;34m(\u001b[0m\u001b[0;34m[\u001b[0m\u001b[0mthrew_error\u001b[0m\u001b[0;34m(\u001b[0m\u001b[0mentry\u001b[0m\u001b[0;34m)\u001b[0m \u001b[0;32mfor\u001b[0m \u001b[0mentry\u001b[0m \u001b[0;32min\u001b[0m \u001b[0mres\u001b[0m\u001b[0;34m]\u001b[0m\u001b[0;34m)\u001b[0m\u001b[0;34m:\u001b[0m\u001b[0;34m\u001b[0m\u001b[0m\n\u001b[1;32m    193\u001b[0m       \u001b[0mexception_handler\u001b[0m \u001b[0;34m=\u001b[0m \u001b[0mWorkerExceptionHandler\u001b[0m\u001b[0;34m(\u001b[0m\u001b[0mres\u001b[0m\u001b[0;34m)\u001b[0m\u001b[0;34m\u001b[0m\u001b[0m\n\u001b[0;32m--> 194\u001b[0;31m       \u001b[0;32mraise\u001b[0m \u001b[0mexception_handler\u001b[0m\u001b[0;34m.\u001b[0m\u001b[0mgen_exception\u001b[0m\u001b[0;34m(\u001b[0m\u001b[0;34m)\u001b[0m\u001b[0;34m\u001b[0m\u001b[0m\n\u001b[0m\u001b[1;32m    195\u001b[0m     \u001b[0;32mreturn\u001b[0m \u001b[0mres\u001b[0m\u001b[0;34m\u001b[0m\u001b[0m\n\u001b[1;32m    196\u001b[0m \u001b[0;34m\u001b[0m\u001b[0m\n",
        "\u001b[0;31mKeyError\u001b[0m: '4.0\\n**************************************************\\nStack trace from worker:\\n**************************************************\\nTraceback (most recent call last):\\n  File \"/usr/local/lib/python2.7/dist-packages/venture/multiprocess.py\", line 91, in wrapped\\n    res = f(*args, **kwargs)\\n  File \"/usr/local/lib/python2.7/dist-packages/venture/lite/trace.py\", line 434, in primitive_infer\\n    mixMH(self, BlockScaffoldIndexer(scope, block), MHOperator())\\n  File \"/usr/local/lib/python2.7/dist-packages/venture/lite/infer/mh.py\", line 43, in mixMH\\n    proposedTrace,logAlpha = operator.propose(trace,index)\\n  File \"/usr/local/lib/python2.7/dist-packages/venture/lite/infer/mh.py\", line 133, in propose\\n    rhoWeight = self.prepare(trace, scaffold)\\n  File \"/usr/local/lib/python2.7/dist-packages/venture/lite/infer/mh.py\", line 121, in prepare\\n    rhoWeight,self.rhoDB = detachAndExtract(trace, scaffold, compute_gradient)\\n  File \"/usr/local/lib/python2.7/dist-packages/venture/lite/detach.py\", line 11, in detachAndExtract\\n    ans = detachAndExtractAtBorder(trace, scaffold.border[0], scaffold, compute_gradient=compute_gradient)\\n  File \"/usr/local/lib/python2.7/dist-packages/venture/lite/detach.py\", line 26, in detachAndExtractAtBorder\\n    weight += detach(trace, node, scaffold, omegaDB, compute_gradient)\\n  File \"/usr/local/lib/python2.7/dist-packages/venture/lite/detach.py\", line 50, in detach\\n    weight += extractParents(trace, node, scaffold, omegaDB, compute_gradient)\\n  File \"/usr/local/lib/python2.7/dist-packages/venture/lite/detach.py\", line 58, in extractParents\\n    weight += extract(trace, parent, scaffold, omegaDB, compute_gradient)\\n  File \"/usr/local/lib/python2.7/dist-packages/venture/lite/detach.py\", line 88, in extract\\n    weight += extractParents(trace, node, scaffold, omegaDB, compute_gradient)\\n  File \"/usr/local/lib/python2.7/dist-packages/venture/lite/detach.py\", line 58, in extractParents\\n    weight += extract(trace, parent, scaffold, omegaDB, compute_gradient)\\n  File \"/usr/local/lib/python2.7/dist-packages/venture/lite/detach.py\", line 88, in extract\\n    weight += extractParents(trace, node, scaffold, omegaDB, compute_gradient)\\n  File \"/usr/local/lib/python2.7/dist-packages/venture/lite/detach.py\", line 58, in extractParents\\n    weight += extract(trace, parent, scaffold, omegaDB, compute_gradient)\\n  File \"/usr/local/lib/python2.7/dist-packages/venture/lite/detach.py\", line 88, in extract\\n    weight += extractParents(trace, node, scaffold, omegaDB, compute_gradient)\\n  File \"/usr/local/lib/python2.7/dist-packages/venture/lite/detach.py\", line 56, in extractParents\\n    weight += extract(trace, parent, scaffold, omegaDB, compute_gradient)\\n  File \"/usr/local/lib/python2.7/dist-packages/venture/lite/detach.py\", line 88, in extract\\n    weight += extractParents(trace, node, scaffold, omegaDB, compute_gradient)\\n  File \"/usr/local/lib/python2.7/dist-packages/venture/lite/detach.py\", line 56, in extractParents\\n    weight += extract(trace, parent, scaffold, omegaDB, compute_gradient)\\n  File \"/usr/local/lib/python2.7/dist-packages/venture/lite/detach.py\", line 80, in extract\\n    weight += unapplyPSP(trace, node, scaffold, omegaDB, compute_gradient)\\n  File \"/usr/local/lib/python2.7/dist-packages/venture/lite/detach.py\", line 134, in unapplyPSP\\n    trace.unregisterRandomChoiceInScope(scope,block,blockNode)\\n  File \"/usr/local/lib/python2.7/dist-packages/venture/lite/trace.py\", line 90, in unregisterRandomChoiceInScope\\n    self.scopes[scope][block].remove(node)\\n  File \"/usr/local/lib/python2.7/dist-packages/venture/lite/smap.py\", line 9, in __getitem__\\n    return self.a[self.d[k]][1]\\nKeyError: 4.0\\n'"
       ]
      }
     ],
     "prompt_number": 23
    },
    {
     "cell_type": "code",
     "collapsed": false,
     "input": [
      "#ripl.infer(\"(repeat 50 (do  (mh block one 3) (mh order one 3) (gibbs edges one 5)))\")"
     ],
     "language": "python",
     "metadata": {},
     "outputs": []
    },
    {
     "cell_type": "code",
     "collapsed": false,
     "input": [
      "#ripl.infer(\"(repeat 100 (do  (mh block one 3)  (mh order all 1) (mh block_edge one 3) (gibbs edges one 5) (mh dag one 1)))\")"
     ],
     "language": "python",
     "metadata": {},
     "outputs": []
    },
    {
     "cell_type": "code",
     "collapsed": false,
     "input": [
      "dataset=ripl.infer(\"(collect \"+edgeStr +\" )\")\n",
      "df =dataset.asPandas()\n",
      "\n",
      "import seaborn as sns\n",
      "sns.set(style=\"darkgrid\")\n",
      "edgeMatrix = np.zeros((d,d))\n",
      "\n",
      "for i in range(d):\n",
      "    for j in range(d):\n",
      "        if (i!=j):\n",
      "            if len(df['e'+str(i)+str(j)].value_counts(True))>1:\n",
      "                edgeMatrix[i][j]=df['e'+str(i)+str(j)].value_counts(True)[1]\n",
      "            \n",
      "            \n",
      "f, ax = plt.subplots(figsize=(9, 9))\n",
      "#cmap = sns.diverging_palette(5, 20, as_cmap=True)\n",
      "sns.heatmap(edgeMatrix,vmax=1,vmin=0,cmap='Blues')\n",
      "f.tight_layout()"
     ],
     "language": "python",
     "metadata": {},
     "outputs": []
    },
    {
     "cell_type": "code",
     "collapsed": false,
     "input": [
      "end = time.time()\n",
      "print end - start"
     ],
     "language": "python",
     "metadata": {},
     "outputs": []
    },
    {
     "cell_type": "code",
     "collapsed": false,
     "input": [],
     "language": "python",
     "metadata": {},
     "outputs": []
    }
   ],
   "metadata": {}
  }
 ]
}