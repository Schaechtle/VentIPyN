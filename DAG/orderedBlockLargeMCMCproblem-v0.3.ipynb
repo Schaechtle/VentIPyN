{
 "metadata": {
  "kernelspec": {
   "codemirror_mode": {
    "name": "ipython",
    "version": 2
   },
   "display_name": "IPython (Python 2)",
   "language": "python",
   "name": "python2"
  },
  "name": "",
  "signature": "sha256:96b22da940e35b3b8f5469b6f22a3652c40df949ca81ca45ce22f5c52863b73f"
 },
 "nbformat": 3,
 "nbformat_minor": 0,
 "worksheets": [
  {
   "cells": [
    {
     "cell_type": "code",
     "collapsed": false,
     "input": [
      "from venture import shortcuts\n",
      "\n",
      "\n",
      "\n",
      "\n",
      "from venture.lite.builtin import typed_nr\n",
      "\n",
      "import numpy as np\n",
      "import numpy.linalg as la\n",
      "import numpy.random as npr\n",
      "import scipy.spatial.distance as spdist\n",
      "\n",
      "from venture.lite.function import VentureFunction\n",
      "from venture.lite.sp import SPType\n",
      "from venture.lite.discrete import  DiscretePSP\n",
      "import venture.lite.value as v\n",
      "import venture.value.dicts as d\n",
      "\n",
      "\n",
      "import scipy.io as sio\n",
      "\n",
      "import pylab as pl\n",
      "import seaborn\n",
      "import time\n",
      "\n",
      "\n",
      "import sys  \n",
      "sys.path.append('../SPs/')\n",
      "import order\n",
      "import dirDAG\n",
      "import edgePrior\n",
      "from dagMC import DAG\n",
      "from utils import ordering\n",
      "\n",
      "figlength = 16\n",
      "figheigth = 8\n",
      "xa = 0\n",
      "xb = 10\n",
      "ya = -50\n",
      "yb =50\n"
     ],
     "language": "python",
     "metadata": {},
     "outputs": [],
     "prompt_number": 1
    },
    {
     "cell_type": "code",
     "collapsed": false,
     "input": [
      "start = time.time()"
     ],
     "language": "python",
     "metadata": {},
     "outputs": [],
     "prompt_number": 2
    },
    {
     "cell_type": "code",
     "collapsed": false,
     "input": [
      "%pylab inline"
     ],
     "language": "python",
     "metadata": {},
     "outputs": [
      {
       "output_type": "stream",
       "stream": "stdout",
       "text": [
        "Populating the interactive namespace from numpy and matplotlib\n"
       ]
      }
     ],
     "prompt_number": 3
    },
    {
     "cell_type": "code",
     "collapsed": false,
     "input": [
      "ripl = shortcuts.make_lite_church_prime_ripl()"
     ],
     "language": "python",
     "metadata": {},
     "outputs": [],
     "prompt_number": 4
    },
    {
     "cell_type": "code",
     "collapsed": false,
     "input": [
      "ripl.bind_foreign_sp(\"in_order\", typed_nr(order.Order(), [v.HomogeneousArrayType(v.NumberType()),v.AnyType(),v.AnyType()], v.BoolType()))"
     ],
     "language": "python",
     "metadata": {},
     "outputs": [],
     "prompt_number": 5
    },
    {
     "cell_type": "code",
     "collapsed": false,
     "input": [
      "ripl.bind_foreign_sp(\"edge2\", typed_nr(edgePrior.EdgePrior(), [v.IntegerType(),v.IntegerType(),v.ProbabilityType(),v.HomogeneousArrayType(v.CountType()),v.AtomType(),v.AtomType()], v.BoolType(), min_req_args=2))"
     ],
     "language": "python",
     "metadata": {},
     "outputs": [],
     "prompt_number": 6
    },
    {
     "cell_type": "code",
     "collapsed": false,
     "input": [
      "ripl.bind_foreign_sp(\"dir_dag\",typed_nr(dirDAG.SymmetricDirichletDAGOutputPSP(), [v.PositiveType(),v.HomogeneousArrayType(v.HomogeneousArrayType(v.BoolType())), v.HomogeneousArrayType(v.IntegerType()),v.AnyType(),v.BoolType()],v.MatrixType(),min_req_args=4))"
     ],
     "language": "python",
     "metadata": {},
     "outputs": [],
     "prompt_number": 7
    },
    {
     "cell_type": "code",
     "collapsed": false,
     "input": [],
     "language": "python",
     "metadata": {},
     "outputs": [],
     "prompt_number": 7
    },
    {
     "cell_type": "heading",
     "level": 3,
     "metadata": {},
     "source": [
      "load data for fork / collider structure, i.e. 0 -> 2, 1 -> 2"
     ]
    },
    {
     "cell_type": "code",
     "collapsed": false,
     "input": [
      "mat_contents = sio.loadmat('../data/block.mat')\n",
      "data = mat_contents['data']"
     ],
     "language": "python",
     "metadata": {},
     "outputs": [],
     "prompt_number": 8
    },
    {
     "cell_type": "heading",
     "level": 1,
     "metadata": {},
     "source": [
      "Structure Learning"
     ]
    },
    {
     "cell_type": "code",
     "collapsed": false,
     "input": [
      "d=6\n",
      "dag =DAG(d)"
     ],
     "language": "python",
     "metadata": {},
     "outputs": [],
     "prompt_number": 9
    },
    {
     "cell_type": "code",
     "collapsed": false,
     "input": [
      "#ripl.infer(\"(resample 10)\")"
     ],
     "language": "python",
     "metadata": {},
     "outputs": [],
     "prompt_number": 10
    },
    {
     "cell_type": "heading",
     "level": 3,
     "metadata": {},
     "source": [
      "cpr"
     ]
    },
    {
     "cell_type": "code",
     "collapsed": false,
     "input": [
      "ripl.infer(\"(resample 20)\")"
     ],
     "language": "python",
     "metadata": {},
     "outputs": [
      {
       "metadata": {},
       "output_type": "pyout",
       "prompt_number": 11,
       "text": [
        "[]"
       ]
      }
     ],
     "prompt_number": 11
    },
    {
     "cell_type": "code",
     "collapsed": false,
     "input": [
      "ripl.assume(\"alpha\",\"0.5\")\n",
      "ripl.assume(\"crp\",\"(make_crp alpha)\")\n",
      "ripl.assume(\"get_block\",\"(mem (lambda (id) (scope_include (quote block) id (crp))))\") "
     ],
     "language": "python",
     "metadata": {},
     "outputs": [
      {
       "metadata": {},
       "output_type": "pyout",
       "prompt_number": 12,
       "text": [
        "'unknown spAux'"
       ]
      }
     ],
     "prompt_number": 12
    },
    {
     "cell_type": "code",
     "collapsed": false,
     "input": [
      "dir_parameter_Str,ordering_array_Str=ordering(d)\n",
      "\n",
      "ripl.assume(\"orderPrior\",dir_parameter_Str)\n",
      "ripl.assume(\"causal_order\",\"(scope_include (quote order) 0 \"+ordering_array_Str+\")\")\n",
      "ripl.assume(\"block_order\",\"(scope_include (quote order) 1 \"+ ordering_array_Str+\" )\")"
     ],
     "language": "python",
     "metadata": {},
     "outputs": [
      {
       "metadata": {},
       "output_type": "pyout",
       "prompt_number": 13,
       "text": [
        "[0.0, 2.0, 5.0, 1.0, 4.0, 3.0]"
       ]
      }
     ],
     "prompt_number": 13
    },
    {
     "cell_type": "code",
     "collapsed": false,
     "input": [
      "ripl.assume(\"p_ab\",\"(scope_include (quote block_edge) 0 (beta 1 1))\")\n",
      "\n",
      "ripl.assume(\"block_edge_prior\",\"(lambda (i j) (if (in_order block_order i j) p_ab 0 ))\")\n",
      "#ripl.assume(\"block_edge_prior\",\"(lambda (i j) p_ab)\")\n",
      "ripl.assume(\"edge_prior\",\"(mem (lambda (i j) (block_edge_prior (get_block i) (get_block j))))\")\n",
      "\n",
      "#ripl.assume(\"edge_prior\",\"(mem (lambda (i j) p_ab))\")"
     ],
     "language": "python",
     "metadata": {},
     "outputs": [
      {
       "metadata": {},
       "output_type": "pyout",
       "prompt_number": 14,
       "text": [
        "'unknown spAux'"
       ]
      }
     ],
     "prompt_number": 14
    },
    {
     "cell_type": "code",
     "collapsed": false,
     "input": [
      "ripl.assume(\"dag_scores\",v.VentureForeignBlob(dag))\n"
     ],
     "language": "python",
     "metadata": {},
     "outputs": [
      {
       "metadata": {},
       "output_type": "pyout",
       "prompt_number": 15,
       "text": [
        "<dagMC.DAG instance at 0x7f76e28803b0>"
       ]
      }
     ],
     "prompt_number": 15
    },
    {
     "cell_type": "code",
     "collapsed": false,
     "input": [
      "ripl.assume(\"interaction_alpha\",\"(scope_include (quote inter_hyper ) 0 (gamma 1 1))\")\n",
      "ripl.assume(\"interaction_crp\",\"(make_crp interaction_alpha)\")\n",
      "ripl.assume(\"get_interaction\",\"(mem (lambda (interaction_id) (scope_include (quote inter) interaction_id (interaction_crp))))\") "
     ],
     "language": "python",
     "metadata": {},
     "outputs": [
      {
       "metadata": {},
       "output_type": "pyout",
       "prompt_number": 16,
       "text": [
        "'unknown spAux'"
       ]
      }
     ],
     "prompt_number": 16
    },
    {
     "cell_type": "code",
     "collapsed": false,
     "input": [],
     "language": "python",
     "metadata": {},
     "outputs": [],
     "prompt_number": 16
    },
    {
     "cell_type": "code",
     "collapsed": false,
     "input": [
      "ripl.assume(\"e\",\"(mem(lambda (i j) (scope_include (quote edges ) j (edge2  i j (edge_prior i j) causal_order ))))\")"
     ],
     "language": "python",
     "metadata": {},
     "outputs": [
      {
       "metadata": {},
       "output_type": "pyout",
       "prompt_number": 17,
       "text": [
        "'unknown spAux'"
       ]
      }
     ],
     "prompt_number": 17
    },
    {
     "cell_type": "code",
     "collapsed": false,
     "input": [],
     "language": "python",
     "metadata": {},
     "outputs": [],
     "prompt_number": 17
    },
    {
     "cell_type": "code",
     "collapsed": false,
     "input": [
      "def produceEdgesAndDAG(d):\n",
      "    scope_i = 0\n",
      "    dagStr=\"(array \"\n",
      "    edgeStr=\"\"\n",
      "    for i in range(d):\n",
      "        dagStr+=\"(array \"\n",
      "        for j in range(d):\n",
      "            if i!=j:\n",
      "                eStr =\"(e \"+str(i)+\" \"+str(j)+ \")\"\n",
      "                e = \"e\"+str(i)+str(j)\n",
      "                edgeStr+=e+\" \"\n",
      "                scope_i+=1\n",
      "                #print(\"ripl.assume(\"+e+\",\"+eStr+\")\")\n",
      "                ripl.assume(e,eStr)\n",
      "                dagStr+=e+\" \"\n",
      "            else:\n",
      "                dagStr+=\"False \"\n",
      "        dagStr+=\" ) \"\n",
      "    dagStr+=\" ) \"\n",
      "    ripl.assume(\"dag\",dagStr)\n",
      "    #print(\"ripl.assume(dag,\"+dagStr+\"))\")\n",
      "    return edgeStr\n",
      "                    \n",
      "                \n",
      "edgeStr = produceEdgesAndDAG(d)               \n",
      "                "
     ],
     "language": "python",
     "metadata": {},
     "outputs": [],
     "prompt_number": 18
    },
    {
     "cell_type": "code",
     "collapsed": false,
     "input": [],
     "language": "python",
     "metadata": {},
     "outputs": [],
     "prompt_number": 18
    },
    {
     "cell_type": "code",
     "collapsed": false,
     "input": [
      "#ripl.assume(\"dag\",\"(array (array False False False False) (array False False False False) (array False False False False) (array False False False False) )\")"
     ],
     "language": "python",
     "metadata": {},
     "outputs": [],
     "prompt_number": 19
    },
    {
     "cell_type": "code",
     "collapsed": false,
     "input": [
      "#ripl.assume(\"dag\",\"(array (array False False True) (array False False True) (array False False False))\")"
     ],
     "language": "python",
     "metadata": {},
     "outputs": [],
     "prompt_number": 20
    },
    {
     "cell_type": "code",
     "collapsed": false,
     "input": [
      "ripl.assume(\"ranges\",\"(array 2 2 2 2 2 2)\")"
     ],
     "language": "python",
     "metadata": {},
     "outputs": [
      {
       "metadata": {},
       "output_type": "pyout",
       "prompt_number": 21,
       "text": [
        "[2.0, 2.0, 2.0, 2.0, 2.0, 2.0]"
       ]
      }
     ],
     "prompt_number": 21
    },
    {
     "cell_type": "code",
     "collapsed": false,
     "input": [
      "ripl.assume(\"dir_prior_on_cpd\",\"0.5\")"
     ],
     "language": "python",
     "metadata": {},
     "outputs": [
      {
       "metadata": {},
       "output_type": "pyout",
       "prompt_number": 22,
       "text": [
        "0.5"
       ]
      }
     ],
     "prompt_number": 22
    },
    {
     "cell_type": "code",
     "collapsed": false,
     "input": [
      "ripl.assume(\"dagdata\",\"(scope_include (quote dag) 0 (dir_dag dir_prior_on_cpd dag ranges dag_scores true))\"); "
     ],
     "language": "python",
     "metadata": {},
     "outputs": [],
     "prompt_number": 23
    },
    {
     "cell_type": "code",
     "collapsed": false,
     "input": [
      "dataset=ripl.infer(\"(collect \"+edgeStr +\" )\")\n",
      "df =dataset.asPandas()\n",
      "\n",
      "import seaborn as sns\n",
      "sns.set(style=\"darkgrid\")\n",
      "edgeMatrix = np.zeros((d,d))\n",
      "\n",
      "for i in range(d):\n",
      "    for j in range(d):\n",
      "        if (i!=j):\n",
      "            if len(df['e'+str(i)+str(j)].value_counts(True))>1:\n",
      "                edgeMatrix[i][j]=df['e'+str(i)+str(j)].value_counts(True)[1]\n",
      "            \n",
      "            \n",
      "f, ax = plt.subplots(figsize=(9, 9))\n",
      "#cmap = sns.diverging_palette(5, 20, as_cmap=True)\n",
      "sns.heatmap(edgeMatrix,vmax=1,vmin=0,cmap='Blues')\n",
      "f.tight_layout()"
     ],
     "language": "python",
     "metadata": {},
     "outputs": [
      {
       "metadata": {},
       "output_type": "display_data",
       "png": "[encoded data removed]",
       "text": [
        "<matplotlib.figure.Figure at 0x7f76c681c890>"
       ]
      }
     ],
     "prompt_number": 24
    },
    {
     "cell_type": "code",
     "collapsed": false,
     "input": [
      "ripl.observe(\"dagdata\",v.VentureMatrix(data))"
     ],
     "language": "python",
     "metadata": {},
     "outputs": [],
     "prompt_number": 25
    },
    {
     "cell_type": "code",
     "collapsed": false,
     "input": [
      "ripl.infer(1000) "
     ],
     "language": "python",
     "metadata": {},
     "outputs": [],
     "prompt_number": "*"
    },
    {
     "cell_type": "code",
     "collapsed": false,
     "input": [
      "#ripl.infer(\"(repeat 50 (do  (mh block one 3) (mh order one 3) (gibbs edges one 5)))\")"
     ],
     "language": "python",
     "metadata": {},
     "outputs": [],
     "prompt_number": 27
    },
    {
     "cell_type": "code",
     "collapsed": false,
     "input": [
      "#ripl.infer(\"(repeat 100 (do  (mh block one 3)  (mh order all 1) (mh block_edge one 3) (gibbs edges one 5) (mh dag one 1)))\")"
     ],
     "language": "python",
     "metadata": {},
     "outputs": [],
     "prompt_number": 28
    },
    {
     "cell_type": "code",
     "collapsed": false,
     "input": [
      "dataset=ripl.infer(\"(collect \"+edgeStr +\" )\")\n",
      "df =dataset.asPandas()\n",
      "\n",
      "import seaborn as sns\n",
      "sns.set(style=\"darkgrid\")\n",
      "edgeMatrix = np.zeros((d,d))\n",
      "\n",
      "for i in range(d):\n",
      "    for j in range(d):\n",
      "        if (i!=j):\n",
      "            if len(df['e'+str(i)+str(j)].value_counts(True))>1:\n",
      "                edgeMatrix[i][j]=df['e'+str(i)+str(j)].value_counts(True)[1]\n",
      "            \n",
      "            \n",
      "f, ax = plt.subplots(figsize=(9, 9))\n",
      "#cmap = sns.diverging_palette(5, 20, as_cmap=True)\n",
      "sns.heatmap(edgeMatrix,vmax=1,vmin=0,cmap='Blues')\n",
      "f.tight_layout()"
     ],
     "language": "python",
     "metadata": {},
     "outputs": [
      {
       "metadata": {},
       "output_type": "display_data",
       "png": "[encoded data removed]",
       "text": [
        "<matplotlib.figure.Figure at 0x7f76c2996f50>"
       ]
      }
     ],
     "prompt_number": 32
    },
    {
     "cell_type": "code",
     "collapsed": false,
     "input": [
      "end = time.time()\n",
      "print end - start"
     ],
     "language": "python",
     "metadata": {},
     "outputs": [
      {
       "output_type": "stream",
       "stream": "stdout",
       "text": [
        "39.6500229836\n"
       ]
      }
     ],
     "prompt_number": 30
    },
    {
     "cell_type": "code",
     "collapsed": false,
     "input": [],
     "language": "python",
     "metadata": {},
     "outputs": [],
     "prompt_number": 30
    }
   ],
   "metadata": {}
  }
 ]
}