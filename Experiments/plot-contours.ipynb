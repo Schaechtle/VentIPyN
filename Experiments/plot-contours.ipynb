{
 "metadata": {
  "name": ""
 },
 "nbformat": 3,
 "nbformat_minor": 0,
 "worksheets": [
  {
   "cells": [
    {
     "cell_type": "code",
     "collapsed": false,
     "input": [
      "import seaborn as sns\n",
      "import pylab as pl\n",
      "#from plotting import load_experiments\n",
      "import numpy as np\n",
      "import pandas as pd\n",
      "import scipy.io as scio\n",
      "from models.covFunctions import *\n",
      "\n",
      "from venture import shortcuts\n",
      "import sys\n",
      "sys.path.append('../SPs/')\n",
      "import venture.lite.types as t\n",
      "from venture.lite.function import VentureFunction\n",
      "import gp_der\n",
      "\n",
      "from models.tools import array\n",
      "figlength = 30\n",
      "figheigth = 15\n",
      "import random\n",
      "import os\n",
      "import matplotlib.pyplot as plt\n",
      "\n",
      "figlength = 10\n",
      "figheigth = 10"
     ],
     "language": "python",
     "metadata": {},
     "outputs": [],
     "prompt_number": 1
    },
    {
     "cell_type": "code",
     "collapsed": false,
     "input": [
      "def plot_contours(df,name):\n",
      "    df = df.loc[df['l'] < 10]\n",
      "    df = df.loc[df['sf'] < 10]\n",
      "    df = df.loc[df['l'] > -10]\n",
      "    df = df.loc[df['sf'] > -10]\n",
      "    joint_grid_plot(\"l\",\"sigma\",df,name)\n",
      "    joint_grid_plot(\"l\",\"sf\",df,name)\n",
      "    joint_grid_plot(\"sf\",\"sigma\",df,name,)\n",
      "    joint_grid_plot(\"l\",\"sigma\",df,name,False)\n",
      "    joint_grid_plot(\"l\",\"sf\",df,name,False)\n",
      "    joint_grid_plot(\"sf\",\"sigma\",df,name,False)"
     ],
     "language": "python",
     "metadata": {},
     "outputs": [],
     "prompt_number": 2
    },
    {
     "cell_type": "code",
     "collapsed": false,
     "input": [
      "no = 's'"
     ],
     "language": "python",
     "metadata": {},
     "outputs": [],
     "prompt_number": 3
    },
    {
     "cell_type": "code",
     "collapsed": false,
     "input": [
      "run_name = \"test01/\""
     ],
     "language": "python",
     "metadata": {},
     "outputs": [],
     "prompt_number": 4
    },
    {
     "cell_type": "code",
     "collapsed": false,
     "input": [
      "path= \"syndata/\"+run_name"
     ],
     "language": "python",
     "metadata": {},
     "outputs": [],
     "prompt_number": 5
    },
    {
     "cell_type": "code",
     "collapsed": false,
     "input": [
      "def joint_grid_plot(var1, var2, df, name, marginal=True):\n",
      "    if marginal:\n",
      "        g = sns.JointGrid(var1, var2, df, space=0)\n",
      "        g.plot_marginals(sns.kdeplot, shade=True)\n",
      "        name = \"_marginal_\" + name\n",
      "        g.plot_joint(sns.kdeplot, shade=True, cmap=\"PuBu\", n_levels=40);\n",
      "        ax = g.ax_joint\n",
      "        ax.set_xlabel(\"\")\n",
      "        ax.set_ylabel(\"\")\n",
      "    else:\n",
      "        sns.kdeplot(df[[var1, var2]].values, shade=True, cmap=\"PuBu\", n_levels=40);\n",
      "        sns.plt.xlabel(\"\")\n",
      "        sns.plt.ylabel(\"\")\n",
      "    sns.set(font_scale=2)\n",
      "    plt.savefig('/home/ulli/Dropbox/gpmemplots/'+path+'neal_contour_' + var1 + '_vs_' + var2 + '_' + no + '_'+name + '.png', dpi=200, bbox_inches='tight')\n",
      "    plt.clf()"
     ],
     "language": "python",
     "metadata": {},
     "outputs": [],
     "prompt_number": 6
    },
    {
     "cell_type": "code",
     "collapsed": false,
     "input": [
      "\n",
      "file_str = \"before_parameters_\"\n",
      "df_list =[]\n",
      "for i in os.listdir(path):\n",
      "    if os.path.isfile(os.path.join(path,i)) and 'before_parameters_' in i:\n",
      "        df = pd.read_pickle(path+i)\n",
      "        df_list.append(df)\n",
      "df_before=  pd.concat(df_list)\n",
      "\n"
     ],
     "language": "python",
     "metadata": {},
     "outputs": [],
     "prompt_number": 7
    },
    {
     "cell_type": "code",
     "collapsed": false,
     "input": [
      "df_before['Hyper-Parameter Learning']= pd.Series(['before' for _ in range(len(df_before))], index=df_before.index)"
     ],
     "language": "python",
     "metadata": {},
     "outputs": [],
     "prompt_number": 8
    },
    {
     "cell_type": "code",
     "collapsed": false,
     "input": [
      "#path= \"syndata/\"\n",
      "file_str = \"after_parameters_\"\n",
      "df_list =[]\n",
      "for i in os.listdir(path):\n",
      "    if os.path.isfile(os.path.join(path,i)) and 'after_parameters_' in i:\n",
      "        df = pd.read_pickle(path+i)\n",
      "        df_list.append(df)\n",
      "df_after =  pd.concat(df_list)"
     ],
     "language": "python",
     "metadata": {},
     "outputs": [],
     "prompt_number": 9
    },
    {
     "cell_type": "code",
     "collapsed": false,
     "input": [
      "df_after['Hyper-Parameter Learning']= pd.Series(['after' for _ in range(len(df_after))], index=df_after.index)"
     ],
     "language": "python",
     "metadata": {},
     "outputs": [],
     "prompt_number": 10
    },
    {
     "cell_type": "code",
     "collapsed": false,
     "input": [
      "plot_contours(df_before[['l','sf','sigma']],'before')\n",
      "plot_contours(df_after[['l','sf','sigma']],'after')"
     ],
     "language": "python",
     "metadata": {},
     "outputs": [],
     "prompt_number": 11
    },
    {
     "cell_type": "code",
     "collapsed": false,
     "input": [],
     "language": "python",
     "metadata": {},
     "outputs": [],
     "prompt_number": 11
    }
   ],
   "metadata": {}
  }
 ]
}