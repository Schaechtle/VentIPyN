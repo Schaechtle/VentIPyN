{
 "metadata": {
  "name": ""
 },
 "nbformat": 3,
 "nbformat_minor": 0,
 "worksheets": [
  {
   "cells": [
    {
     "cell_type": "code",
     "collapsed": false,
     "input": [
      "import pylab as pl\n",
      "import seaborn as sns\n",
      "from plotting import get_last_n_residuals\n",
      "import pandas as pd\n"
     ],
     "language": "python",
     "metadata": {},
     "outputs": [],
     "prompt_number": 1
    },
    {
     "cell_type": "code",
     "collapsed": false,
     "input": [
      "#df,b=get_last_n_residuals(\"experiment_test_residualgrep.ini\",\"2015-05-20\",10)"
     ],
     "language": "python",
     "metadata": {},
     "outputs": [],
     "prompt_number": "*"
    },
    {
     "cell_type": "code",
     "collapsed": false,
     "input": [
      "df,b=get_last_n_residuals(\"experiment.ini\",\"2015-05-21\",10,abs_value=False)"
     ],
     "language": "python",
     "metadata": {},
     "outputs": [],
     "prompt_number": "*"
    },
    {
     "cell_type": "code",
     "collapsed": false,
     "input": [
      "%pylab inline"
     ],
     "language": "python",
     "metadata": {},
     "outputs": [],
     "prompt_number": "*"
    },
    {
     "cell_type": "code",
     "collapsed": false,
     "input": [
      "g = sns.factorplot(x=\"n\", y=\"residuals\", hue=\"noise\",row=\"test_problem\",col=\"model\", data=df)\n",
      "g.set(ylim=(0, 1))"
     ],
     "language": "python",
     "metadata": {},
     "outputs": [],
     "prompt_number": "*"
    },
    {
     "cell_type": "code",
     "collapsed": false,
     "input": [
      "g = sns.factorplot(x=\"model\", y=\"residuals\",row=\"test_problem\",col=\"noise\",hue=\"model\", data=df)\n",
      "g.set(ylim=(0, 5))\n",
      "g.set_xticklabels(rotation=30)"
     ],
     "language": "python",
     "metadata": {},
     "outputs": [],
     "prompt_number": "*"
    },
    {
     "cell_type": "code",
     "collapsed": false,
     "input": [],
     "language": "python",
     "metadata": {},
     "outputs": [],
     "prompt_number": "*"
    }
   ],
   "metadata": {}
  }
 ]
}