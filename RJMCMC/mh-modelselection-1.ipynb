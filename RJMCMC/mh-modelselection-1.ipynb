{
 "metadata": {
  "name": ""
 },
 "nbformat": 3,
 "nbformat_minor": 0,
 "worksheets": [
  {
   "cells": [
    {
     "cell_type": "code",
     "collapsed": false,
     "input": [
      "from venture import shortcuts\n",
      "import numpy as np\n",
      "import pylab as pl\n",
      "import seaborn\n",
      "import time"
     ],
     "language": "python",
     "metadata": {},
     "outputs": [],
     "prompt_number": 1
    },
    {
     "cell_type": "code",
     "collapsed": false,
     "input": [
      "%pylab inline"
     ],
     "language": "python",
     "metadata": {},
     "outputs": [
      {
       "output_type": "stream",
       "stream": "stdout",
       "text": [
        "Populating the interactive namespace from numpy and matplotlib\n"
       ]
      }
     ],
     "prompt_number": 2
    },
    {
     "cell_type": "code",
     "collapsed": false,
     "input": [
      "ripl = shortcuts.make_lite_church_prime_ripl()"
     ],
     "language": "python",
     "metadata": {},
     "outputs": [],
     "prompt_number": 3
    },
    {
     "cell_type": "code",
     "collapsed": false,
     "input": [],
     "language": "python",
     "metadata": {},
     "outputs": [],
     "prompt_number": 3
    },
    {
     "cell_type": "code",
     "collapsed": false,
     "input": [
      "two_components=True"
     ],
     "language": "python",
     "metadata": {},
     "outputs": [],
     "prompt_number": 4
    },
    {
     "cell_type": "code",
     "collapsed": false,
     "input": [
      "if two_components:\n",
      "    data_generating_program = \"\"\"\n",
      "    [ASSUME gauss1 (lambda (  ) (normal 3 2))]\n",
      "    [ASSUME gauss2 (lambda (  ) (normal -3 1))]\n",
      "    [ASSUME data (lambda ( ) ((categorical (simplex 0.4 0.6) (array gauss1 gauss2))))]\n",
      "    \"\"\"\n",
      "else:\n",
      "    data_generating_program = \"\"\"\n",
      "    [ASSUME gauss1 (lambda (  ) (normal 5 1))]\n",
      "    [ASSUME gauss2 (lambda (  ) (normal 0 3))]\n",
      "    [ASSUME gauss2 (lambda (  ) (normal -6 1))]\n",
      "    [ASSUME data (lambda ( ) ((categorical (simplex 0.3 0.3 0.4) (array gauss1 gauss2 gauss3))))]\n",
      "    \"\"\"\n",
      "ripl.execute_program(data_generating_program)"
     ],
     "language": "python",
     "metadata": {},
     "outputs": [
      {
       "metadata": {},
       "output_type": "pyout",
       "prompt_number": 5,
       "text": [
        "[{'directive_id': 1, 'value': {'type': 'sp', 'value': 'unknown spAux'}},\n",
        " {'directive_id': 2, 'value': {'type': 'sp', 'value': 'unknown spAux'}},\n",
        " {'directive_id': 3, 'value': {'type': 'sp', 'value': 'unknown spAux'}}]"
       ]
      }
     ],
     "prompt_number": 5
    },
    {
     "cell_type": "code",
     "collapsed": false,
     "input": [
      "data = []\n",
      "n = 500\n",
      "for i in range(n):\n",
      "    data.append(ripl.sample(\"(data)\"))"
     ],
     "language": "python",
     "metadata": {},
     "outputs": [],
     "prompt_number": 6
    },
    {
     "cell_type": "code",
     "collapsed": false,
     "input": [
      "pl.hist(data)"
     ],
     "language": "python",
     "metadata": {},
     "outputs": [
      {
       "metadata": {},
       "output_type": "pyout",
       "prompt_number": 7,
       "text": [
        "(array([  24.,  111.,  121.,   46.,   18.,   35.,   57.,   38.,   30.,   20.]),\n",
        " array([-5.67744126, -4.38591152, -3.09438179, -1.80285205, -0.51132231,\n",
        "        0.78020742,  2.07173716,  3.36326689,  4.65479663,  5.94632637,\n",
        "        7.2378561 ]),\n",
        " <a list of 10 Patch objects>)"
       ]
      },
      {
       "metadata": {},
       "output_type": "display_data",
       "png": "[encoded data removed]",
       "text": [
        "<matplotlib.figure.Figure at 0x7fe5ba4c3cd0>"
       ]
      }
     ],
     "prompt_number": 7
    },
    {
     "cell_type": "code",
     "collapsed": false,
     "input": [
      "ripl.infer(\"(resample 100)\")"
     ],
     "language": "python",
     "metadata": {},
     "outputs": [
      {
       "metadata": {},
       "output_type": "pyout",
       "prompt_number": 8,
       "text": [
        "[]"
       ]
      }
     ],
     "prompt_number": 8
    },
    {
     "cell_type": "code",
     "collapsed": false,
     "input": [
      "program = \"\"\"\n",
      "[ASSUME d  (scope_include (quote hypers) 0 (make_uc_sym_dir_mult 0.5 2 (array 2 3)))]\n",
      "[ASSUME mixing  (scope_include (quote hypers) 1 (make_uc_sym_dir_mult 0.5  (d)))]\n",
      "[ASSUME g 1]\n",
      "[ASSUME h 1]\n",
      "[ASSUME alpha 1]\n",
      "\n",
      "\n",
      "\n",
      "[ASSUME get_mean (mem (lambda (component)\n",
      "  (scope_include (quote parameters) component (normal 0 10))))]\n",
      "\n",
      "[ASSUME get_beta (mem (lambda (component)\n",
      "  (scope_include (quote parameters) component (gamma g h))))]\n",
      "\n",
      "[ASSUME get_variance (mem (lambda (component)\n",
      "  (scope_include (quote parameters) component (gamma alpha (get_beta component)))))]\n",
      "\n",
      "\n",
      "[ASSUME get_datapoint (lambda (i)    (normal (get_mean (mixing)) (get_variance (mixing)))) ]\n",
      "\n",
      "\"\"\"\n",
      "ripl.execute_program(program)"
     ],
     "language": "python",
     "metadata": {},
     "outputs": [
      {
       "metadata": {},
       "output_type": "pyout",
       "prompt_number": 9,
       "text": [
        "[{'directive_id': 517,\n",
        "  'value': {'type': 'sp',\n",
        "   'value': {'alpha': 0.5,\n",
        "    'counts': [0, 0],\n",
        "    'n': 2,\n",
        "    'type': 'uc_sym_dir_mult'}}},\n",
        " {'directive_id': 518,\n",
        "  'value': {'type': 'sp',\n",
        "   'value': {'alpha': 0.5,\n",
        "    'counts': [0, 0],\n",
        "    'n': 2,\n",
        "    'type': 'uc_sym_dir_mult'}}},\n",
        " {'directive_id': 519, 'value': {'type': 'number', 'value': 1.0}},\n",
        " {'directive_id': 520, 'value': {'type': 'number', 'value': 1.0}},\n",
        " {'directive_id': 521, 'value': {'type': 'number', 'value': 1.0}},\n",
        " {'directive_id': 522, 'value': {'type': 'sp', 'value': 'unknown spAux'}},\n",
        " {'directive_id': 523, 'value': {'type': 'sp', 'value': 'unknown spAux'}},\n",
        " {'directive_id': 524, 'value': {'type': 'sp', 'value': 'unknown spAux'}},\n",
        " {'directive_id': 525, 'value': {'type': 'sp', 'value': 'unknown spAux'}}]"
       ]
      }
     ],
     "prompt_number": 9
    },
    {
     "cell_type": "code",
     "collapsed": false,
     "input": [],
     "language": "python",
     "metadata": {},
     "outputs": [],
     "prompt_number": "*"
    },
    {
     "cell_type": "code",
     "collapsed": false,
     "input": [
      "for i in range(n):\n",
      "    ripl.observe(\"(get_datapoint %d )\"% i,data[i]) "
     ],
     "language": "python",
     "metadata": {},
     "outputs": [],
     "prompt_number": "*"
    },
    {
     "cell_type": "code",
     "collapsed": false,
     "input": [
      "ripl.infer(\"(repeat 10 (do (mh hypers all 2) (mh parameters one 3) ))\")"
     ],
     "language": "python",
     "metadata": {},
     "outputs": [],
     "prompt_number": "*"
    },
    {
     "cell_type": "code",
     "collapsed": false,
     "input": [],
     "language": "python",
     "metadata": {},
     "outputs": [],
     "prompt_number": "*"
    },
    {
     "cell_type": "code",
     "collapsed": false,
     "input": [
      "dataset=ripl.infer(\"(collect (d) )\")\n",
      "df =dataset.asPandas()"
     ],
     "language": "python",
     "metadata": {},
     "outputs": [],
     "prompt_number": "*"
    },
    {
     "cell_type": "code",
     "collapsed": false,
     "input": [
      "ripl.infer(\"\"\"(let ((ds (empty)))\n",
      "   (do (repeat 1\n",
      "        (do (sample  (d))\n",
      "            (bind (collect (d) ) (curry into ds))))\n",
      "       (plotf (quote (h0)) ds)))\"\"\")"
     ],
     "language": "python",
     "metadata": {},
     "outputs": [],
     "prompt_number": "*"
    },
    {
     "cell_type": "code",
     "collapsed": false,
     "input": [],
     "language": "python",
     "metadata": {},
     "outputs": [],
     "prompt_number": "*"
    },
    {
     "cell_type": "code",
     "collapsed": false,
     "input": [],
     "language": "python",
     "metadata": {},
     "outputs": [],
     "prompt_number": "*"
    }
   ],
   "metadata": {}
  }
 ]
}