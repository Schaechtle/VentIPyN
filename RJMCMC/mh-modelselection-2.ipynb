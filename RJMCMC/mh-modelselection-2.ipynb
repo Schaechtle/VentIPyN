{
 "metadata": {
  "name": ""
 },
 "nbformat": 3,
 "nbformat_minor": 0,
 "worksheets": [
  {
   "cells": [
    {
     "cell_type": "code",
     "collapsed": false,
     "input": [
      "from venture import shortcuts\n",
      "import numpy as np\n",
      "import pylab as pl\n",
      "import seaborn\n",
      "import time\n",
      "from IPython.display import display, Math, Latex\n"
     ],
     "language": "python",
     "metadata": {},
     "outputs": [],
     "prompt_number": 1
    },
    {
     "cell_type": "code",
     "collapsed": false,
     "input": [
      "%pylab inline"
     ],
     "language": "python",
     "metadata": {},
     "outputs": [
      {
       "output_type": "stream",
       "stream": "stdout",
       "text": [
        "Populating the interactive namespace from numpy and matplotlib\n"
       ]
      }
     ],
     "prompt_number": 2
    },
    {
     "cell_type": "code",
     "collapsed": false,
     "input": [
      "ripl = shortcuts.make_lite_church_prime_ripl()"
     ],
     "language": "python",
     "metadata": {},
     "outputs": [],
     "prompt_number": 3
    },
    {
     "cell_type": "code",
     "collapsed": false,
     "input": [
      "two_components=True"
     ],
     "language": "python",
     "metadata": {},
     "outputs": [],
     "prompt_number": 4
    },
    {
     "cell_type": "code",
     "collapsed": false,
     "input": [
      "if two_components:\n",
      "    data_generating_program = \"\"\"\n",
      "    [ASSUME gauss1 (lambda (  ) (normal 3 2))]\n",
      "    [ASSUME gauss2 (lambda (  ) (normal -3 1))]\n",
      "    [ASSUME data (lambda ( ) ((categorical (simplex 0.4 0.6) (array gauss1 gauss2))))]\n",
      "    \"\"\"\n",
      "else:\n",
      "    data_generating_program = \"\"\"\n",
      "    [ASSUME gauss1 (lambda (  ) (normal 5 1))]\n",
      "    [ASSUME gauss2 (lambda (  ) (normal 0 3))]\n",
      "    [ASSUME gauss2 (lambda (  ) (normal -6 1))]\n",
      "    [ASSUME data (lambda ( ) ((categorical (simplex 0.3 0.3 0.4) (array gauss1 gauss2 gauss3))))]\n",
      "    \"\"\"\n",
      "ripl.execute_program(data_generating_program)"
     ],
     "language": "python",
     "metadata": {},
     "outputs": [
      {
       "metadata": {},
       "output_type": "pyout",
       "prompt_number": 5,
       "text": [
        "[{'directive_id': 1, 'value': {'type': 'sp', 'value': 'unknown spAux'}},\n",
        " {'directive_id': 2, 'value': {'type': 'sp', 'value': 'unknown spAux'}},\n",
        " {'directive_id': 3, 'value': {'type': 'sp', 'value': 'unknown spAux'}}]"
       ]
      }
     ],
     "prompt_number": 5
    },
    {
     "cell_type": "code",
     "collapsed": false,
     "input": [
      "data = []\n",
      "n = 500\n",
      "for i in range(n):\n",
      "    data.append(ripl.sample(\"(data)\"))"
     ],
     "language": "python",
     "metadata": {},
     "outputs": [],
     "prompt_number": 6
    },
    {
     "cell_type": "code",
     "collapsed": false,
     "input": [
      "pl.hist(data)"
     ],
     "language": "python",
     "metadata": {},
     "outputs": [
      {
       "metadata": {},
       "output_type": "pyout",
       "prompt_number": 7,
       "text": [
        "(array([  21.,   74.,  152.,   49.,   11.,   39.,   50.,   51.,   36.,   17.]),\n",
        " array([-6.31582126, -4.95684536, -3.59786946, -2.23889356, -0.87991765,\n",
        "        0.47905825,  1.83803415,  3.19701005,  4.55598595,  5.91496185,\n",
        "        7.27393775]),\n",
        " <a list of 10 Patch objects>)"
       ]
      },
      {
       "metadata": {},
       "output_type": "display_data",
       "png": "[encoded data removed]",
       "text": [
        "<matplotlib.figure.Figure at 0x7fc8879cc0d0>"
       ]
      }
     ],
     "prompt_number": 7
    },
    {
     "cell_type": "code",
     "collapsed": false,
     "input": [
      "ripl.infer(\"(resample 20)\")"
     ],
     "language": "python",
     "metadata": {},
     "outputs": [
      {
       "metadata": {},
       "output_type": "pyout",
       "prompt_number": 8,
       "text": [
        "[]"
       ]
      }
     ],
     "prompt_number": 8
    },
    {
     "cell_type": "raw",
     "metadata": {},
     "source": [
      "Recall that the kth weight is"
     ]
    },
    {
     "cell_type": "code",
     "collapsed": false,
     "input": [
      "display(Math(r'\\beta_k = (1 - \\beta_1) * (1 - \\beta_2) * ... * (1 - \\beta_{k-1}) * beta_k'))"
     ],
     "language": "python",
     "metadata": {},
     "outputs": [
      {
       "latex": [
        "$$\\beta_k = (1 - \\beta_1) * (1 - \\beta_2) * ... * (1 - \\beta_{k-1}) * beta_k$$"
       ],
       "metadata": {},
       "output_type": "display_data",
       "text": [
        "<IPython.core.display.Math at 0x7fc88781a750>"
       ]
      }
     ],
     "prompt_number": 9
    },
    {
     "cell_type": "raw",
     "metadata": {},
     "source": [
      "where each beta_i is drawn from a Beta distribution"
     ]
    },
    {
     "cell_type": "code",
     "collapsed": false,
     "input": [
      "display(Math(r'\\beta_i \\sim Beta(1, \\alpha)'))"
     ],
     "language": "python",
     "metadata": {},
     "outputs": [
      {
       "latex": [
        "$$\\beta_i \\sim Beta(1, \\alpha)$$"
       ],
       "metadata": {},
       "output_type": "display_data",
       "text": [
        "<IPython.core.display.Math at 0x7fc88781a750>"
       ]
      }
     ],
     "prompt_number": 10
    },
    {
     "cell_type": "code",
     "collapsed": false,
     "input": [
      "program = \"\"\"\n",
      "[ASSUME beta_param 0.5]\n",
      "[ASSUME my_beta (beta 1 beta_param )]\n",
      "[ASSUME pi  (lambda (i) (if (eq i 0) my_beta   (* ( - 1 (beta 1 beta_param ))(pi (- i 1)))))]\n",
      "\"\"\"\n",
      "ripl.execute_program(program)"
     ],
     "language": "python",
     "metadata": {},
     "outputs": [
      {
       "metadata": {},
       "output_type": "pyout",
       "prompt_number": 11,
       "text": [
        "[{'directive_id': 517, 'value': {'type': 'number', 'value': 0.5}},\n",
        " {'directive_id': 518,\n",
        "  'value': {'type': 'probability', 'value': 0.9515325061023582}},\n",
        " {'directive_id': 519, 'value': {'type': 'sp', 'value': 'unknown spAux'}}]"
       ]
      }
     ],
     "prompt_number": 11
    },
    {
     "cell_type": "code",
     "collapsed": false,
     "input": [
      "program = \"\"\"\n",
      "[ASSUME two_component ( tag (quote comps) 0 (flip 0.5))]\n",
      "[ASSUME mixing  (if two_component (categorical (simplex (pi 0) (pi 1))) (categorical (simplex (pi 0) (pi 1) (pi 2)))) ]\n",
      "[ASSUME g 1]\n",
      "[ASSUME h 1]\n",
      "[ASSUME alpha 1]\n",
      "\n",
      "\n",
      "\n",
      "[ASSUME get_mean (mem (lambda (component)\n",
      "  (tag (quote parameters) component (normal 0 10))))]\n",
      "\n",
      "[ASSUME get_beta (mem (lambda (component)\n",
      "  (tag (quote parameters) component (gamma g h))))]\n",
      "\n",
      "[ASSUME get_variance (mem (lambda (component)\n",
      "  (tag (quote parameters) component (gamma alpha (get_beta component)))))]\n",
      "\n",
      "\n",
      "[ASSUME get_datapoint (lambda (i)    (normal (get_mean  mixing ) (get_variance mixing ))) ]\n",
      "\n",
      "\"\"\"\n",
      "ripl.execute_program(program)\n"
     ],
     "language": "python",
     "metadata": {},
     "outputs": [
      {
       "metadata": {},
       "output_type": "pyout",
       "prompt_number": 13,
       "text": [
        "[{'directive_id': 521, 'value': {'type': 'boolean', 'value': False}},\n",
        " {'directive_id': 522, 'value': {'type': 'atom', 'value': 0}},\n",
        " {'directive_id': 523, 'value': {'type': 'number', 'value': 1.0}},\n",
        " {'directive_id': 524, 'value': {'type': 'number', 'value': 1.0}},\n",
        " {'directive_id': 525, 'value': {'type': 'number', 'value': 1.0}},\n",
        " {'directive_id': 526, 'value': {'type': 'sp', 'value': 'unknown spAux'}},\n",
        " {'directive_id': 527, 'value': {'type': 'sp', 'value': 'unknown spAux'}},\n",
        " {'directive_id': 528, 'value': {'type': 'sp', 'value': 'unknown spAux'}},\n",
        " {'directive_id': 529, 'value': {'type': 'sp', 'value': 'unknown spAux'}}]"
       ]
      }
     ],
     "prompt_number": 13
    },
    {
     "cell_type": "code",
     "collapsed": false,
     "input": [
      "dataset = ripl.infer(\"(collect two_component)\")\n",
      "df = dataset.asPandas()\n",
      "df['two_component'].plot(kind='hist')"
     ],
     "language": "python",
     "metadata": {},
     "outputs": [
      {
       "metadata": {},
       "output_type": "pyout",
       "prompt_number": 14,
       "text": [
        "<matplotlib.axes.AxesSubplot at 0x7fc88684bf10>"
       ]
      },
      {
       "metadata": {},
       "output_type": "display_data",
       "png": "[encoded data removed]",
       "text": [
        "<matplotlib.figure.Figure at 0x7fc8868b3e50>"
       ]
      }
     ],
     "prompt_number": 14
    },
    {
     "cell_type": "code",
     "collapsed": false,
     "input": [],
     "language": "python",
     "metadata": {},
     "outputs": [],
     "prompt_number": 14
    },
    {
     "cell_type": "code",
     "collapsed": false,
     "input": [],
     "language": "python",
     "metadata": {},
     "outputs": [],
     "prompt_number": 14
    },
    {
     "cell_type": "code",
     "collapsed": false,
     "input": [
      "for i in range(n):\n",
      "    ripl.observe(\"(get_datapoint %d )\"% i,data[i]) "
     ],
     "language": "python",
     "metadata": {},
     "outputs": [],
     "prompt_number": 15
    },
    {
     "cell_type": "code",
     "collapsed": false,
     "input": [
      "ripl.infer(\"(repeat 2 (do (mh (quote comps) all 2) (mh (quote hypers) all 2) (mh (quote parameters) one 3) ))\")"
     ],
     "language": "python",
     "metadata": {},
     "outputs": [
      {
       "metadata": {},
       "output_type": "pyout",
       "prompt_number": 16,
       "text": [
        "[]"
       ]
      }
     ],
     "prompt_number": 16
    },
    {
     "cell_type": "code",
     "collapsed": false,
     "input": [
      "#ripl.infer(100)"
     ],
     "language": "python",
     "metadata": {},
     "outputs": [],
     "prompt_number": 17
    },
    {
     "cell_type": "code",
     "collapsed": false,
     "input": [
      "dataset = ripl.infer(\"(collect two_component)\")\n",
      "df = dataset.asPandas()\n",
      "df['two_component'].plot(kind='hist')"
     ],
     "language": "python",
     "metadata": {},
     "outputs": [
      {
       "metadata": {},
       "output_type": "pyout",
       "prompt_number": 18,
       "text": [
        "<matplotlib.axes.AxesSubplot at 0x7fc886b66f50>"
       ]
      },
      {
       "metadata": {},
       "output_type": "display_data",
       "png": "[encoded data removed]",
       "text": [
        "<matplotlib.figure.Figure at 0x7fc878fadb50>"
       ]
      }
     ],
     "prompt_number": 18
    },
    {
     "cell_type": "code",
     "collapsed": false,
     "input": [
      "#dataset=ripl.infer(\"(collect (d) )\")\n",
      "#df =dataset.asPandas()"
     ],
     "language": "python",
     "metadata": {},
     "outputs": [],
     "prompt_number": 19
    },
    {
     "cell_type": "code",
     "collapsed": false,
     "input": [],
     "language": "python",
     "metadata": {},
     "outputs": [],
     "prompt_number": 19
    },
    {
     "cell_type": "code",
     "collapsed": false,
     "input": [],
     "language": "python",
     "metadata": {},
     "outputs": [],
     "prompt_number": 19
    },
    {
     "cell_type": "code",
     "collapsed": false,
     "input": [],
     "language": "python",
     "metadata": {},
     "outputs": [],
     "prompt_number": 19
    }
   ],
   "metadata": {}
  }
 ]
}