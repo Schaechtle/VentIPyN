{
 "metadata": {
  "name": ""
 },
 "nbformat": 3,
 "nbformat_minor": 0,
 "worksheets": [
  {
   "cells": [
    {
     "cell_type": "code",
     "collapsed": false,
     "input": [
      "from venture import shortcuts\n",
      "import numpy as np\n",
      "import pylab as pl\n",
      "import seaborn\n",
      "import time\n",
      "from IPython.display import display, Math, Latex"
     ],
     "language": "python",
     "metadata": {},
     "outputs": [],
     "prompt_number": 1
    },
    {
     "cell_type": "code",
     "collapsed": false,
     "input": [
      "%pylab inline"
     ],
     "language": "python",
     "metadata": {},
     "outputs": [
      {
       "output_type": "stream",
       "stream": "stdout",
       "text": [
        "Populating the interactive namespace from numpy and matplotlib\n"
       ]
      }
     ],
     "prompt_number": 2
    },
    {
     "cell_type": "code",
     "collapsed": false,
     "input": [
      "ripl = shortcuts.make_lite_church_prime_ripl()"
     ],
     "language": "python",
     "metadata": {},
     "outputs": [],
     "prompt_number": 3
    },
    {
     "cell_type": "code",
     "collapsed": false,
     "input": [
      "two_components=True"
     ],
     "language": "python",
     "metadata": {},
     "outputs": [],
     "prompt_number": 4
    },
    {
     "cell_type": "code",
     "collapsed": false,
     "input": [
      "if two_components:\n",
      "    data_generating_program = \"\"\"\n",
      "    [ASSUME gauss1 (lambda (  ) (normal 3 2))]\n",
      "    [ASSUME gauss2 (lambda (  ) (normal -3 1))]\n",
      "    [ASSUME data (lambda ( ) ((categorical (simplex 0.4 0.6) (array gauss1 gauss2))))]\n",
      "    \"\"\"\n",
      "else:\n",
      "    data_generating_program = \"\"\"\n",
      "    [ASSUME gauss1 (lambda (  ) (normal 5 1))]\n",
      "    [ASSUME gauss2 (lambda (  ) (normal 0 3))]\n",
      "    [ASSUME gauss2 (lambda (  ) (normal -6 1))]\n",
      "    [ASSUME data (lambda ( ) ((categorical (simplex 0.3 0.3 0.4) (array gauss1 gauss2 gauss3))))]\n",
      "    \"\"\"\n",
      "ripl.execute_program(data_generating_program)"
     ],
     "language": "python",
     "metadata": {},
     "outputs": [
      {
       "metadata": {},
       "output_type": "pyout",
       "prompt_number": 5,
       "text": [
        "[{'directive_id': 1, 'value': {'type': 'sp', 'value': 'unknown spAux'}},\n",
        " {'directive_id': 2, 'value': {'type': 'sp', 'value': 'unknown spAux'}},\n",
        " {'directive_id': 3, 'value': {'type': 'sp', 'value': 'unknown spAux'}}]"
       ]
      }
     ],
     "prompt_number": 5
    },
    {
     "cell_type": "code",
     "collapsed": false,
     "input": [
      "data = []\n",
      "n = 100\n",
      "for i in range(n):\n",
      "    data.append(ripl.sample(\"(data)\"))"
     ],
     "language": "python",
     "metadata": {},
     "outputs": [],
     "prompt_number": 6
    },
    {
     "cell_type": "code",
     "collapsed": false,
     "input": [
      "pl.hist(data)"
     ],
     "language": "python",
     "metadata": {},
     "outputs": [
      {
       "metadata": {},
       "output_type": "pyout",
       "prompt_number": 7,
       "text": [
        "(array([  8.,  34.,  20.,   8.,   6.,   4.,   7.,   7.,   5.,   1.]),\n",
        " array([-5.33242398, -4.03243245, -2.73244091, -1.43244938, -0.13245785,\n",
        "        1.16753368,  2.46752522,  3.76751675,  5.06750828,  6.36749981,\n",
        "        7.66749135]),\n",
        " <a list of 10 Patch objects>)"
       ]
      },
      {
       "metadata": {},
       "output_type": "display_data",
       "png": "[encoded data removed]",
       "text": [
        "<matplotlib.figure.Figure at 0x7f0cc2a11410>"
       ]
      }
     ],
     "prompt_number": 7
    },
    {
     "cell_type": "code",
     "collapsed": false,
     "input": [
      "#ripl.infer(\"(resample 10)\")"
     ],
     "language": "python",
     "metadata": {},
     "outputs": [],
     "prompt_number": 8
    },
    {
     "cell_type": "raw",
     "metadata": {},
     "source": [
      "Recall that the kth weight is"
     ]
    },
    {
     "cell_type": "code",
     "collapsed": false,
     "input": [
      "display(Math(r'\\beta_k = (1 - \\beta_1) * (1 - \\beta_2) * ... * (1 - \\beta_{k-1}) * beta_k'))"
     ],
     "language": "python",
     "metadata": {},
     "outputs": [
      {
       "latex": [
        "$$\\beta_k = (1 - \\beta_1) * (1 - \\beta_2) * ... * (1 - \\beta_{k-1}) * beta_k$$"
       ],
       "metadata": {},
       "output_type": "display_data",
       "text": [
        "<IPython.core.display.Math at 0x7f0cc28d1110>"
       ]
      }
     ],
     "prompt_number": 9
    },
    {
     "cell_type": "raw",
     "metadata": {},
     "source": [
      "where each beta_i is drawn from a Beta distribution"
     ]
    },
    {
     "cell_type": "code",
     "collapsed": false,
     "input": [
      "display(Math(r'\\beta_i \\sim Beta(1, \\alpha)'))"
     ],
     "language": "python",
     "metadata": {},
     "outputs": [
      {
       "latex": [
        "$$\\beta_i \\sim Beta(1, \\alpha)$$"
       ],
       "metadata": {},
       "output_type": "display_data",
       "text": [
        "<IPython.core.display.Math at 0x7f0cc28d1bd0>"
       ]
      }
     ],
     "prompt_number": 10
    },
    {
     "cell_type": "code",
     "collapsed": false,
     "input": [
      "program = \"\"\"\n",
      "[ASSUME my_beta (beta 1 0.5 )]\n",
      "[ASSUME pi  (lambda (i) (if (eq i 0) my_beta  (1 - (real (pi (- i 1))))))]\n",
      "\"\"\"\n",
      "ripl.execute_program(program)"
     ],
     "language": "python",
     "metadata": {},
     "outputs": [
      {
       "metadata": {},
       "output_type": "pyout",
       "prompt_number": 11,
       "text": [
        "[{'directive_id': 104,\n",
        "  'value': {'type': 'probability', 'value': 0.8250082334817702}},\n",
        " {'directive_id': 105, 'value': {'type': 'sp', 'value': 'unknown spAux'}}]"
       ]
      }
     ],
     "prompt_number": 11
    },
    {
     "cell_type": "code",
     "collapsed": false,
     "input": [
      "ripl.sample(\"(pi 1)\")"
     ],
     "language": "python",
     "metadata": {},
     "outputs": [
      {
       "ename": "VentureException",
       "evalue": "*** evaluation: Cannot convert <class 'venture.lite.value.VentureProbability'> to atom\n\u001b[31m(pi 1)\u001b[39;49m\n^^^^^^\n(lambda (i) \u001b[31m(if (eq i 0) my_beta (1 sub (real (pi (sub i 1)))))\u001b[39;49m)\n            ^^^^^^^^^^^^^^^^^^^^^^^^^^^^^^^^^^^^^^^^^^^^^^^^^^^\n(lambda (i) (if (eq i 0) my_beta (1 sub \u001b[31m(real (pi (sub i 1)))\u001b[39;49m)))\n                                        ^^^^^^^^^^^^^^^^^^^^^\n**************************************************\nStack trace from worker:\n**************************************************\nTraceback (most recent call last):\n  File \"/usr/local/lib/python2.7/dist-packages/venture/multiprocess.py\", line 91, in wrapped\n    res = f(*args, **kwargs)\n  File \"/usr/local/lib/python2.7/dist-packages/venture/engine/trace.py\", line 32, in evaluate\n    self.trace.eval(baseAddr,exp)\n  File \"/usr/local/lib/python2.7/dist-packages/venture/lite/trace.py\", line 337, in eval\n    (_,self.families[id]) = evalFamily(self,Address(List(id)),self.unboxExpression(exp),self.globalEnv,Scaffold(),False,OmegaDB(),{})\n  File \"/usr/local/lib/python2.7/dist-packages/venture/lite/regen.py\", line 130, in evalFamily\n    weight += apply(trace,requestNode,outputNode,scaffold,shouldRestore,omegaDB,gradients)\n  File \"/usr/local/lib/python2.7/dist-packages/venture/lite/regen.py\", line 149, in apply\n    weight += evalRequests(trace,requestNode,scaffold,shouldRestore,omegaDB,gradients)\n  File \"/usr/local/lib/python2.7/dist-packages/venture/lite/regen.py\", line 209, in evalRequests\n    (w,esrParent) = evalFamily(trace,address,esr.exp,esr.env,scaffold,shouldRestore,omegaDB,gradients)\n  File \"/usr/local/lib/python2.7/dist-packages/venture/lite/regen.py\", line 130, in evalFamily\n    weight += apply(trace,requestNode,outputNode,scaffold,shouldRestore,omegaDB,gradients)\n  File \"/usr/local/lib/python2.7/dist-packages/venture/lite/regen.py\", line 149, in apply\n    weight += evalRequests(trace,requestNode,scaffold,shouldRestore,omegaDB,gradients)\n  File \"/usr/local/lib/python2.7/dist-packages/venture/lite/regen.py\", line 209, in evalRequests\n    (w,esrParent) = evalFamily(trace,address,esr.exp,esr.env,scaffold,shouldRestore,omegaDB,gradients)\n  File \"/usr/local/lib/python2.7/dist-packages/venture/lite/regen.py\", line 124, in evalFamily\n    w, n = evalFamily(trace,addr,subexp,env,scaffold,shouldRestore,omegaDB,gradients)\n  File \"/usr/local/lib/python2.7/dist-packages/venture/lite/regen.py\", line 130, in evalFamily\n    weight += apply(trace,requestNode,outputNode,scaffold,shouldRestore,omegaDB,gradients)\n  File \"/usr/local/lib/python2.7/dist-packages/venture/lite/regen.py\", line 152, in apply\n    weight += applyPSP(trace,outputNode,scaffold,shouldRestore,omegaDB,gradients)\n  File \"/usr/local/lib/python2.7/dist-packages/venture/lite/regen.py\", line 182, in applyPSP\n    newValue = psp.simulate(args) if not shouldRestore else oldValue\n  File \"/usr/local/lib/python2.7/dist-packages/venture/lite/psp.py\", line 307, in simulate\n    return self.f_type.wrap_return(self.psp.simulate(self.f_type.unwrap_args(args)))\n  File \"/usr/local/lib/python2.7/dist-packages/venture/lite/sp.py\", line 122, in unwrap_args\n    answer.operandValues = self.unwrap_arg_list(args.operandValues)\n  File \"/usr/local/lib/python2.7/dist-packages/venture/lite/sp.py\", line 132, in unwrap_arg_list\n    return [self.args_types[i].asPythonNoneable(v) for (i,v) in enumerate(lst)]\n  File \"/usr/local/lib/python2.7/dist-packages/venture/lite/value.py\", line 923, in asPythonNoneable\n    return self.asPython(vthing) # Function will be added by inheritance pylint:disable=no-member\n  File \"<string>\", line 6, in asPython\n  File \"/usr/local/lib/python2.7/dist-packages/venture/lite/value.py\", line 25, in getAtom\n    def getAtom(self): raise VentureTypeError(\"Cannot convert %s to atom\" % type(self))\nVentureException: *** evaluation: Cannot convert <class 'venture.lite.value.VentureProbability'> to atom\n{'cause': VentureTypeError(\"Cannot convert <class 'venture.lite.value.VentureProbability'> to atom\",), 'address': [[106], [105, 2, 1], [105, 2, 1, 0, 3, 2, 1, 2]]}\nCaused by\nCannot convert <class 'venture.lite.value.VentureProbability'> to atom\n\nCaused by\nCannot convert <class 'venture.lite.value.VentureProbability'> to atom",
       "output_type": "pyerr",
       "traceback": [
        "\u001b[0;31m---------------------------------------------------------------------------\u001b[0m\n\u001b[0;31mVentureException\u001b[0m                          Traceback (most recent call last)",
        "\u001b[0;32m<ipython-input-12-5447f0138ea9>\u001b[0m in \u001b[0;36m<module>\u001b[0;34m()\u001b[0m\n\u001b[0;32m----> 1\u001b[0;31m \u001b[0mripl\u001b[0m\u001b[0;34m.\u001b[0m\u001b[0msample\u001b[0m\u001b[0;34m(\u001b[0m\u001b[0;34m\"(pi 1)\"\u001b[0m\u001b[0;34m)\u001b[0m\u001b[0;34m\u001b[0m\u001b[0m\n\u001b[0m",
        "\u001b[0;32m/usr/local/lib/python2.7/dist-packages/venture/ripl/ripl.pyc\u001b[0m in \u001b[0;36msample\u001b[0;34m(self, expression, type)\u001b[0m\n\u001b[1;32m    656\u001b[0m     \u001b[0;32mdef\u001b[0m \u001b[0msample\u001b[0m\u001b[0;34m(\u001b[0m\u001b[0mself\u001b[0m\u001b[0;34m,\u001b[0m \u001b[0mexpression\u001b[0m\u001b[0;34m,\u001b[0m \u001b[0mtype\u001b[0m\u001b[0;34m=\u001b[0m\u001b[0mFalse\u001b[0m\u001b[0;34m)\u001b[0m\u001b[0;34m:\u001b[0m\u001b[0;34m\u001b[0m\u001b[0m\n\u001b[1;32m    657\u001b[0m         \u001b[0mi\u001b[0m \u001b[0;34m=\u001b[0m \u001b[0;34m{\u001b[0m\u001b[0;34m'instruction'\u001b[0m\u001b[0;34m:\u001b[0m\u001b[0;34m'sample'\u001b[0m\u001b[0;34m,\u001b[0m \u001b[0;34m'expression'\u001b[0m\u001b[0;34m:\u001b[0m\u001b[0mexpression\u001b[0m\u001b[0;34m}\u001b[0m\u001b[0;34m\u001b[0m\u001b[0m\n\u001b[0;32m--> 658\u001b[0;31m         \u001b[0mvalue\u001b[0m \u001b[0;34m=\u001b[0m \u001b[0mself\u001b[0m\u001b[0;34m.\u001b[0m\u001b[0mexecute_instruction\u001b[0m\u001b[0;34m(\u001b[0m\u001b[0mi\u001b[0m\u001b[0;34m)\u001b[0m\u001b[0;34m[\u001b[0m\u001b[0;34m'value'\u001b[0m\u001b[0;34m]\u001b[0m\u001b[0;34m\u001b[0m\u001b[0m\n\u001b[0m\u001b[1;32m    659\u001b[0m         \u001b[0;32mreturn\u001b[0m \u001b[0mvalue\u001b[0m \u001b[0;32mif\u001b[0m \u001b[0mtype\u001b[0m \u001b[0;32melse\u001b[0m \u001b[0mu\u001b[0m\u001b[0;34m.\u001b[0m\u001b[0mstrip_types\u001b[0m\u001b[0;34m(\u001b[0m\u001b[0mvalue\u001b[0m\u001b[0;34m)\u001b[0m\u001b[0;34m\u001b[0m\u001b[0m\n\u001b[1;32m    660\u001b[0m \u001b[0;34m\u001b[0m\u001b[0m\n",
        "\u001b[0;32m/usr/local/lib/python2.7/dist-packages/venture/ripl/ripl.pyc\u001b[0m in \u001b[0;36mexecute_instruction\u001b[0;34m(self, instruction, params, suppress_pausing_continous_inference)\u001b[0m\n\u001b[1;32m    129\u001b[0m                 \u001b[0mstringable_instruction\u001b[0m \u001b[0;34m=\u001b[0m \u001b[0minstruction\u001b[0m\u001b[0;34m\u001b[0m\u001b[0m\n\u001b[1;32m    130\u001b[0m                 \u001b[0mparsed_instruction\u001b[0m \u001b[0;34m=\u001b[0m \u001b[0mself\u001b[0m\u001b[0;34m.\u001b[0m\u001b[0m_ensure_parsed\u001b[0m\u001b[0;34m(\u001b[0m\u001b[0minstruction\u001b[0m\u001b[0;34m)\u001b[0m\u001b[0;34m\u001b[0m\u001b[0m\n\u001b[0;32m--> 131\u001b[0;31m             \u001b[0mret_value\u001b[0m \u001b[0;34m=\u001b[0m \u001b[0mself\u001b[0m\u001b[0;34m.\u001b[0m\u001b[0msivm\u001b[0m\u001b[0;34m.\u001b[0m\u001b[0mexecute_instruction\u001b[0m\u001b[0;34m(\u001b[0m\u001b[0mparsed_instruction\u001b[0m\u001b[0;34m,\u001b[0m \u001b[0msuppress_pausing_continous_inference\u001b[0m\u001b[0;34m=\u001b[0m\u001b[0msuppress_pausing_continous_inference\u001b[0m\u001b[0;34m)\u001b[0m\u001b[0;34m\u001b[0m\u001b[0m\n\u001b[0m\u001b[1;32m    132\u001b[0m         \u001b[0;32mexcept\u001b[0m \u001b[0mVentureException\u001b[0m \u001b[0;32mas\u001b[0m \u001b[0me\u001b[0m\u001b[0;34m:\u001b[0m\u001b[0;34m\u001b[0m\u001b[0m\n\u001b[1;32m    133\u001b[0m             \u001b[0;32mimport\u001b[0m \u001b[0msys\u001b[0m\u001b[0;34m\u001b[0m\u001b[0m\n",
        "\u001b[0;32m/usr/local/lib/python2.7/dist-packages/venture/sivm/venture_sivm.pyc\u001b[0m in \u001b[0;36mexecute_instruction\u001b[0;34m(self, instruction, suppress_pausing_continous_inference)\u001b[0m\n\u001b[1;32m     65\u001b[0m             \u001b[0;32mif\u001b[0m \u001b[0minstruction_type\u001b[0m \u001b[0;32min\u001b[0m \u001b[0mself\u001b[0m\u001b[0;34m.\u001b[0m\u001b[0m_extra_instructions\u001b[0m\u001b[0;34m:\u001b[0m\u001b[0;34m\u001b[0m\u001b[0m\n\u001b[1;32m     66\u001b[0m                 \u001b[0mf\u001b[0m \u001b[0;34m=\u001b[0m \u001b[0mgetattr\u001b[0m\u001b[0;34m(\u001b[0m\u001b[0mself\u001b[0m\u001b[0;34m,\u001b[0m\u001b[0;34m'_do_'\u001b[0m\u001b[0;34m+\u001b[0m\u001b[0minstruction_type\u001b[0m\u001b[0;34m)\u001b[0m\u001b[0;34m\u001b[0m\u001b[0m\n\u001b[0;32m---> 67\u001b[0;31m                 \u001b[0;32mreturn\u001b[0m \u001b[0mf\u001b[0m\u001b[0;34m(\u001b[0m\u001b[0minstruction\u001b[0m\u001b[0;34m)\u001b[0m\u001b[0;34m\u001b[0m\u001b[0m\n\u001b[0m\u001b[1;32m     68\u001b[0m             \u001b[0;32melse\u001b[0m\u001b[0;34m:\u001b[0m\u001b[0;34m\u001b[0m\u001b[0m\n\u001b[1;32m     69\u001b[0m                 \u001b[0mresponse\u001b[0m \u001b[0;34m=\u001b[0m \u001b[0mself\u001b[0m\u001b[0;34m.\u001b[0m\u001b[0m_call_core_sivm_instruction\u001b[0m\u001b[0;34m(\u001b[0m\u001b[0minstruction\u001b[0m\u001b[0;34m)\u001b[0m\u001b[0;34m\u001b[0m\u001b[0m\n",
        "\u001b[0;32m/usr/local/lib/python2.7/dist-packages/venture/sivm/venture_sivm.pyc\u001b[0m in \u001b[0;36m_do_sample\u001b[0;34m(self, instruction)\u001b[0m\n\u001b[1;32m    408\u001b[0m                 \u001b[0;34m\"expression\"\u001b[0m \u001b[0;34m:\u001b[0m \u001b[0mexp\u001b[0m\u001b[0;34m,\u001b[0m\u001b[0;34m\u001b[0m\u001b[0m\n\u001b[1;32m    409\u001b[0m                 }\n\u001b[0;32m--> 410\u001b[0;31m         \u001b[0mo1\u001b[0m \u001b[0;34m=\u001b[0m \u001b[0mself\u001b[0m\u001b[0;34m.\u001b[0m\u001b[0m_call_core_sivm_instruction\u001b[0m\u001b[0;34m(\u001b[0m\u001b[0minst1\u001b[0m\u001b[0;34m)\u001b[0m\u001b[0;34m\u001b[0m\u001b[0m\n\u001b[0m\u001b[1;32m    411\u001b[0m         inst2 = {\n\u001b[1;32m    412\u001b[0m                 \u001b[0;34m\"instruction\"\u001b[0m \u001b[0;34m:\u001b[0m \u001b[0;34m\"forget\"\u001b[0m\u001b[0;34m,\u001b[0m\u001b[0;34m\u001b[0m\u001b[0m\n",
        "\u001b[0;32m/usr/local/lib/python2.7/dist-packages/venture/sivm/venture_sivm.pyc\u001b[0m in \u001b[0;36m_call_core_sivm_instruction\u001b[0;34m(self, instruction)\u001b[0m\n\u001b[1;32m    128\u001b[0m             \u001b[0mdesugared_src_location\u001b[0m\u001b[0;34m[\u001b[0m\u001b[0;34m'expression_index'\u001b[0m\u001b[0;34m]\u001b[0m \u001b[0;34m=\u001b[0m \u001b[0mnew_index\u001b[0m\u001b[0;34m\u001b[0m\u001b[0m\n\u001b[1;32m    129\u001b[0m         \u001b[0;32mtry\u001b[0m\u001b[0;34m:\u001b[0m\u001b[0;34m\u001b[0m\u001b[0m\n\u001b[0;32m--> 130\u001b[0;31m             \u001b[0mresponse\u001b[0m \u001b[0;34m=\u001b[0m \u001b[0mself\u001b[0m\u001b[0;34m.\u001b[0m\u001b[0mcore_sivm\u001b[0m\u001b[0;34m.\u001b[0m\u001b[0mexecute_instruction\u001b[0m\u001b[0;34m(\u001b[0m\u001b[0mdesugared_instruction\u001b[0m\u001b[0;34m)\u001b[0m\u001b[0;34m\u001b[0m\u001b[0m\n\u001b[0m\u001b[1;32m    131\u001b[0m         \u001b[0;32mexcept\u001b[0m \u001b[0mVentureException\u001b[0m \u001b[0;32mas\u001b[0m \u001b[0me\u001b[0m\u001b[0;34m:\u001b[0m\u001b[0;34m\u001b[0m\u001b[0m\n\u001b[1;32m    132\u001b[0m             \u001b[0;31m# raise # One can suppress error annotation by uncommenting this\u001b[0m\u001b[0;34m\u001b[0m\u001b[0;34m\u001b[0m\u001b[0m\n",
        "\u001b[0;32m/usr/local/lib/python2.7/dist-packages/venture/sivm/core_sivm.pyc\u001b[0m in \u001b[0;36mexecute_instruction\u001b[0;34m(self, instruction)\u001b[0m\n\u001b[1;32m     43\u001b[0m         \u001b[0mutils\u001b[0m\u001b[0;34m.\u001b[0m\u001b[0mvalidate_instruction\u001b[0m\u001b[0;34m(\u001b[0m\u001b[0minstruction\u001b[0m\u001b[0;34m,\u001b[0m\u001b[0mself\u001b[0m\u001b[0;34m.\u001b[0m\u001b[0m_implemented_instructions\u001b[0m\u001b[0;34m)\u001b[0m\u001b[0;34m\u001b[0m\u001b[0m\n\u001b[1;32m     44\u001b[0m         \u001b[0mf\u001b[0m \u001b[0;34m=\u001b[0m \u001b[0mgetattr\u001b[0m\u001b[0;34m(\u001b[0m\u001b[0mself\u001b[0m\u001b[0;34m,\u001b[0m\u001b[0;34m'_do_'\u001b[0m\u001b[0;34m+\u001b[0m\u001b[0minstruction\u001b[0m\u001b[0;34m[\u001b[0m\u001b[0;34m'instruction'\u001b[0m\u001b[0;34m]\u001b[0m\u001b[0;34m)\u001b[0m\u001b[0;34m\u001b[0m\u001b[0m\n\u001b[0;32m---> 45\u001b[0;31m         \u001b[0;32mreturn\u001b[0m \u001b[0mf\u001b[0m\u001b[0;34m(\u001b[0m\u001b[0minstruction\u001b[0m\u001b[0;34m)\u001b[0m\u001b[0;34m\u001b[0m\u001b[0m\n\u001b[0m\u001b[1;32m     46\u001b[0m \u001b[0;34m\u001b[0m\u001b[0m\n\u001b[1;32m     47\u001b[0m     \u001b[0;31m###############################\u001b[0m\u001b[0;34m\u001b[0m\u001b[0;34m\u001b[0m\u001b[0m\n",
        "\u001b[0;32m/usr/local/lib/python2.7/dist-packages/venture/sivm/core_sivm.pyc\u001b[0m in \u001b[0;36m_do_predict\u001b[0;34m(self, instruction)\u001b[0m\n\u001b[1;32m     97\u001b[0m         exp = utils.validate_arg(instruction,'expression',\n\u001b[1;32m     98\u001b[0m                 utils.validate_expression,modifier=_modify_expression, wrap_exception=False)\n\u001b[0;32m---> 99\u001b[0;31m         \u001b[0mdid\u001b[0m\u001b[0;34m,\u001b[0m \u001b[0mval\u001b[0m \u001b[0;34m=\u001b[0m \u001b[0mself\u001b[0m\u001b[0;34m.\u001b[0m\u001b[0mengine\u001b[0m\u001b[0;34m.\u001b[0m\u001b[0mpredict\u001b[0m\u001b[0;34m(\u001b[0m\u001b[0mexp\u001b[0m\u001b[0;34m)\u001b[0m\u001b[0;34m\u001b[0m\u001b[0m\n\u001b[0m\u001b[1;32m    100\u001b[0m         \u001b[0;32mreturn\u001b[0m \u001b[0;34m{\u001b[0m\u001b[0;34m\"directive_id\"\u001b[0m\u001b[0;34m:\u001b[0m\u001b[0mdid\u001b[0m\u001b[0;34m,\u001b[0m \u001b[0;34m\"value\"\u001b[0m\u001b[0;34m:\u001b[0m\u001b[0mval\u001b[0m\u001b[0;34m}\u001b[0m\u001b[0;34m\u001b[0m\u001b[0m\n\u001b[1;32m    101\u001b[0m \u001b[0;34m\u001b[0m\u001b[0m\n",
        "\u001b[0;32m/usr/local/lib/python2.7/dist-packages/venture/engine/engine.pyc\u001b[0m in \u001b[0;36mpredict\u001b[0;34m(self, datum)\u001b[0m\n\u001b[1;32m     84\u001b[0m \u001b[0;34m\u001b[0m\u001b[0m\n\u001b[1;32m     85\u001b[0m   \u001b[0;32mdef\u001b[0m \u001b[0mpredict\u001b[0m\u001b[0;34m(\u001b[0m\u001b[0mself\u001b[0m\u001b[0;34m,\u001b[0m \u001b[0mdatum\u001b[0m\u001b[0;34m)\u001b[0m\u001b[0;34m:\u001b[0m\u001b[0;34m\u001b[0m\u001b[0m\n\u001b[0;32m---> 86\u001b[0;31m     \u001b[0;34m(\u001b[0m\u001b[0mdid\u001b[0m\u001b[0;34m,\u001b[0m \u001b[0manswers\u001b[0m\u001b[0;34m)\u001b[0m \u001b[0;34m=\u001b[0m \u001b[0mself\u001b[0m\u001b[0;34m.\u001b[0m\u001b[0mpredict_all\u001b[0m\u001b[0;34m(\u001b[0m\u001b[0mdatum\u001b[0m\u001b[0;34m)\u001b[0m\u001b[0;34m\u001b[0m\u001b[0m\n\u001b[0m\u001b[1;32m     87\u001b[0m     \u001b[0;32mreturn\u001b[0m \u001b[0;34m(\u001b[0m\u001b[0mdid\u001b[0m\u001b[0;34m,\u001b[0m \u001b[0manswers\u001b[0m\u001b[0;34m[\u001b[0m\u001b[0;36m0\u001b[0m\u001b[0;34m]\u001b[0m\u001b[0;34m)\u001b[0m\u001b[0;34m\u001b[0m\u001b[0m\n\u001b[1;32m     88\u001b[0m \u001b[0;34m\u001b[0m\u001b[0m\n",
        "\u001b[0;32m/usr/local/lib/python2.7/dist-packages/venture/engine/engine.pyc\u001b[0m in \u001b[0;36mpredict_all\u001b[0;34m(self, datum)\u001b[0m\n\u001b[1;32m     80\u001b[0m   \u001b[0;32mdef\u001b[0m \u001b[0mpredict_all\u001b[0m\u001b[0;34m(\u001b[0m\u001b[0mself\u001b[0m\u001b[0;34m,\u001b[0m\u001b[0mdatum\u001b[0m\u001b[0;34m)\u001b[0m\u001b[0;34m:\u001b[0m\u001b[0;34m\u001b[0m\u001b[0m\n\u001b[1;32m     81\u001b[0m     \u001b[0mbaseAddr\u001b[0m \u001b[0;34m=\u001b[0m \u001b[0mself\u001b[0m\u001b[0;34m.\u001b[0m\u001b[0mnextBaseAddr\u001b[0m\u001b[0;34m(\u001b[0m\u001b[0;34m)\u001b[0m\u001b[0;34m\u001b[0m\u001b[0m\n\u001b[0;32m---> 82\u001b[0;31m     \u001b[0mvalues\u001b[0m \u001b[0;34m=\u001b[0m \u001b[0mself\u001b[0m\u001b[0;34m.\u001b[0m\u001b[0mmodel\u001b[0m\u001b[0;34m.\u001b[0m\u001b[0mevaluate\u001b[0m\u001b[0;34m(\u001b[0m\u001b[0mbaseAddr\u001b[0m\u001b[0;34m,\u001b[0m \u001b[0mdatum\u001b[0m\u001b[0;34m)\u001b[0m\u001b[0;34m\u001b[0m\u001b[0m\n\u001b[0m\u001b[1;32m     83\u001b[0m     \u001b[0;32mreturn\u001b[0m \u001b[0;34m(\u001b[0m\u001b[0mself\u001b[0m\u001b[0;34m.\u001b[0m\u001b[0mdirectiveCounter\u001b[0m\u001b[0;34m,\u001b[0m\u001b[0mvalues\u001b[0m\u001b[0;34m)\u001b[0m\u001b[0;34m\u001b[0m\u001b[0m\n\u001b[1;32m     84\u001b[0m \u001b[0;34m\u001b[0m\u001b[0m\n",
        "\u001b[0;32m/usr/local/lib/python2.7/dist-packages/venture/engine/trace_set.pyc\u001b[0m in \u001b[0;36mevaluate\u001b[0;34m(self, baseAddr, datum)\u001b[0m\n\u001b[1;32m     42\u001b[0m \u001b[0;34m\u001b[0m\u001b[0m\n\u001b[1;32m     43\u001b[0m   \u001b[0;32mdef\u001b[0m \u001b[0mevaluate\u001b[0m\u001b[0;34m(\u001b[0m\u001b[0mself\u001b[0m\u001b[0;34m,\u001b[0m \u001b[0mbaseAddr\u001b[0m\u001b[0;34m,\u001b[0m \u001b[0mdatum\u001b[0m\u001b[0;34m)\u001b[0m\u001b[0;34m:\u001b[0m\u001b[0;34m\u001b[0m\u001b[0m\n\u001b[0;32m---> 44\u001b[0;31m     \u001b[0;32mreturn\u001b[0m \u001b[0mself\u001b[0m\u001b[0;34m.\u001b[0m\u001b[0mtraces\u001b[0m\u001b[0;34m.\u001b[0m\u001b[0mmap\u001b[0m\u001b[0;34m(\u001b[0m\u001b[0;34m'evaluate'\u001b[0m\u001b[0;34m,\u001b[0m \u001b[0mbaseAddr\u001b[0m\u001b[0;34m,\u001b[0m \u001b[0mdatum\u001b[0m\u001b[0;34m)\u001b[0m\u001b[0;34m\u001b[0m\u001b[0m\n\u001b[0m\u001b[1;32m     45\u001b[0m \u001b[0;34m\u001b[0m\u001b[0m\n\u001b[1;32m     46\u001b[0m   \u001b[0;32mdef\u001b[0m \u001b[0mobserve\u001b[0m\u001b[0;34m(\u001b[0m\u001b[0mself\u001b[0m\u001b[0;34m,\u001b[0m \u001b[0mbaseAddr\u001b[0m\u001b[0;34m,\u001b[0m \u001b[0mdatum\u001b[0m\u001b[0;34m,\u001b[0m \u001b[0mval\u001b[0m\u001b[0;34m)\u001b[0m\u001b[0;34m:\u001b[0m\u001b[0;34m\u001b[0m\u001b[0m\n",
        "\u001b[0;32m/usr/local/lib/python2.7/dist-packages/venture/multiprocess.pyc\u001b[0m in \u001b[0;36mmap\u001b[0;34m(self, cmd, *args, **kwargs)\u001b[0m\n\u001b[1;32m    192\u001b[0m     \u001b[0;32mif\u001b[0m \u001b[0many\u001b[0m\u001b[0;34m(\u001b[0m\u001b[0;34m[\u001b[0m\u001b[0mthrew_error\u001b[0m\u001b[0;34m(\u001b[0m\u001b[0mentry\u001b[0m\u001b[0;34m)\u001b[0m \u001b[0;32mfor\u001b[0m \u001b[0mentry\u001b[0m \u001b[0;32min\u001b[0m \u001b[0mres\u001b[0m\u001b[0;34m]\u001b[0m\u001b[0;34m)\u001b[0m\u001b[0;34m:\u001b[0m\u001b[0;34m\u001b[0m\u001b[0m\n\u001b[1;32m    193\u001b[0m       \u001b[0mexception_handler\u001b[0m \u001b[0;34m=\u001b[0m \u001b[0mWorkerExceptionHandler\u001b[0m\u001b[0;34m(\u001b[0m\u001b[0mres\u001b[0m\u001b[0;34m)\u001b[0m\u001b[0;34m\u001b[0m\u001b[0m\n\u001b[0;32m--> 194\u001b[0;31m       \u001b[0;32mraise\u001b[0m \u001b[0mexception_handler\u001b[0m\u001b[0;34m.\u001b[0m\u001b[0mgen_exception\u001b[0m\u001b[0;34m(\u001b[0m\u001b[0;34m)\u001b[0m\u001b[0;34m\u001b[0m\u001b[0m\n\u001b[0m\u001b[1;32m    195\u001b[0m     \u001b[0;32mreturn\u001b[0m \u001b[0mres\u001b[0m\u001b[0;34m\u001b[0m\u001b[0m\n\u001b[1;32m    196\u001b[0m \u001b[0;34m\u001b[0m\u001b[0m\n",
        "\u001b[0;31mVentureException\u001b[0m: *** evaluation: Cannot convert <class 'venture.lite.value.VentureProbability'> to atom\n\u001b[31m(pi 1)\u001b[39;49m\n^^^^^^\n(lambda (i) \u001b[31m(if (eq i 0) my_beta (1 sub (real (pi (sub i 1)))))\u001b[39;49m)\n            ^^^^^^^^^^^^^^^^^^^^^^^^^^^^^^^^^^^^^^^^^^^^^^^^^^^\n(lambda (i) (if (eq i 0) my_beta (1 sub \u001b[31m(real (pi (sub i 1)))\u001b[39;49m)))\n                                        ^^^^^^^^^^^^^^^^^^^^^\n**************************************************\nStack trace from worker:\n**************************************************\nTraceback (most recent call last):\n  File \"/usr/local/lib/python2.7/dist-packages/venture/multiprocess.py\", line 91, in wrapped\n    res = f(*args, **kwargs)\n  File \"/usr/local/lib/python2.7/dist-packages/venture/engine/trace.py\", line 32, in evaluate\n    self.trace.eval(baseAddr,exp)\n  File \"/usr/local/lib/python2.7/dist-packages/venture/lite/trace.py\", line 337, in eval\n    (_,self.families[id]) = evalFamily(self,Address(List(id)),self.unboxExpression(exp),self.globalEnv,Scaffold(),False,OmegaDB(),{})\n  File \"/usr/local/lib/python2.7/dist-packages/venture/lite/regen.py\", line 130, in evalFamily\n    weight += apply(trace,requestNode,outputNode,scaffold,shouldRestore,omegaDB,gradients)\n  File \"/usr/local/lib/python2.7/dist-packages/venture/lite/regen.py\", line 149, in apply\n    weight += evalRequests(trace,requestNode,scaffold,shouldRestore,omegaDB,gradients)\n  File \"/usr/local/lib/python2.7/dist-packages/venture/lite/regen.py\", line 209, in evalRequests\n    (w,esrParent) = evalFamily(trace,address,esr.exp,esr.env,scaffold,shouldRestore,omegaDB,gradients)\n  File \"/usr/local/lib/python2.7/dist-packages/venture/lite/regen.py\", line 130, in evalFamily\n    weight += apply(trace,requestNode,outputNode,scaffold,shouldRestore,omegaDB,gradients)\n  File \"/usr/local/lib/python2.7/dist-packages/venture/lite/regen.py\", line 149, in apply\n    weight += evalRequests(trace,requestNode,scaffold,shouldRestore,omegaDB,gradients)\n  File \"/usr/local/lib/python2.7/dist-packages/venture/lite/regen.py\", line 209, in evalRequests\n    (w,esrParent) = evalFamily(trace,address,esr.exp,esr.env,scaffold,shouldRestore,omegaDB,gradients)\n  File \"/usr/local/lib/python2.7/dist-packages/venture/lite/regen.py\", line 124, in evalFamily\n    w, n = evalFamily(trace,addr,subexp,env,scaffold,shouldRestore,omegaDB,gradients)\n  File \"/usr/local/lib/python2.7/dist-packages/venture/lite/regen.py\", line 130, in evalFamily\n    weight += apply(trace,requestNode,outputNode,scaffold,shouldRestore,omegaDB,gradients)\n  File \"/usr/local/lib/python2.7/dist-packages/venture/lite/regen.py\", line 152, in apply\n    weight += applyPSP(trace,outputNode,scaffold,shouldRestore,omegaDB,gradients)\n  File \"/usr/local/lib/python2.7/dist-packages/venture/lite/regen.py\", line 182, in applyPSP\n    newValue = psp.simulate(args) if not shouldRestore else oldValue\n  File \"/usr/local/lib/python2.7/dist-packages/venture/lite/psp.py\", line 307, in simulate\n    return self.f_type.wrap_return(self.psp.simulate(self.f_type.unwrap_args(args)))\n  File \"/usr/local/lib/python2.7/dist-packages/venture/lite/sp.py\", line 122, in unwrap_args\n    answer.operandValues = self.unwrap_arg_list(args.operandValues)\n  File \"/usr/local/lib/python2.7/dist-packages/venture/lite/sp.py\", line 132, in unwrap_arg_list\n    return [self.args_types[i].asPythonNoneable(v) for (i,v) in enumerate(lst)]\n  File \"/usr/local/lib/python2.7/dist-packages/venture/lite/value.py\", line 923, in asPythonNoneable\n    return self.asPython(vthing) # Function will be added by inheritance pylint:disable=no-member\n  File \"<string>\", line 6, in asPython\n  File \"/usr/local/lib/python2.7/dist-packages/venture/lite/value.py\", line 25, in getAtom\n    def getAtom(self): raise VentureTypeError(\"Cannot convert %s to atom\" % type(self))\nVentureException: *** evaluation: Cannot convert <class 'venture.lite.value.VentureProbability'> to atom\n{'cause': VentureTypeError(\"Cannot convert <class 'venture.lite.value.VentureProbability'> to atom\",), 'address': [[106], [105, 2, 1], [105, 2, 1, 0, 3, 2, 1, 2]]}\nCaused by\nCannot convert <class 'venture.lite.value.VentureProbability'> to atom\n\nCaused by\nCannot convert <class 'venture.lite.value.VentureProbability'> to atom"
       ]
      }
     ],
     "prompt_number": 12
    },
    {
     "cell_type": "code",
     "collapsed": false,
     "input": [
      "program = \"\"\"\n",
      "[ASSUME d  (scope_include (quote hypers) 0 (make_uc_sym_dir_mult 0.5 2 (array 2 3)))]\n",
      "[ASSUME mixing  (scope_include (quote hypers) 1 (make_uc_sym_dir_mult 0.5  (d)))]\n",
      "[ASSUME g 1]\n",
      "[ASSUME h 1]\n",
      "[ASSUME alpha 1]\n",
      "[ASSUME pi (mem (lambda (i) (if (leq i 1) (beta 0.5 0.5) (beta 0.5)))\n",
      "\"\"\"\n",
      "ripl.execute_program(program)\n"
     ],
     "language": "python",
     "metadata": {},
     "outputs": []
    },
    {
     "cell_type": "code",
     "collapsed": false,
     "input": [
      "program = \"\"\"\n",
      "[ASSUME d  (scope_include (quote hypers) 0 (make_uc_sym_dir_mult 0.5 2 (array 2 3)))]\n",
      "[ASSUME mixing  (scope_include (quote hypers) 1 (make_uc_sym_dir_mult 0.5  (d)))]\n",
      "[ASSUME g 1]\n",
      "[ASSUME h 1]\n",
      "[ASSUME alpha 1]\n",
      "\n",
      "\n",
      "[ASSUME get_mean (mem (lambda (component)\n",
      "  (scope_include (quote parameters) component (normal 0 10))))]\n",
      "\n",
      "[ASSUME get_beta (mem (lambda (component)\n",
      "  (scope_include (quote parameters) component (gamma g h))))]\n",
      "\n",
      "[ASSUME get_variance (mem (lambda (component)\n",
      "  (scope_include (quote parameters) component (gamma alpha (get_beta component)))))]\n",
      "\n",
      "[ASSUME get_datapoint (lambda (i)    (normal (get_mean (mixing)) (get_variance (mixing)))) ]\n",
      "\n",
      "\"\"\"\n",
      "ripl.execute_program(program)"
     ],
     "language": "python",
     "metadata": {},
     "outputs": []
    },
    {
     "cell_type": "code",
     "collapsed": false,
     "input": [
      "\n",
      "ripl.infer(\"\"\"(let ((ds (empty)))\n",
      "   (do (repeat 1\n",
      "        (do (sample  (d))\n",
      "            (bind (collect (d) ) (curry into ds))))\n",
      "       (plotf (quote (h0)) ds)))\"\"\")"
     ],
     "language": "python",
     "metadata": {},
     "outputs": []
    },
    {
     "cell_type": "code",
     "collapsed": false,
     "input": [
      "for i in range(n):\n",
      "    ripl.observe(\"(get_datapoint %d )\"% i,data[i]) "
     ],
     "language": "python",
     "metadata": {},
     "outputs": []
    },
    {
     "cell_type": "code",
     "collapsed": false,
     "input": [
      "ripl.infer(\"(repeat 10 (do (mh hypers all 2) (mh parameters one 3) ))\")"
     ],
     "language": "python",
     "metadata": {},
     "outputs": []
    },
    {
     "cell_type": "code",
     "collapsed": false,
     "input": [
      "ripl.sample(\"(d)\")"
     ],
     "language": "python",
     "metadata": {},
     "outputs": []
    },
    {
     "cell_type": "code",
     "collapsed": false,
     "input": [
      "#dataset=ripl.infer(\"(collect (d) )\")\n",
      "#df =dataset.asPandas()"
     ],
     "language": "python",
     "metadata": {},
     "outputs": []
    },
    {
     "cell_type": "code",
     "collapsed": false,
     "input": [
      "\n",
      "ripl.infer(\"\"\"(let ((ds (empty)))\n",
      "   (do (repeat 1\n",
      "        (do (sample  (d))\n",
      "            (bind (collect (d) ) (curry into ds))))\n",
      "       (plotf (quote (h0)) ds)))\"\"\")"
     ],
     "language": "python",
     "metadata": {},
     "outputs": []
    },
    {
     "cell_type": "code",
     "collapsed": false,
     "input": [],
     "language": "python",
     "metadata": {},
     "outputs": []
    },
    {
     "cell_type": "code",
     "collapsed": false,
     "input": [],
     "language": "python",
     "metadata": {},
     "outputs": []
    }
   ],
   "metadata": {}
  }
 ]
}