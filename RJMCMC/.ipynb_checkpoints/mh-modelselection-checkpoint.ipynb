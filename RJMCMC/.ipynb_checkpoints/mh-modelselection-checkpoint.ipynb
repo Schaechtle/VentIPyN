{
 "metadata": {
  "name": ""
 },
 "nbformat": 3,
 "nbformat_minor": 0,
 "worksheets": [
  {
   "cells": [
    {
     "cell_type": "code",
     "collapsed": false,
     "input": [
      "from venture import shortcuts\n",
      "import numpy as np\n",
      "import pylab as pl\n",
      "import seaborn\n",
      "import time"
     ],
     "language": "python",
     "metadata": {},
     "outputs": [],
     "prompt_number": 1
    },
    {
     "cell_type": "code",
     "collapsed": false,
     "input": [
      "%pylab inline"
     ],
     "language": "python",
     "metadata": {},
     "outputs": [
      {
       "output_type": "stream",
       "stream": "stdout",
       "text": [
        "Populating the interactive namespace from numpy and matplotlib\n"
       ]
      }
     ],
     "prompt_number": 2
    },
    {
     "cell_type": "code",
     "collapsed": false,
     "input": [
      "ripl = shortcuts.make_lite_church_prime_ripl()"
     ],
     "language": "python",
     "metadata": {},
     "outputs": [],
     "prompt_number": 3
    },
    {
     "cell_type": "code",
     "collapsed": false,
     "input": [
      "two_components=True"
     ],
     "language": "python",
     "metadata": {},
     "outputs": [],
     "prompt_number": 4
    },
    {
     "cell_type": "code",
     "collapsed": false,
     "input": [
      "if two_components:\n",
      "    data_generating_program = \"\"\"\n",
      "    [ASSUME gauss1 (lambda (  ) (normal 5 8))]\n",
      "    [ASSUME gauss2 (lambda (  ) (normal 0 3))]\n",
      "    [ASSUME data (lambda ( ) (+ (* 0.2 (gauss1 )) (* 0.8 (gauss2 ))))]\n",
      "    \"\"\"\n",
      "else:\n",
      "    data_generating_program = \"\"\"\n",
      "    [ASSUME gauss1 (lambda (  ) (normal 5 8))]\n",
      "    [ASSUME gauss2 (lambda (  ) (normal 0 3))]\n",
      "    [ASSUME gauss2 (lambda (  ) (normal -2 4))]\n",
      "    [ASSUME data (lambda ( ) (+ (* 0.3 (gauss1 )) (* 0.3 (gauss2 ) (* 0.4 (gauss3 ))))]\n",
      "    \"\"\"\n",
      "ripl.execute_program(data_generating_program)"
     ],
     "language": "python",
     "metadata": {},
     "outputs": [
      {
       "metadata": {},
       "output_type": "pyout",
       "prompt_number": 5,
       "text": [
        "[{'directive_id': 1, 'value': {'type': 'sp', 'value': 'unknown spAux'}},\n",
        " {'directive_id': 2, 'value': {'type': 'sp', 'value': 'unknown spAux'}},\n",
        " {'directive_id': 3, 'value': {'type': 'sp', 'value': 'unknown spAux'}}]"
       ]
      }
     ],
     "prompt_number": 5
    },
    {
     "cell_type": "code",
     "collapsed": false,
     "input": [
      "data = []\n",
      "for i in range(10):\n",
      "    data.append(ripl.sample(\"(data)\"))"
     ],
     "language": "python",
     "metadata": {},
     "outputs": [],
     "prompt_number": 6
    },
    {
     "cell_type": "code",
     "collapsed": false,
     "input": [
      "ripl.infer(\"(resample 5)\")"
     ],
     "language": "python",
     "metadata": {},
     "outputs": [
      {
       "metadata": {},
       "output_type": "pyout",
       "prompt_number": 7,
       "text": [
        "[]"
       ]
      }
     ],
     "prompt_number": 7
    },
    {
     "cell_type": "code",
     "collapsed": false,
     "input": [
      "program = \"\"\"\n",
      "[ASSUME g 1]\n",
      "[ASSUME h 1]\n",
      "[ASSUME alpha 1]\n",
      "\n",
      "\n",
      "\n",
      "[ASSUME d  (make_dir_mult (array 0.5 0.5) (array 2 3)]\n",
      "\n",
      "\n",
      "[ASSUME pi (symmetric_dirichlet 0.5 (d))] \n",
      "\n",
      "[ASSUME get_mean (mem (lambda (cluster)\n",
      "  (scope_include (quote parameters) cluster (normal 0 10))))]\n",
      "\n",
      "[ASSUME get_beta (mem (lambda (cluster)\n",
      "  (scope_include (quote parameters) cluster (gamma g h))))]\n",
      "\n",
      "[ASSUME get_variance (mem (lambda (cluster)\n",
      "  (scope_include (quote parameters) cluster (gamma alpha (get_beta cluster)))))]\n",
      "\n",
      "[ASSUME get_component_model (lambda (cluster)\n",
      "  (lambda () (normal (get_mean cluster) (get_variance cluster))))]\n",
      "\n",
      "[ASSUME get_datapoint (lambda ( )\n",
      "      (if (eq d 2 ) (+ ((get_component_model 1 )) ((get_component_model 2 )) )\n",
      "                    (+ ((get_component_model 1 )) ((get_component_model 2 )) ((get_component_model 3 )))))]\n",
      "\n",
      "\"\"\"\n",
      "ripl.execute_program(program)"
     ],
     "language": "python",
     "metadata": {},
     "outputs": [
      {
       "ename": "VentureException",
       "evalue": "*** parse: Syntax error at ')'\n                    (+ (get_component_model 1 )) (get_component_model 2 ) ((et_component_model 3 ))))]\n                                                                                                    ^\n{'instruction_string': '                    (+ (get_component_model 1 )) (get_component_model 2 ) ((et_component_model 3 ))))]', 'text_index': [100, 100]}",
       "output_type": "pyerr",
       "traceback": [
        "\u001b[0;31m---------------------------------------------------------------------------\u001b[0m\n\u001b[0;31mVentureException\u001b[0m                          Traceback (most recent call last)",
        "\u001b[0;32m<ipython-input-8-d0f42a7cfc8a>\u001b[0m in \u001b[0;36m<module>\u001b[0;34m()\u001b[0m\n\u001b[1;32m     30\u001b[0m \u001b[0;34m\u001b[0m\u001b[0m\n\u001b[1;32m     31\u001b[0m \"\"\"\n\u001b[0;32m---> 32\u001b[0;31m \u001b[0mripl\u001b[0m\u001b[0;34m.\u001b[0m\u001b[0mexecute_program\u001b[0m\u001b[0;34m(\u001b[0m\u001b[0mprogram\u001b[0m\u001b[0;34m)\u001b[0m\u001b[0;34m\u001b[0m\u001b[0m\n\u001b[0m",
        "\u001b[0;32m/usr/local/lib/python2.7/dist-packages/venture/ripl/ripl.pyc\u001b[0m in \u001b[0;36mexecute_program\u001b[0;34m(self, program_string, params)\u001b[0m\n\u001b[1;32m    232\u001b[0m \u001b[0;34m\u001b[0m\u001b[0m\n\u001b[1;32m    233\u001b[0m     \u001b[0;32mdef\u001b[0m \u001b[0mexecute_program\u001b[0m\u001b[0;34m(\u001b[0m\u001b[0mself\u001b[0m\u001b[0;34m,\u001b[0m \u001b[0mprogram_string\u001b[0m\u001b[0;34m,\u001b[0m \u001b[0mparams\u001b[0m\u001b[0;34m=\u001b[0m\u001b[0mNone\u001b[0m\u001b[0;34m)\u001b[0m\u001b[0;34m:\u001b[0m\u001b[0;34m\u001b[0m\u001b[0m\n\u001b[0;32m--> 234\u001b[0;31m         \u001b[0;32mreturn\u001b[0m \u001b[0mself\u001b[0m\u001b[0;34m.\u001b[0m\u001b[0mexecute_parsed_program\u001b[0m\u001b[0;34m(\u001b[0m\u001b[0;34m*\u001b[0m\u001b[0mself\u001b[0m\u001b[0;34m.\u001b[0m\u001b[0mparse_program\u001b[0m\u001b[0;34m(\u001b[0m\u001b[0mprogram_string\u001b[0m\u001b[0;34m,\u001b[0m \u001b[0mparams\u001b[0m\u001b[0;34m=\u001b[0m\u001b[0mparams\u001b[0m\u001b[0;34m)\u001b[0m\u001b[0;34m)\u001b[0m\u001b[0;34m\u001b[0m\u001b[0m\n\u001b[0m\u001b[1;32m    235\u001b[0m \u001b[0;34m\u001b[0m\u001b[0m\n\u001b[1;32m    236\u001b[0m     \u001b[0;32mdef\u001b[0m \u001b[0mexecute_parsed_program\u001b[0m\u001b[0;34m(\u001b[0m\u001b[0mself\u001b[0m\u001b[0;34m,\u001b[0m \u001b[0minstructions\u001b[0m\u001b[0;34m,\u001b[0m \u001b[0m_positions\u001b[0m\u001b[0;34m)\u001b[0m\u001b[0;34m:\u001b[0m\u001b[0;34m\u001b[0m\u001b[0m\n",
        "\u001b[0;32m/usr/local/lib/python2.7/dist-packages/venture/ripl/ripl.pyc\u001b[0m in \u001b[0;36mparse_program\u001b[0;34m(self, program_string, params)\u001b[0m\n\u001b[1;32m    228\u001b[0m             \u001b[0;32mraise\u001b[0m \u001b[0mException\u001b[0m\u001b[0;34m(\u001b[0m\u001b[0;34m\"Do not know comment syntax for mode {}\"\u001b[0m\u001b[0;34m.\u001b[0m\u001b[0mformat\u001b[0m\u001b[0;34m(\u001b[0m\u001b[0mself\u001b[0m\u001b[0;34m.\u001b[0m\u001b[0mget_mode\u001b[0m\u001b[0;34m(\u001b[0m\u001b[0;34m)\u001b[0m\u001b[0;34m)\u001b[0m\u001b[0;34m)\u001b[0m\u001b[0;34m\u001b[0m\u001b[0m\n\u001b[1;32m    229\u001b[0m         \u001b[0mno_comments\u001b[0m \u001b[0;34m=\u001b[0m \u001b[0;34m'\\n'\u001b[0m\u001b[0;34m.\u001b[0m\u001b[0mjoin\u001b[0m\u001b[0;34m(\u001b[0m\u001b[0mre\u001b[0m\u001b[0;34m.\u001b[0m\u001b[0msplit\u001b[0m\u001b[0;34m(\u001b[0m\u001b[0mstart_comment_regex\u001b[0m\u001b[0;34m,\u001b[0m \u001b[0mx\u001b[0m\u001b[0;34m)\u001b[0m\u001b[0;34m[\u001b[0m\u001b[0;36m0\u001b[0m\u001b[0;34m]\u001b[0m \u001b[0;32mfor\u001b[0m \u001b[0mx\u001b[0m \u001b[0;32min\u001b[0m \u001b[0mprogram_string\u001b[0m\u001b[0;34m.\u001b[0m\u001b[0msplit\u001b[0m\u001b[0;34m(\u001b[0m\u001b[0;34m'\\n'\u001b[0m\u001b[0;34m)\u001b[0m\u001b[0;34m)\u001b[0m\u001b[0;34m\u001b[0m\u001b[0m\n\u001b[0;32m--> 230\u001b[0;31m         \u001b[0minstructions\u001b[0m\u001b[0;34m,\u001b[0m \u001b[0mpositions\u001b[0m \u001b[0;34m=\u001b[0m \u001b[0mp\u001b[0m\u001b[0;34m.\u001b[0m\u001b[0msplit_program\u001b[0m\u001b[0;34m(\u001b[0m\u001b[0mno_comments\u001b[0m\u001b[0;34m)\u001b[0m\u001b[0;34m\u001b[0m\u001b[0m\n\u001b[0m\u001b[1;32m    231\u001b[0m         \u001b[0;32mreturn\u001b[0m \u001b[0;34m[\u001b[0m\u001b[0mself\u001b[0m\u001b[0;34m.\u001b[0m\u001b[0m_ensure_parsed\u001b[0m\u001b[0;34m(\u001b[0m\u001b[0mi\u001b[0m\u001b[0;34m)\u001b[0m \u001b[0;32mfor\u001b[0m \u001b[0mi\u001b[0m \u001b[0;32min\u001b[0m \u001b[0minstructions\u001b[0m\u001b[0;34m]\u001b[0m\u001b[0;34m,\u001b[0m \u001b[0mpositions\u001b[0m\u001b[0;34m\u001b[0m\u001b[0m\n\u001b[1;32m    232\u001b[0m \u001b[0;34m\u001b[0m\u001b[0m\n",
        "\u001b[0;32m/usr/local/lib/python2.7/dist-packages/venture/parser/church_prime/parse.pyc\u001b[0m in \u001b[0;36msplit_program\u001b[0;34m(self, string)\u001b[0m\n\u001b[1;32m    586\u001b[0m         \u001b[0;34m[\u001b[0m\u001b[0;36m1\u001b[0m\u001b[0;34m]\u001b[0m \u001b[0ma\u001b[0m \u001b[0mlist\u001b[0m \u001b[0mof\u001b[0m \u001b[0;34m[\u001b[0m\u001b[0mstart\u001b[0m\u001b[0;34m,\u001b[0m \u001b[0mend\u001b[0m\u001b[0;34m]\u001b[0m \u001b[0mpositions\u001b[0m \u001b[0mof\u001b[0m \u001b[0meach\u001b[0m \u001b[0minstruction\u001b[0m \u001b[0;32min\u001b[0m \u001b[0mSTRING\u001b[0m\u001b[0;34m.\u001b[0m\u001b[0;34m\u001b[0m\u001b[0m\n\u001b[1;32m    587\u001b[0m         '''\n\u001b[0;32m--> 588\u001b[0;31m         \u001b[0mls\u001b[0m \u001b[0;34m=\u001b[0m \u001b[0mparse_instructions\u001b[0m\u001b[0;34m(\u001b[0m\u001b[0mstring\u001b[0m\u001b[0;34m)\u001b[0m\u001b[0;34m\u001b[0m\u001b[0m\n\u001b[0m\u001b[1;32m    589\u001b[0m         \u001b[0mlocs\u001b[0m \u001b[0;34m=\u001b[0m \u001b[0;34m[\u001b[0m\u001b[0ml\u001b[0m\u001b[0;34m[\u001b[0m\u001b[0;34m'loc'\u001b[0m\u001b[0;34m]\u001b[0m \u001b[0;32mfor\u001b[0m \u001b[0ml\u001b[0m \u001b[0;32min\u001b[0m \u001b[0mls\u001b[0m\u001b[0;34m]\u001b[0m\u001b[0;34m\u001b[0m\u001b[0m\n\u001b[1;32m    590\u001b[0m         \u001b[0;31m# XXX + 1?\u001b[0m\u001b[0;34m\u001b[0m\u001b[0;34m\u001b[0m\u001b[0m\n",
        "\u001b[0;32m/usr/local/lib/python2.7/dist-packages/venture/parser/church_prime/parse.pyc\u001b[0m in \u001b[0;36mparse_instructions\u001b[0;34m(string)\u001b[0m\n\u001b[1;32m    302\u001b[0m \u001b[0;34m\u001b[0m\u001b[0m\n\u001b[1;32m    303\u001b[0m \u001b[0;32mdef\u001b[0m \u001b[0mparse_instructions\u001b[0m\u001b[0;34m(\u001b[0m\u001b[0mstring\u001b[0m\u001b[0;34m)\u001b[0m\u001b[0;34m:\u001b[0m\u001b[0;34m\u001b[0m\u001b[0m\n\u001b[0;32m--> 304\u001b[0;31m     \u001b[0mt\u001b[0m\u001b[0;34m,\u001b[0m \u001b[0mls\u001b[0m \u001b[0;34m=\u001b[0m \u001b[0mparse_church_prime_string\u001b[0m\u001b[0;34m(\u001b[0m\u001b[0mstring\u001b[0m\u001b[0;34m)\u001b[0m\u001b[0;34m\u001b[0m\u001b[0m\n\u001b[0m\u001b[1;32m    305\u001b[0m     \u001b[0;32mif\u001b[0m \u001b[0mt\u001b[0m \u001b[0;34m!=\u001b[0m \u001b[0;34m'instructions'\u001b[0m\u001b[0;34m:\u001b[0m\u001b[0;34m\u001b[0m\u001b[0m\n\u001b[1;32m    306\u001b[0m         \u001b[0;32mraise\u001b[0m \u001b[0mVentureException\u001b[0m\u001b[0;34m(\u001b[0m\u001b[0;34m'parse'\u001b[0m\u001b[0;34m,\u001b[0m \u001b[0;34m'Expected instructions'\u001b[0m\u001b[0;34m)\u001b[0m\u001b[0;34m\u001b[0m\u001b[0m\n",
        "\u001b[0;32m/usr/local/lib/python2.7/dist-packages/venture/parser/church_prime/parse.pyc\u001b[0m in \u001b[0;36mparse_church_prime_string\u001b[0;34m(string)\u001b[0m\n\u001b[1;32m    299\u001b[0m             \u001b[0me\u001b[0m\u001b[0;34m.\u001b[0m\u001b[0mdata\u001b[0m\u001b[0;34m[\u001b[0m\u001b[0;34m'instruction_string'\u001b[0m\u001b[0;34m]\u001b[0m \u001b[0;34m=\u001b[0m \u001b[0mstring\u001b[0m\u001b[0;34m[\u001b[0m\u001b[0mlstart\u001b[0m \u001b[0;34m:\u001b[0m \u001b[0mlend\u001b[0m\u001b[0;34m]\u001b[0m\u001b[0;34m\u001b[0m\u001b[0m\n\u001b[1;32m    300\u001b[0m             \u001b[0me\u001b[0m\u001b[0;34m.\u001b[0m\u001b[0mdata\u001b[0m\u001b[0;34m[\u001b[0m\u001b[0;34m'text_index'\u001b[0m\u001b[0;34m]\u001b[0m \u001b[0;34m=\u001b[0m \u001b[0;34m[\u001b[0m\u001b[0mstart\u001b[0m \u001b[0;34m-\u001b[0m \u001b[0mlstart\u001b[0m\u001b[0;34m,\u001b[0m \u001b[0mend\u001b[0m \u001b[0;34m-\u001b[0m \u001b[0mlstart\u001b[0m\u001b[0;34m]\u001b[0m\u001b[0;34m\u001b[0m\u001b[0m\n\u001b[0;32m--> 301\u001b[0;31m         \u001b[0;32mraise\u001b[0m \u001b[0me\u001b[0m\u001b[0;34m\u001b[0m\u001b[0m\n\u001b[0m\u001b[1;32m    302\u001b[0m \u001b[0;34m\u001b[0m\u001b[0m\n\u001b[1;32m    303\u001b[0m \u001b[0;32mdef\u001b[0m \u001b[0mparse_instructions\u001b[0m\u001b[0;34m(\u001b[0m\u001b[0mstring\u001b[0m\u001b[0;34m)\u001b[0m\u001b[0;34m:\u001b[0m\u001b[0;34m\u001b[0m\u001b[0m\n",
        "\u001b[0;31mVentureException\u001b[0m: *** parse: Syntax error at ')'\n                    (+ (get_component_model 1 )) (get_component_model 2 ) ((et_component_model 3 ))))]\n                                                                                                    ^\n{'instruction_string': '                    (+ (get_component_model 1 )) (get_component_model 2 ) ((et_component_model 3 ))))]', 'text_index': [100, 100]}"
       ]
      }
     ],
     "prompt_number": 8
    },
    {
     "cell_type": "code",
     "collapsed": false,
     "input": [
      "'''\n",
      "[ASSUME get_cluster (mem (lambda (id)\n",
      "  (scope_include (quote clustering) id (crp))))]\n",
      "\n",
      "[ASSUME get_mean (mem (lambda (cluster)\n",
      "  (scope_include (quote parameters) cluster (normal 0 10))))]\n",
      "\n",
      "[ASSUME get_variance (mem (lambda (cluster)\n",
      "  (scope_include (quote parameters) cluster (gamma 1 scale))))]\n",
      "\n",
      "[ASSUME get_component_model (lambda (cluster)\n",
      "  (lambda () (normal (get_mean cluster) (get_variance cluster))))]\n",
      "\n",
      "[ASSUME get_datapoint (lambda ( )\n",
      "  (+ ((get_component_model (get_cluster 1))) ((get_component_model (get_cluster 2))) ((get_component_model (get_cluster 3)))))]\n",
      "'''\n"
     ],
     "language": "python",
     "metadata": {},
     "outputs": []
    },
    {
     "cell_type": "code",
     "collapsed": false,
     "input": [],
     "language": "python",
     "metadata": {},
     "outputs": []
    },
    {
     "cell_type": "code",
     "collapsed": false,
     "input": [
      "for i in range(10):\n",
      "    ripl.observe(\"(mixture)\",data[i])"
     ],
     "language": "python",
     "metadata": {},
     "outputs": []
    },
    {
     "cell_type": "code",
     "collapsed": false,
     "input": [
      "ripl.infer(10)"
     ],
     "language": "python",
     "metadata": {},
     "outputs": []
    },
    {
     "cell_type": "code",
     "collapsed": false,
     "input": [
      "ripl.infer(\"\"\"(let ((ds (empty)))\n",
      "   (do (repeat 1\n",
      "        (do (sample  d)\n",
      "            (bind (collect d ) (curry into ds))))\n",
      "       (plotf (quote (h0)) ds)))\"\"\")\n"
     ],
     "language": "python",
     "metadata": {},
     "outputs": []
    },
    {
     "cell_type": "code",
     "collapsed": false,
     "input": [],
     "language": "python",
     "metadata": {},
     "outputs": []
    },
    {
     "cell_type": "code",
     "collapsed": false,
     "input": [],
     "language": "python",
     "metadata": {},
     "outputs": []
    }
   ],
   "metadata": {}
  }
 ]
}