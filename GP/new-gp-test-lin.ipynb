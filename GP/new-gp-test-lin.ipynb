{
 "metadata": {
  "kernelspec": {
   "codemirror_mode": {
    "name": "ipython",
    "version": 2
   },
   "display_name": "IPython (Python 2)",
   "language": "python",
   "name": "python2"
  },
  "name": "",
  "signature": "sha256:b1817f1bdecc9f6dda416dfe710fae728148427be0678aeff19ada36cb6a3933"
 },
 "nbformat": 3,
 "nbformat_minor": 0,
 "worksheets": [
  {
   "cells": [
    {
     "cell_type": "code",
     "collapsed": false,
     "input": [
      "from venture import shortcuts\n",
      "\n",
      "\n",
      "import numpy as np\n",
      "import numpy.linalg as la\n",
      "import numpy.random as npr\n",
      "import scipy.spatial.distance as spdist\n",
      "\n",
      "from venture.lite.function import VentureFunction\n",
      "from venture.lite.sp import SPType\n",
      "import venture.lite.value as v\n",
      "import venture.value.dicts as d\n",
      "from venture.lite.builtin import typed_nr\n",
      "\n",
      "import pylab as pl\n",
      "import seaborn\n",
      "from IPython.display import display, Math, Latex\n",
      "\n",
      "import timeit\n",
      "\n",
      "import sys\n",
      "sys.path.append('../SPs/')\n",
      "from grammar4 import Grammar\n",
      "from grammarinterpreter import GrammarInterpreter\n",
      "import gp_der as gp_with_derivatives\n",
      "from covFunctions import *\n",
      "\n",
      "\n",
      "figlength = 16\n",
      "figheigth = 8\n",
      "xa = 0\n",
      "xb = 10\n",
      "\n"
     ],
     "language": "python",
     "metadata": {},
     "outputs": [],
     "prompt_number": 1
    },
    {
     "cell_type": "code",
     "collapsed": false,
     "input": [
      "%pylab inline"
     ],
     "language": "python",
     "metadata": {},
     "outputs": [
      {
       "output_type": "stream",
       "stream": "stdout",
       "text": [
        "Populating the interactive namespace from numpy and matplotlib\n"
       ]
      },
      {
       "output_type": "stream",
       "stream": "stderr",
       "text": [
        "WARNING: pylab import has clobbered these variables: ['array']\n",
        "`%pylab --no-import-all` prevents importing * from pylab and numpy\n"
       ]
      }
     ],
     "prompt_number": 2
    },
    {
     "cell_type": "code",
     "collapsed": false,
     "input": [
      "constantType = SPType([v.AnyType()], v.NumberType())\n",
      "def makeConstFunc(c):\n",
      "  return VentureFunction(lambda _: c, sp_type=constantType)\n",
      "def array(xs):\n",
      "  return v.VentureArrayUnboxed(np.array(xs),  v.NumberType())\n",
      "covfunctionType = SPType([v.NumberType(), v.NumberType()], v.NumberType())\n"
     ],
     "language": "python",
     "metadata": {},
     "outputs": [],
     "prompt_number": 3
    },
    {
     "cell_type": "code",
     "collapsed": false,
     "input": [
      "ripl = shortcuts.make_lite_church_prime_ripl()"
     ],
     "language": "python",
     "metadata": {},
     "outputs": [],
     "prompt_number": 4
    },
    {
     "cell_type": "heading",
     "level": 4,
     "metadata": {},
     "source": [
      "Zero Mean"
     ]
    },
    {
     "cell_type": "code",
     "collapsed": false,
     "input": [
      "ripl.assume('make_const_func', VentureFunction(makeConstFunc, [v.NumberType()], constantType))\n",
      "ripl.assume('zero', \"(apply_function make_const_func 0)\")"
     ],
     "language": "python",
     "metadata": {},
     "outputs": [
      {
       "metadata": {},
       "output_type": "pyout",
       "prompt_number": 5,
       "text": [
        "<function __main__.<lambda>>"
       ]
      }
     ],
     "prompt_number": 5
    },
    {
     "cell_type": "heading",
     "level": 2,
     "metadata": {},
     "source": [
      "Hyperparameters"
     ]
    },
    {
     "cell_type": "code",
     "collapsed": false,
     "input": [
      "ripl.assume('a','(tag (quote hypers) 0  (uniform_continuous 0.1 4 ))')\n",
      "#ripl.assume('l','(tag (quote hypers) 0  (uniform_continuous 0.1 4 ))')\n",
      "#ripl.assume('sf','(tag (quote hypers) 1  (uniform_continuous 0.1 4 ))')\n",
      "#ripl.assume('sn','(tag (quote hypers) 3 (uniform_continuous 2 5))')\n",
      "#ripl.assume('p','(tag (quote hypers) 2  (uniform_continuous 0.1 4 ))')"
     ],
     "language": "python",
     "metadata": {},
     "outputs": [
      {
       "metadata": {},
       "output_type": "pyout",
       "prompt_number": 6,
       "text": [
        "1.7937488785925282"
       ]
      }
     ],
     "prompt_number": 6
    },
    {
     "cell_type": "heading",
     "level": 4,
     "metadata": {},
     "source": [
      "LIN"
     ]
    },
    {
     "cell_type": "code",
     "collapsed": false,
     "input": [
      "ripl.assume('make_linear', VentureFunction(makeLinear, [v.NumberType()], v.AnyType(\"VentureFunction\")))\n"
     ],
     "language": "python",
     "metadata": {},
     "outputs": [
      {
       "metadata": {},
       "output_type": "pyout",
       "prompt_number": 7,
       "text": [
        "<function covFunctions.makeLinear>"
       ]
      }
     ],
     "prompt_number": 7
    },
    {
     "cell_type": "code",
     "collapsed": false,
     "input": [
      "ripl.assume('lin', \" (apply_function make_linear a )\")"
     ],
     "language": "python",
     "metadata": {},
     "outputs": [
      {
       "metadata": {},
       "output_type": "pyout",
       "prompt_number": 8,
       "text": [
        "<function covFunctions.f>"
       ]
      }
     ],
     "prompt_number": 8
    },
    {
     "cell_type": "heading",
     "level": 3,
     "metadata": {},
     "source": [
      "SE"
     ]
    },
    {
     "cell_type": "code",
     "collapsed": false,
     "input": [
      "#ripl.assume('make_se', VentureFunction(makeSquaredExponential, [v.NumberType(), v.NumberType()], v.AnyType(\"VentureFunction\")))\n",
      "\n",
      "#ripl.assume('se', \"(apply_function make_se sf  l)\")"
     ],
     "language": "python",
     "metadata": {},
     "outputs": [],
     "prompt_number": 9
    },
    {
     "cell_type": "heading",
     "level": 3,
     "metadata": {},
     "source": [
      "WN"
     ]
    },
    {
     "cell_type": "code",
     "collapsed": false,
     "input": [
      "#ripl.assume('make_noise', VentureFunction(makeNoise, [v.NumberType()], v.AnyType(\"VentureFunction\")))\n",
      "\n",
      "\n",
      "#ripl.assume('wn', \"(apply_function make_noise sn)\")"
     ],
     "language": "python",
     "metadata": {},
     "outputs": [],
     "prompt_number": 10
    },
    {
     "cell_type": "heading",
     "level": 4,
     "metadata": {},
     "source": [
      "PER"
     ]
    },
    {
     "cell_type": "code",
     "collapsed": false,
     "input": [
      "#ripl.assume('make_periodic', VentureFunction(makePeriodic, [v.NumberType(), v.NumberType(), v.NumberType()], v.AnyType(\"VentureFunction\")))\n",
      "#ripl.assume(\"log_sf\",\"(log sf)\") \n",
      "#ripl.assume(\"log_p\",\"(log p)\") \n",
      "#ripl.assume(\"log_l\",\"(log l)\")\n",
      "\n",
      "#ripl.assume('per', \"(apply_function make_periodic log_sf log_p log_l)\")"
     ],
     "language": "python",
     "metadata": {},
     "outputs": [],
     "prompt_number": 11
    },
    {
     "cell_type": "heading",
     "level": 2,
     "metadata": {},
     "source": [
      "Underlying Ground Truth"
     ]
    },
    {
     "cell_type": "code",
     "collapsed": false,
     "input": [
      "ground_truth = \"linear\""
     ],
     "language": "python",
     "metadata": {},
     "outputs": [],
     "prompt_number": 12
    },
    {
     "cell_type": "code",
     "collapsed": false,
     "input": [
      "if ground_truth == \"periodic\":\n",
      "    ripl.assume('noise','(lambda (x) (normal 0 0.1))')\n",
      "    ripl.assume('true_function','(lambda ( x)  (* 2 (sin (* 3 x )))   )')\n",
      "    ripl.assume('y','(lambda ( x) ( +  (true_function x) (noise x))  )')\n",
      "    display(Math(r'y = f(x) + \\eta_x = 2 \\sin (3x) + \\eta_x\\;\\;\\;\\;\\;\\;\\;\\;\\eta_x \\sim \\mathcal{N}(0,0.1)'))\n",
      "    ya = -5 # plotting parameter\n",
      "    yb =5"
     ],
     "language": "python",
     "metadata": {},
     "outputs": [],
     "prompt_number": 13
    },
    {
     "cell_type": "code",
     "collapsed": false,
     "input": [
      "if ground_truth == \"linear\":\n",
      "    ripl.assume('noise','(lambda (x) (normal 0 1))')\n",
      "    ripl.assume('true_function','(lambda ( x)   (* 2 x )   )')\n",
      "    ripl.assume('y','(lambda ( x) ( +  (true_function x) (noise x))  )')\n",
      "    display(Math(r'y = f(x) + \\eta_x = 2 * x  + \\eta_x\\;\\;\\;\\;\\;\\;\\;\\;\\eta_x \\sim \\mathcal{N}(0,1)'))\n",
      "    ya = 0 # plotting parameter\n",
      "    yb =20"
     ],
     "language": "python",
     "metadata": {},
     "outputs": [
      {
       "latex": [
        "$$y = f(x) + \\eta_x = 2 * x  + \\eta_x\\;\\;\\;\\;\\;\\;\\;\\;\\eta_x \\sim \\mathcal{N}(0,1)$$"
       ],
       "metadata": {},
       "output_type": "display_data",
       "text": [
        "<IPython.core.display.Math at 0x7f414c333890>"
       ]
      }
     ],
     "prompt_number": 14
    },
    {
     "cell_type": "code",
     "collapsed": false,
     "input": [
      "if ground_truth == \"periodicpluslinear\":\n",
      "    ripl.assume('noise','(lambda (x) (normal 0 0.7))')\n",
      "    ripl.assume('true_function','(lambda ( x)   ( + (* 2 x ) (* 2 (sin (* 5 x ))))  )')\n",
      "    ripl.assume('y','(lambda ( x)   (true_function x) )  ')\n",
      "    display(Math(r'y = f(x) + \\eta_x = 2 * x  + 2 \\sin (5 x) + \\eta_x\\;\\;\\;\\;\\;\\;\\;\\;\\eta_x \\sim \\mathcal{N}(0,0.7)'))\n",
      "    ya = 0 # plotting parameter\n",
      "    yb =20"
     ],
     "language": "python",
     "metadata": {},
     "outputs": [],
     "prompt_number": 15
    },
    {
     "cell_type": "heading",
     "level": 2,
     "metadata": {},
     "source": [
      "Sample Training Data"
     ]
    },
    {
     "cell_type": "code",
     "collapsed": false,
     "input": [
      "n = 30\n",
      "xtrain = np.random.uniform(0,10,n)\n",
      "ytrain = np.zeros((xtrain.shape))\n",
      "for i in range(n): \n",
      "     sample_from_y= \"( y %f )\" % xtrain[i]\n",
      "     ytrain[i]=ripl.sample(sample_from_y)"
     ],
     "language": "python",
     "metadata": {},
     "outputs": [],
     "prompt_number": 16
    },
    {
     "cell_type": "heading",
     "level": 3,
     "metadata": {},
     "source": [
      "For plotting the actual function, we sample from the real thing:"
     ]
    },
    {
     "cell_type": "code",
     "collapsed": false,
     "input": [
      "n = 200\n",
      "actual_x = np.linspace(0,10,n)\n",
      "actual_f = np.zeros((actual_x.shape))\n",
      "for i in range(n): \n",
      "     sample_from_f= \"( true_function %f )\" % actual_x[i]\n",
      "     actual_f[i]=ripl.sample(sample_from_f)\n"
     ],
     "language": "python",
     "metadata": {},
     "outputs": [],
     "prompt_number": 17
    },
    {
     "cell_type": "heading",
     "level": 3,
     "metadata": {},
     "source": [
      "GP Structure Prior"
     ]
    },
    {
     "cell_type": "heading",
     "level": 4,
     "metadata": {},
     "source": [
      "way so that we can visualize posterior:"
     ]
    },
    {
     "cell_type": "heading",
     "level": 3,
     "metadata": {},
     "source": [
      "Gaussian Process"
     ]
    },
    {
     "cell_type": "code",
     "collapsed": false,
     "input": [
      "ripl.bind_foreign_sp(\"make_gp_part_der\",gp_with_derivatives.makeGPSP)"
     ],
     "language": "python",
     "metadata": {},
     "outputs": [],
     "prompt_number": 18
    },
    {
     "cell_type": "code",
     "collapsed": false,
     "input": [
      "\n",
      "#ripl.assume('cov','(apply_function  func_times  per lin )')\n",
      "ripl.assume('gp','(tag (quote parameter) 1 (make_gp_part_der zero lin))')\n"
     ],
     "language": "python",
     "metadata": {},
     "outputs": [
      {
       "metadata": {},
       "output_type": "pyout",
       "prompt_number": 19,
       "text": [
        "<gp_der.GP at 0x7f41409d5450>"
       ]
      }
     ],
     "prompt_number": 19
    },
    {
     "cell_type": "heading",
     "level": 2,
     "metadata": {},
     "source": [
      "Plot the Prior"
     ]
    },
    {
     "cell_type": "code",
     "collapsed": false,
     "input": [
      "def genSamples(x):\n",
      "    sampleString='(gp (array '\n",
      "    for i in range(len(x)):\n",
      "        sampleString+= str(x[i]) + ' ' \n",
      "    sampleString+='))'\n",
      "    #print(sampleString)\n",
      "    return sampleString"
     ],
     "language": "python",
     "metadata": {},
     "outputs": [],
     "prompt_number": 20
    },
    {
     "cell_type": "code",
     "collapsed": false,
     "input": [
      "\n"
     ],
     "language": "python",
     "metadata": {},
     "outputs": [],
     "prompt_number": 20
    },
    {
     "cell_type": "code",
     "collapsed": false,
     "input": [
      "def makeObservations(x,y):\n",
      "    print(y)\n",
      "    xString = genSamples(x)\n",
      "    ripl.observe(xString, array(y.tolist()))\n",
      "    #ripl.observe('(gp (array -3 4))', array([-1, 1]))\n",
      "    \n",
      "makeObservations(xtrain,ytrain)   "
     ],
     "language": "python",
     "metadata": {},
     "outputs": [
      {
       "output_type": "stream",
       "stream": "stdout",
       "text": [
        "[  8.9017645    8.1144836   16.92617662  16.84180094   5.9396584\n",
        "   3.06735877  13.51971358  17.70210131   2.40974332   2.71452073\n",
        "  14.00189901   5.5549815    6.91645483  14.27991335   4.50952087\n",
        "  18.82867422  12.12101897  11.28810186  14.47426536  12.32538034\n",
        "   1.8533728    0.23337843   4.87539215   8.81783858   3.14683519\n",
        "  15.72373609  15.98021157  11.28289951   6.80403318  13.83854134]\n"
       ]
      }
     ],
     "prompt_number": 21
    },
    {
     "cell_type": "code",
     "collapsed": false,
     "input": [
      "\n",
      "fig = plt.figure(figsize=(figlength,figheigth), dpi=200)\n",
      "\n",
      "for i in range(100):\n",
      "    xpost= np.random.uniform(low=0.0, high=10.0, size=50)\n",
      "    sampleString=genSamples(xpost)\n",
      "    ypost = ripl.sample(sampleString)\n",
      "    yp = [y for (x,y) in sorted(zip(xpost,ypost))]\n",
      "    pl.plot(sorted(xpost),yp,c=\"red\",alpha=0.1,linewidth=2)\n",
      "    \n",
      "pl.plot(actual_x,actual_f,c=\"#3498db\")\n",
      "pl.scatter(xtrain,ytrain,c=\"black\",marker=\"x\",linewidth=2,s=60)\n",
      "pl.xlim(xa,xb)\n",
      "pl.ylim(ya,yb)\n",
      "pl.show()"
     ],
     "language": "python",
     "metadata": {},
     "outputs": [
      {
       "metadata": {},
       "output_type": "display_data",
       "png": "[encoded data removed]",
       "text": [
        "<matplotlib.figure.Figure at 0x7f4140959710>"
       ]
      }
     ],
     "prompt_number": 22
    },
    {
     "cell_type": "code",
     "collapsed": false,
     "input": [
      "#ripl.infer(1000)"
     ],
     "language": "python",
     "metadata": {},
     "outputs": [],
     "prompt_number": 23
    },
    {
     "cell_type": "code",
     "collapsed": false,
     "input": [
      "\n",
      "cycle=5\n",
      "for i in range(cycle):\n",
      "    ripl.infer(\"(hmc parameter all 10 10 3)\")\n",
      "    ripl.infer(\"(mh hypers all 1)\") \n"
     ],
     "language": "python",
     "metadata": {},
     "outputs": [],
     "prompt_number": 24
    },
    {
     "cell_type": "code",
     "collapsed": false,
     "input": [
      "\n",
      "fig = plt.figure(figsize=(figlength,figheigth), dpi=200)\n",
      "\n",
      "for i in range(100):\n",
      "    xpost= np.random.uniform(low=0.0, high=10.0, size=50)\n",
      "    sampleString=genSamples(xpost)\n",
      "    ypost = ripl.sample(sampleString)\n",
      "    yp = [y for (x,y) in sorted(zip(xpost,ypost))]\n",
      "    pl.plot(sorted(xpost),yp,c=\"red\",alpha=0.1,linewidth=2)\n",
      "    \n",
      "pl.plot(actual_x,actual_f,c=\"#3498db\")\n",
      "pl.scatter(xtrain,ytrain,c=\"black\",marker=\"x\",linewidth=2,s=60)\n",
      "pl.xlim(xa,xb)\n",
      "pl.ylim(ya,yb)\n",
      "pl.show()\n"
     ],
     "language": "python",
     "metadata": {},
     "outputs": [
      {
       "metadata": {},
       "output_type": "display_data",
       "png": "[encoded data removed]",
       "text": [
        "<matplotlib.figure.Figure at 0x7f41407086d0>"
       ]
      }
     ],
     "prompt_number": 25
    },
    {
     "cell_type": "code",
     "collapsed": false,
     "input": [
      "''''\n",
      "fig = plt.figure(figsize=(figlength,figheigth), dpi=200)\n",
      "for i in range(30):\n",
      "    xpost= np.random.uniform(low=0.0, high=10.0, size=30)\n",
      "    sampleString=genSamples(xpost)\n",
      "    ypost = ripl.predict(sampleString)\n",
      "    yp = [y for (x,y) in sorted(zip(xpost,ypost))]\n",
      "    pl.plot(sorted(xpost),yp,c=\"red\",alpha=0.1,linewidth=2)\n",
      "    \n",
      "pl.plot(actual_x,actual_f,c=\"#3498db\")\n",
      "pl.scatter(xtrain,ytrain,c=\"black\",marker=\"x\",linewidth=2,s=60)\n",
      "pl.xlim(xa,xb)\n",
      "pl.ylim(ya,yb)\n",
      "'''"
     ],
     "language": "python",
     "metadata": {},
     "outputs": [
      {
       "metadata": {},
       "output_type": "pyout",
       "prompt_number": 26,
       "text": [
        "'\\'\\nfig = plt.figure(figsize=(figlength,figheigth), dpi=200)\\nfor i in range(30):\\n    xpost= np.random.uniform(low=0.0, high=10.0, size=30)\\n    sampleString=genSamples(xpost)\\n    ypost = ripl.predict(sampleString)\\n    yp = [y for (x,y) in sorted(zip(xpost,ypost))]\\n    pl.plot(sorted(xpost),yp,c=\"red\",alpha=0.1,linewidth=2)\\n    \\npl.plot(actual_x,actual_f,c=\"#3498db\")\\npl.scatter(xtrain,ytrain,c=\"black\",marker=\"x\",linewidth=2,s=60)\\npl.xlim(xa,xb)\\npl.ylim(ya,yb)\\n'"
       ]
      }
     ],
     "prompt_number": 26
    },
    {
     "cell_type": "code",
     "collapsed": false,
     "input": [],
     "language": "python",
     "metadata": {},
     "outputs": [],
     "prompt_number": 26
    }
   ],
   "metadata": {}
  }
 ]
}