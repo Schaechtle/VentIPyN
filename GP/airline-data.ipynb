{
 "metadata": {
  "kernelspec": {
   "codemirror_mode": {
    "name": "ipython",
    "version": 2
   },
   "display_name": "IPython (Python 2)",
   "language": "python",
   "name": "python2"
  },
  "name": "",
  "signature": "sha256:59a5582d9e3a7c9c046c633c5e6d92573af77594200ab39b2297021e3f5dd02a"
 },
 "nbformat": 3,
 "nbformat_minor": 0,
 "worksheets": [
  {
   "cells": [
    {
     "cell_type": "code",
     "collapsed": false,
     "input": [
      "from venture import shortcuts\n",
      "\n",
      "\n",
      "import numpy as np\n",
      "import numpy.linalg as la\n",
      "import numpy.random as npr\n",
      "import scipy.spatial.distance as spdist\n",
      "\n",
      "from venture.lite.function import VentureFunction\n",
      "from venture.lite.sp import SPType\n",
      "import venture.lite.value as v\n",
      "import venture.value.dicts as d\n",
      "from venture.lite.builtin import typed_nr\n",
      "\n",
      "import pylab as pl\n",
      "import seaborn\n",
      "from IPython.display import display, Math, Latex\n",
      "import scipy.io as sio\n",
      "import timeit\n",
      "import itertools\n",
      "\n",
      "import sys\n",
      "sys.path.append('../SPs/')\n",
      "from grammar5 import Grammar\n",
      "from grammarinterpreter import GrammarInterpreter\n",
      "import gp_der as gp_with_derivatives\n",
      "from covFunctions import *\n",
      "\n",
      "\n",
      "figlength = 16\n",
      "figheigth = 8\n",
      "xa = 1948\n",
      "xb = 1961\n",
      "ya = 100\n",
      "yb = 650\n"
     ],
     "language": "python",
     "metadata": {},
     "outputs": [],
     "prompt_number": 1
    },
    {
     "cell_type": "code",
     "collapsed": false,
     "input": [
      "mat_contents = sio.loadmat('../data/01-airline.mat')\n",
      "X= mat_contents['X']\n",
      "Y= mat_contents['y']"
     ],
     "language": "python",
     "metadata": {},
     "outputs": [],
     "prompt_number": 2
    },
    {
     "cell_type": "code",
     "collapsed": false,
     "input": [
      "%pylab inline"
     ],
     "language": "python",
     "metadata": {},
     "outputs": [
      {
       "output_type": "stream",
       "stream": "stdout",
       "text": [
        "Populating the interactive namespace from numpy and matplotlib\n"
       ]
      },
      {
       "output_type": "stream",
       "stream": "stderr",
       "text": [
        "WARNING: pylab import has clobbered these variables: ['array']\n",
        "`%matplotlib` prevents importing * from pylab and numpy\n"
       ]
      }
     ],
     "prompt_number": 3
    },
    {
     "cell_type": "code",
     "collapsed": false,
     "input": [
      "constantType = SPType([v.AnyType()], v.NumberType())\n",
      "def makeConstFunc(c):\n",
      "  return VentureFunction(lambda _: c, sp_type=constantType)\n",
      "def array(xs):\n",
      "  return v.VentureArrayUnboxed(np.array(xs),  v.NumberType())\n",
      "covfunctionType = SPType([v.NumberType(), v.NumberType()], v.NumberType())"
     ],
     "language": "python",
     "metadata": {},
     "outputs": [],
     "prompt_number": 4
    },
    {
     "cell_type": "code",
     "collapsed": false,
     "input": [
      "ripl = shortcuts.make_lite_church_prime_ripl()"
     ],
     "language": "python",
     "metadata": {},
     "outputs": [],
     "prompt_number": 5
    },
    {
     "cell_type": "heading",
     "level": 4,
     "metadata": {},
     "source": [
      "Zero Mean"
     ]
    },
    {
     "cell_type": "code",
     "collapsed": false,
     "input": [
      "ripl.assume('make_const_func', VentureFunction(makeConstFunc, [v.NumberType()], constantType))\n",
      "ripl.assume('zero', \"(apply_function make_const_func 0)\")"
     ],
     "language": "python",
     "metadata": {},
     "outputs": [
      {
       "metadata": {},
       "output_type": "pyout",
       "prompt_number": 6,
       "text": [
        "<function __main__.<lambda>>"
       ]
      }
     ],
     "prompt_number": 6
    },
    {
     "cell_type": "heading",
     "level": 4,
     "metadata": {},
     "source": [
      "LIN"
     ]
    },
    {
     "cell_type": "heading",
     "level": 2,
     "metadata": {},
     "source": [
      "Hyperparameters"
     ]
    },
    {
     "cell_type": "code",
     "collapsed": false,
     "input": [
      "ripl.assume('make_linear', VentureFunction(makeLinear, [v.NumberType()], v.AnyType(\"VentureFunction\")))\n",
      "ripl.assume('make_periodic', VentureFunction(makePeriodic, [v.NumberType(), v.NumberType(), v.NumberType()], v.AnyType(\"VentureFunction\")))\n",
      "ripl.assume('make_se',VentureFunction(makeSquaredExponential,[v.NumberType(), v.NumberType()], v.AnyType(\"VentureFunction\")))"
     ],
     "language": "python",
     "metadata": {},
     "outputs": [
      {
       "metadata": {},
       "output_type": "pyout",
       "prompt_number": 7,
       "text": [
        "<function covFunctions.makeSquaredExponential>"
       ]
      }
     ],
     "prompt_number": 7
    },
    {
     "cell_type": "heading",
     "level": 3,
     "metadata": {},
     "source": [
      "WN"
     ]
    },
    {
     "cell_type": "code",
     "collapsed": false,
     "input": [
      "ripl.assume('make_noise', VentureFunction(makeNoise, [v.NumberType()], v.AnyType(\"VentureFunction\")))"
     ],
     "language": "python",
     "metadata": {},
     "outputs": [
      {
       "metadata": {},
       "output_type": "pyout",
       "prompt_number": 8,
       "text": [
        "<function covFunctions.makeNoise>"
       ]
      }
     ],
     "prompt_number": 8
    },
    {
     "cell_type": "code",
     "collapsed": false,
     "input": [
      "ripl.infer(\"(resample 100)\")"
     ],
     "language": "python",
     "metadata": {},
     "outputs": [
      {
       "metadata": {},
       "output_type": "pyout",
       "prompt_number": 9,
       "text": [
        "[]"
       ]
      }
     ],
     "prompt_number": 9
    },
    {
     "cell_type": "code",
     "collapsed": false,
     "input": [
      "ripl.assume('a','(mem (lambda (i) (scope_include (quote hypers) i (uniform_continuous 0.1 8))))')\n",
      "ripl.assume('sn','(scope_include (quote hypers) 2 (uniform_continuous 0.01 3))')\n",
      "ripl.assume('sf','(mem (lambda (i) (scope_include (quote hypers) i(uniform_continuous 0.1 2 ))))')\n",
      "ripl.assume('sf2','(mem (lambda (i) (scope_include (quote hypers) i(uniform_continuous 0.1 8 ))))')\n",
      "ripl.assume('p','(mem (lambda (i) (scope_include (quote hypers) i (uniform_continuous 0.1 8))))')\n",
      "ripl.assume('l','(mem (lambda (i) (scope_include (quote hypers) i (uniform_continuous 0.1 8))))')\n",
      "ripl.assume('l2','(mem (lambda (i) (scope_include (quote hypers) i (uniform_continuous 0.1 8))))')\n",
      "\n",
      "\n",
      "ripl.assume(\"log_a\",\"(lambda (i) (log (a i)))\")\n",
      "ripl.assume(\"log_sn\",\"(log sn )\")\n",
      "ripl.assume(\"log_sf\",\"(lambda (i) (log (sf i)))\")\n",
      "ripl.assume(\"log_p\",\"(lambda (i) (log (p i)))\")\n",
      "ripl.assume(\"log_l\",\"(lambda (i) (log (l i)))\") \n",
      "ripl.assume(\"log_sf2\",\"(lambda (i) (log (sf2 i)))\") \n",
      "ripl.assume(\"log_l2\",\"(lambda (i) (log (l2 i)))\") "
     ],
     "language": "python",
     "metadata": {},
     "outputs": [
      {
       "metadata": {},
       "output_type": "pyout",
       "prompt_number": 10,
       "text": [
        "'unknown spAux'"
       ]
      }
     ],
     "prompt_number": 10
    },
    {
     "cell_type": "code",
     "collapsed": false,
     "input": [],
     "language": "python",
     "metadata": {},
     "outputs": []
    },
    {
     "cell_type": "code",
     "collapsed": false,
     "input": [
      "ripl.assume('lin1', \"(apply_function make_linear (log_a 0)  )\")\n",
      "ripl.assume('lin2', \"(apply_function make_linear (log_a 1)  )\")\n",
      "ripl.assume('lin3', \"(apply_function make_linear (log_a 2)  )\")\n",
      "ripl.assume('per1', \"(apply_function make_periodic (log_l 3) (log_p 3) (log_sf 3) )\")\n",
      "ripl.assume('se1', \"(apply_function make_se (log_sf2 4) (log_l2 4))\")\n",
      "ripl.assume('se2', \"(apply_function make_se (log_sf2 5) (log_l2 5))\")\n",
      "            \n",
      "            "
     ],
     "language": "python",
     "metadata": {},
     "outputs": []
    },
    {
     "cell_type": "code",
     "collapsed": false,
     "input": [],
     "language": "python",
     "metadata": {},
     "outputs": []
    },
    {
     "cell_type": "heading",
     "level": 3,
     "metadata": {},
     "source": [
      "make covs in ripl"
     ]
    },
    {
     "cell_type": "code",
     "collapsed": false,
     "input": [],
     "language": "python",
     "metadata": {},
     "outputs": []
    },
    {
     "cell_type": "code",
     "collapsed": false,
     "input": [
      "ripl.assume('wn', \"(apply_function make_noise sn)\")"
     ],
     "language": "python",
     "metadata": {},
     "outputs": []
    },
    {
     "cell_type": "heading",
     "level": 3,
     "metadata": {},
     "source": [
      "GP Structure Prior"
     ]
    },
    {
     "cell_type": "heading",
     "level": 5,
     "metadata": {},
     "source": [
      "for simplicity, I start with the max amount of kernel per type given"
     ]
    },
    {
     "cell_type": "code",
     "collapsed": false,
     "input": [
      "ripl.assume(\"max_lin\",\"(array  lin1 lin2 lin3 )\")\n",
      "ripl.assume(\"max_per\",\"(array  per1 )\")\n",
      "ripl.assume(\"max_se\",\"(array  se1 se2)\")\n",
      "ripl.assume(\"max_wn\",\"(array wn)\")"
     ],
     "language": "python",
     "metadata": {},
     "outputs": []
    },
    {
     "cell_type": "code",
     "collapsed": false,
     "input": [
      "number = 7\n",
      "simplex = \"( simplex  \"\n",
      "total_perms =0\n",
      "perms = []\n",
      "for i in range(number):\n",
      "    perms.append((len(list(itertools.permutations([j for j in range(i+1)])))))\n",
      "    total_perms+=perms[i]\n",
      "    \n",
      "    \n",
      "\n",
      "simplex = \"( simplex  \"\n",
      "for i in range(number):\n",
      "    simplex+=str(float(perms[i])/total_perms) + \" \"\n",
      "    \n",
      "simplex+=\" )\"  "
     ],
     "language": "python",
     "metadata": {},
     "outputs": []
    },
    {
     "cell_type": "code",
     "collapsed": false,
     "input": [
      "ripl.assume(\"number_components\",\"(scope_include (quote complexity) 0 (categorical \"+simplex+\"))\")"
     ],
     "language": "python",
     "metadata": {},
     "outputs": []
    },
    {
     "cell_type": "code",
     "collapsed": false,
     "input": [
      "ripl.bind_foreign_sp(\"gp_grammar\", typed_nr(Grammar(), [v.HomogeneousArrayType(v.HomogeneousArrayType(v.AnyType())),v.AnyType()], covfunctionType, min_req_args=0))"
     ],
     "language": "python",
     "metadata": {},
     "outputs": []
    },
    {
     "cell_type": "code",
     "collapsed": false,
     "input": [
      "ripl.assume(\"grammar\",\"(scope_include (quote grammar) 0 (gp_grammar (array max_lin max_wn max_per max_se) number_components ))\")"
     ],
     "language": "python",
     "metadata": {},
     "outputs": []
    },
    {
     "cell_type": "heading",
     "level": 4,
     "metadata": {},
     "source": [
      "way so that we can visualize posterior:"
     ]
    },
    {
     "cell_type": "code",
     "collapsed": false,
     "input": [
      "ripl.bind_foreign_sp(\"covfunc_interpreter\",typed_nr(GrammarInterpreter(), [v.AnyType()], v.AnyType()))         "
     ],
     "language": "python",
     "metadata": {},
     "outputs": []
    },
    {
     "cell_type": "code",
     "collapsed": false,
     "input": [
      "ripl.assume(\"interp\",\"(covfunc_interpreter grammar)\")"
     ],
     "language": "python",
     "metadata": {},
     "outputs": []
    },
    {
     "cell_type": "heading",
     "level": 3,
     "metadata": {},
     "source": [
      "Gaussian Process"
     ]
    },
    {
     "cell_type": "code",
     "collapsed": false,
     "input": [
      "ripl.bind_foreign_sp(\"make_gp_part_der\",gp_with_derivatives.makeGPSP)"
     ],
     "language": "python",
     "metadata": {},
     "outputs": []
    },
    {
     "cell_type": "code",
     "collapsed": false,
     "input": [
      "\n",
      "#ripl.assume('cov','(apply_function  func_times  per lin )')\n",
      "ripl.assume('gp','(scope_include (quote parameter) 0 (make_gp_part_der zero grammar))')\n"
     ],
     "language": "python",
     "metadata": {},
     "outputs": []
    },
    {
     "cell_type": "heading",
     "level": 2,
     "metadata": {},
     "source": [
      "Plot the Prior"
     ]
    },
    {
     "cell_type": "code",
     "collapsed": false,
     "input": [
      "def genSamples(x):\n",
      "    sampleString='(gp (array '\n",
      "    for i in range(len(x)):\n",
      "        sampleString+= str(x[i]) + ' ' \n",
      "    sampleString+='))'\n",
      "    #print(sampleString)\n",
      "    return sampleString"
     ],
     "language": "python",
     "metadata": {},
     "outputs": []
    },
    {
     "cell_type": "code",
     "collapsed": false,
     "input": [
      "\n",
      "dataset=ripl.infer(\"(collect interp )\")\n",
      "df =dataset.asPandas()\n",
      "fig = plt.figure(figsize=(figlength,figheigth), dpi=200)\n",
      "df[\"interp\"].value_counts().plot(kind=\"bar\")\n"
     ],
     "language": "python",
     "metadata": {},
     "outputs": []
    },
    {
     "cell_type": "code",
     "collapsed": false,
     "input": [
      "\n",
      "fig = plt.figure(figsize=(figlength,figheigth), dpi=200)\n",
      "\n",
      "\n",
      "pl.scatter(X,Y,c=\"black\",marker=\"x\",linewidth=2,s=60)\n",
      "pl.xlim(xa,xb)\n",
      "pl.ylim(ya,yb)\n",
      "pl.show()\n",
      "\n"
     ],
     "language": "python",
     "metadata": {},
     "outputs": []
    },
    {
     "cell_type": "code",
     "collapsed": false,
     "input": [
      "def makeObservations(x,y):\n",
      "    xString = genSamples(x)\n",
      "    ripl.observe(xString, array(y.tolist()))\n",
      "    #ripl.observe('(gp (array -3 4))', array([-1, 1]))\n",
      "    \n",
      "makeObservations(np.squeeze(np.asarray(X)),np.squeeze(np.asarray(Y)))   "
     ],
     "language": "python",
     "metadata": {},
     "outputs": []
    },
    {
     "cell_type": "code",
     "collapsed": false,
     "input": [
      "'''\n",
      "dataset=ripl.infer(\"(collect (a 0)  (l 0) (p 0) (sf 0) sn )\")\n",
      "df =dataset.asPandas()\n",
      "fig = plt.figure(figsize=(figlength,figheigth), dpi=200)\n",
      "df[\"(a 0.0)\"].plot(kind=\"hist\")   \n",
      "'''"
     ],
     "language": "python",
     "metadata": {},
     "outputs": []
    },
    {
     "cell_type": "code",
     "collapsed": false,
     "input": [
      "\n",
      "cycle=10\n",
      "for i in range(cycle):\n",
      "    ripl.infer(\"(repeat 10 (do (hmc parameter all 10 10 3) (mh hypers all 1) ) )\")\n",
      "    ripl.infer(10)    "
     ],
     "language": "python",
     "metadata": {},
     "outputs": []
    },
    {
     "cell_type": "code",
     "collapsed": false,
     "input": [
      "\n",
      "fig = plt.figure(figsize=(figlength,figheigth), dpi=200)\n",
      "xpost= np.squeeze(np.asarray(X))\n",
      "for i in range(100):\n",
      "    sampleString=genSamples(xpost)\n",
      "    ypost = ripl.sample(sampleString)\n",
      "    yp = [y for (x,y) in sorted(zip(xpost,ypost))]\n",
      "    pl.plot(sorted(xpost),yp,c=\"red\",alpha=0.1,linewidth=2)\n",
      "    \n",
      "pl.scatter(X,Y,c=\"black\",marker=\"x\",linewidth=2,s=60)\n",
      "pl.xlim(xa,xb)\n",
      "pl.ylim(ya,yb)\n",
      "pl.show()"
     ],
     "language": "python",
     "metadata": {},
     "outputs": []
    },
    {
     "cell_type": "code",
     "collapsed": false,
     "input": [
      "'''\n",
      "cycle=5\n",
      "for i in range(cycle):\n",
      "    ripl.infer(\"(hmc parameter all 10 10 3)\")\n",
      "    ripl.infer(\"(mh hypers_lin all 1)\") \n",
      "'''"
     ],
     "language": "python",
     "metadata": {},
     "outputs": []
    },
    {
     "cell_type": "code",
     "collapsed": false,
     "input": [],
     "language": "python",
     "metadata": {},
     "outputs": []
    },
    {
     "cell_type": "code",
     "collapsed": false,
     "input": [
      "dataset=ripl.infer(\"(collect interp )\")\n",
      "df =dataset.asPandas()\n",
      "fig = plt.figure(figsize=(figlength,figheigth), dpi=200)\n",
      "df[\"interp\"].value_counts().plot(kind=\"bar\")"
     ],
     "language": "python",
     "metadata": {},
     "outputs": []
    },
    {
     "cell_type": "code",
     "collapsed": false,
     "input": [
      "dataset=ripl.infer(\"(collect (a 0)  (l 0) (p 0) (sf 0) sn )\")\n",
      "df =dataset.asPandas()\n",
      "fig = plt.figure(figsize=(figlength,figheigth), dpi=200)\n",
      "df[\"(a 0.0)\"].plot(kind=\"hist\")    "
     ],
     "language": "python",
     "metadata": {},
     "outputs": []
    },
    {
     "cell_type": "code",
     "collapsed": false,
     "input": [
      "fig = plt.figure(figsize=(figlength,figheigth), dpi=200)\n",
      "df[\"(l 0.0)\"].plot(kind=\"hist\")    "
     ],
     "language": "python",
     "metadata": {},
     "outputs": []
    },
    {
     "cell_type": "code",
     "collapsed": false,
     "input": [
      "fig = plt.figure(figsize=(figlength,figheigth), dpi=200)\n",
      "df[\"(sf 0.0)\"].plot(kind=\"hist\")  "
     ],
     "language": "python",
     "metadata": {},
     "outputs": []
    },
    {
     "cell_type": "code",
     "collapsed": false,
     "input": [
      "fig = plt.figure(figsize=(figlength,figheigth), dpi=200)\n",
      "df[\"(p 0.0)\"].plot(kind=\"hist\")  "
     ],
     "language": "python",
     "metadata": {},
     "outputs": []
    },
    {
     "cell_type": "code",
     "collapsed": false,
     "input": [
      "fig = plt.figure(figsize=(figlength,figheigth), dpi=200)\n",
      "df[\"sn\"].plot(kind=\"hist\")     "
     ],
     "language": "python",
     "metadata": {},
     "outputs": []
    },
    {
     "cell_type": "code",
     "collapsed": false,
     "input": [
      "'''\n",
      "fig = plt.figure(figsize=(figlength,figheigth), dpi=200)\n",
      "for i in range(20):\n",
      "    xpost= np.random.uniform(low=0.0, high=10.0, size=10)\n",
      "    sampleString=genSamples(xpost)\n",
      "    ypost = ripl.predict(sampleString)\n",
      "    yp = [y for (x,y) in sorted(zip(xpost,ypost))]\n",
      "    pl.plot(sorted(xpost),yp,c=\"red\",alpha=0.1,linewidth=2)\n",
      "    \n",
      "pl.plot(actual_x,actual_f,c=\"#3498db\")\n",
      "pl.scatter(xtrain,ytrain,c=\"black\",marker=\"x\",linewidth=2,s=60)\n",
      "pl.xlim(xa,xb)\n",
      "pl.ylim(ya,yb)\n",
      "'''"
     ],
     "language": "python",
     "metadata": {},
     "outputs": []
    },
    {
     "cell_type": "code",
     "collapsed": false,
     "input": [],
     "language": "python",
     "metadata": {},
     "outputs": []
    },
    {
     "cell_type": "code",
     "collapsed": false,
     "input": [],
     "language": "python",
     "metadata": {},
     "outputs": []
    }
   ],
   "metadata": {}
  }
 ]
}