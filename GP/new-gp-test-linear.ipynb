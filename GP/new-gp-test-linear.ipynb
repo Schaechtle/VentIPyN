{
 "metadata": {
  "kernelspec": {
   "codemirror_mode": {
    "name": "ipython",
    "version": 2
   },
   "display_name": "IPython (Python 2)",
   "language": "python",
   "name": "python2"
  },
  "name": "",
  "signature": "sha256:b1817f1bdecc9f6dda416dfe710fae728148427be0678aeff19ada36cb6a3933"
 },
 "nbformat": 3,
 "nbformat_minor": 0,
 "worksheets": [
  {
   "cells": [
    {
     "cell_type": "code",
     "collapsed": false,
     "input": [
      "from venture import shortcuts\n",
      "\n",
      "\n",
      "import numpy as np\n",
      "import numpy.linalg as la\n",
      "import numpy.random as npr\n",
      "import scipy.spatial.distance as spdist\n",
      "\n",
      "from venture.lite.function import VentureFunction\n",
      "from venture.lite.sp import SPType\n",
      "import venture.lite.value as v\n",
      "import venture.value.dicts as d\n",
      "from venture.lite.builtin import typed_nr\n",
      "\n",
      "import pylab as pl\n",
      "import seaborn\n",
      "from IPython.display import display, Math, Latex\n",
      "\n",
      "import timeit\n",
      "\n",
      "import sys\n",
      "sys.path.append('../SPs/')\n",
      "from grammar4 import Grammar\n",
      "from grammarinterpreter import GrammarInterpreter\n",
      "import gp_der as gp_with_derivatives\n",
      "\n",
      "figlength = 16\n",
      "figheigth = 8\n",
      "xa = 0\n",
      "xb = 10\n",
      "\n"
     ],
     "language": "python",
     "metadata": {},
     "outputs": [],
     "prompt_number": 1
    },
    {
     "cell_type": "code",
     "collapsed": false,
     "input": [
      "%pylab inline"
     ],
     "language": "python",
     "metadata": {},
     "outputs": [
      {
       "output_type": "stream",
       "stream": "stdout",
       "text": [
        "Populating the interactive namespace from numpy and matplotlib\n"
       ]
      }
     ],
     "prompt_number": 2
    },
    {
     "cell_type": "code",
     "collapsed": false,
     "input": [
      "constantType = SPType([v.AnyType()], v.NumberType())\n",
      "def makeConstFunc(c):\n",
      "  return VentureFunction(lambda _: c, sp_type=constantType)"
     ],
     "language": "python",
     "metadata": {},
     "outputs": [],
     "prompt_number": 3
    },
    {
     "cell_type": "code",
     "collapsed": false,
     "input": [
      "def array(xs):\n",
      "  return v.VentureArrayUnboxed(np.array(xs),  v.NumberType())"
     ],
     "language": "python",
     "metadata": {},
     "outputs": [],
     "prompt_number": 4
    },
    {
     "cell_type": "code",
     "collapsed": false,
     "input": [
      "covfunctionType = SPType([v.NumberType(), v.NumberType()], v.NumberType())"
     ],
     "language": "python",
     "metadata": {},
     "outputs": [],
     "prompt_number": 5
    },
    {
     "cell_type": "heading",
     "level": 3,
     "metadata": {},
     "source": [
      "Squared Exponential Covariance Function"
     ]
    },
    {
     "cell_type": "code",
     "collapsed": false,
     "input": [
      "def squared_exponential(sf, l):\n",
      "  def f(x1,  x2=None):\n",
      "    if x2 is None: # self-covariances for test cases\n",
      "        nn,D = x1.shape\n",
      "        A = np.zeros((nn,1))\n",
      "    else:    \n",
      "        A = spdist.cdist(x1/l,x2/l,'sqeuclidean')\n",
      "    return sf * np.exp(-0.5*A)\n",
      "  return f\n",
      "# gradient\n",
      "def squared_exponential_der_l(sf, l):\n",
      "  def f(x1, x2):\n",
      "    A = spdist.cdist(x1/l,x2/l,'sqeuclidean')\n",
      "    return sf2 * np.exp(-0.5*A) * A\n",
      "  return f\n",
      "def squared_exponential_der_sf(sf, l):\n",
      "  def f(x1, x2):\n",
      "    A = spdist.cdist(x1/l,x2/l,'sqeuclidean')\n",
      "    return  2. * sf2 * np.exp(-0.5*A)\n",
      "  return f\n",
      "\n",
      "\n",
      "\n",
      "squaredExponentialType = SPType([v.NumberType(), v.NumberType()], v.NumberType())\n",
      "def makeSquaredExponential(sf, l): \n",
      "  return VentureFunction(squared_exponential(sf, l), sp_type=squaredExponentialType,derivatives={0:squared_exponential_der_l(sf,l),1:squared_exponential_der_sf(sf,l)},name=\"SE\")"
     ],
     "language": "python",
     "metadata": {},
     "outputs": [],
     "prompt_number": 6
    },
    {
     "cell_type": "heading",
     "level": 3,
     "metadata": {},
     "source": [
      "Periodic Covariance Function"
     ]
    },
    {
     "cell_type": "code",
     "collapsed": false,
     "input": [
      "def periodic(sf,p,l):\n",
      "  def f(x1, x2=None):\n",
      "    if x2 is None: # self-covariances for test cases\n",
      "        nn,D = x1.shape\n",
      "        A = np.zeros((nn,nn))\n",
      "    else:\n",
      "        A = np.sqrt(spdist.cdist(x1,x2,'sqeuclidean'))\n",
      "    A = np.pi*A/p\n",
      "    A = np.sin(A)/l\n",
      "    A = A * A\n",
      "    A = sf *np.exp(-2.*A)\n",
      "    return A\n",
      "  return f"
     ],
     "language": "python",
     "metadata": {},
     "outputs": [],
     "prompt_number": 7
    },
    {
     "cell_type": "raw",
     "metadata": {},
     "source": [
      "gradient"
     ]
    },
    {
     "cell_type": "code",
     "collapsed": false,
     "input": [
      "def periodic_der_l(sf,p,l):\n",
      "  def f(x1, x2):    \n",
      "    A = np.sqrt(spdist.cdist(x1,x2,'sqeuclidean'))\n",
      "    A = np.pi*A/p\n",
      "    A = np.sin(A)/ell\n",
      "    A = A * A\n",
      "    A = 4. *sf2 *np.exp(-2.*A) * A\n",
      "    return A\n",
      "  return f\n",
      "def periodic_der_p(sf,p,l):\n",
      "  def f(x1, x2):\n",
      "    A = np.sqrt(spdist.cdist(x1,x2,'sqeuclidean'))\n",
      "    A = np.pi*A/p\n",
      "    R = np.sin(A)/ell\n",
      "    A = 4 * sf2/ell * np.exp(-2.*R*R)*R*np.cos(A)*A\n",
      "    return A\n",
      "  return f\n",
      "def periodic_der_sf(sf,p, l):\n",
      "  def f(x1, x2):\n",
      "    A = np.sqrt(spdist.cdist(x1,x2,'sqeuclidean'))\n",
      "    A = np.pi*A/p\n",
      "    A = np.sin(A)/ell\n",
      "    A = A * A\n",
      "    A = 2. * sf2 * np.exp(-2.*A)\n",
      "    return A\n",
      "  return f\n",
      "\n",
      "def makePeriodic(sf,p,l):  \n",
      "  return VentureFunction(periodic(sf,p,l), sp_type=covfunctionType,derivatives={0:periodic_der_l(sf,p,l),1:periodic_der_p(sf,p,l),2:periodic_der_sf(sf,p,l)},name=\"PER\")"
     ],
     "language": "python",
     "metadata": {},
     "outputs": [],
     "prompt_number": 8
    },
    {
     "cell_type": "heading",
     "level": 3,
     "metadata": {},
     "source": [
      "Linear Covariance Function"
     ]
    },
    {
     "cell_type": "code",
     "collapsed": false,
     "input": [
      "def linear(sf):\n",
      "  def f(x1,  x2=None):\n",
      "    if x2 is None: # self-covariances for test cases\n",
      "        nn,D = x1.shape\n",
      "        A = np.dot(x1,x1.T)\n",
      "    else:\n",
      "        A = np.dot(x1,x2.T) + 1e-10    # required for numerical accuracy\n",
      "    return sf * A\n",
      "  return f\n",
      "# gradient\n",
      "def linear_der_sf(sf):\n",
      "  def f(x1, x2):\n",
      "    A = np.dot(x1,x2.T)\n",
      "    return 2 * sf * A\n",
      "  return f\n",
      "\n",
      "\n",
      "def makeLinear(sf): \n",
      "  return VentureFunction(linear(sf), sp_type=covfunctionType,derivatives={0:linear_der_sf(sf)},name=\"LIN\")"
     ],
     "language": "python",
     "metadata": {},
     "outputs": [],
     "prompt_number": 9
    },
    {
     "cell_type": "heading",
     "level": 3,
     "metadata": {},
     "source": [
      "White Noise Covariance Function"
     ]
    },
    {
     "cell_type": "code",
     "collapsed": false,
     "input": [
      "def noise(s):\n",
      "  def f(x1, x2=None):\n",
      "    if x2 is None: # self-covariances for test cases\n",
      "        nn,D = x1.shape\n",
      "        A = np.zeros((nn,1))\n",
      "    else:\n",
      "        tol = 1.e-9                       # Tolerance for declaring two vectors \"equal\"\n",
      "        M = spdist.cdist(x1, x2, 'sqeuclidean')\n",
      "        A = np.zeros_like(M,dtype=np.float)\n",
      "        A[M < tol] = 1.\n",
      "    A = s*A\n",
      "    return A\n",
      "  return f\n",
      "# gradient\n",
      "def noise_der(s):\n",
      "  def f(x1, x2):\n",
      "    tol = 1.e-9                       # Tolerance for declaring two vectors \"equal\"\n",
      "    M = spdist.cdist(x1, x2, 'sqeuclidean')\n",
      "    A = np.zeros_like(M,dtype=np.float)\n",
      "    A[M < tol] = 1.\n",
      "    A = 2.*s*A\n",
      "    return A\n",
      "  return f\n",
      "\n",
      "def makeNoise(s): \n",
      "  return VentureFunction(noise(s), sp_type=covfunctionType,derivatives={0:noise_der(s)},name=\"WN\")"
     ],
     "language": "python",
     "metadata": {},
     "outputs": [],
     "prompt_number": 10
    },
    {
     "cell_type": "heading",
     "level": 3,
     "metadata": {},
     "source": [
      "Binary Operators"
     ]
    },
    {
     "cell_type": "code",
     "collapsed": false,
     "input": [
      "def lift_binary(op):\n",
      "  def lifted(f1, f2):\n",
      "    return lambda *xs: op(f1(*xs), f2(*xs))\n",
      "  return lifted\n",
      "\n",
      "\n",
      "liftedBinaryType = SPType([v.AnyType(), v.AnyType()], v.AnyType())\n",
      "\n",
      "def makeLiftedAdd(op):\n",
      "  lifted_op = lift_binary(op)\n",
      "  def wrapped(f1, f2):\n",
      "    sp_type = f1.sp_type\n",
      "    assert(f2.sp_type == sp_type)\n",
      "    der={}\n",
      "    for i in range(len(f1.stuff['derivatives'])):\n",
      "        der[i]=f1.stuff['derivatives'][i]\n",
      "    for j in range(len(f2.stuff['derivatives'])):\n",
      "        der[i+1+j]=f2.stuff['derivatives'][j]\n",
      "    return VentureFunction(lifted_op(f1, f2), sp_type=sp_type,derivatives=der,name=f1.stuff['name']+\"+\"+f2.stuff['name'])\n",
      "  return VentureFunction(wrapped, sp_type=liftedBinaryType)\n",
      "\n",
      "def makeLiftedMult(op):\n",
      "  lifted_op = lift_binary(op)\n",
      "  def wrapped(f1, f2):\n",
      "    sp_type = f1.sp_type\n",
      "    assert(f2.sp_type == sp_type)\n",
      "    der={}\n",
      "    for i in range(len(f1.stuff['derivatives'])):\n",
      "        der[i]= lambda *xs: np.dot(f1.stuff['derivatives'][i](*xs),f2.f(*xs))\n",
      "    for j in range(len(f2.stuff['derivatives'])):\n",
      "        der[i+1+j]= lambda *xs: np.dot(f2.stuff['derivatives'][j](*xs),f1.f(*xs))\n",
      "    return VentureFunction(lifted_op(f1,f2), sp_type=sp_type,derivatives=der,name=f1.stuff['name']+\"x\"+f2.stuff['name'])\n",
      "  return VentureFunction(wrapped, sp_type=liftedBinaryType)"
     ],
     "language": "python",
     "metadata": {},
     "outputs": [],
     "prompt_number": 11
    },
    {
     "cell_type": "code",
     "collapsed": false,
     "input": [
      "ripl = shortcuts.make_lite_church_prime_ripl()"
     ],
     "language": "python",
     "metadata": {},
     "outputs": [],
     "prompt_number": 12
    },
    {
     "cell_type": "code",
     "collapsed": false,
     "input": [],
     "language": "python",
     "metadata": {},
     "outputs": [],
     "prompt_number": 12
    },
    {
     "cell_type": "code",
     "collapsed": false,
     "input": [],
     "language": "python",
     "metadata": {},
     "outputs": [],
     "prompt_number": 12
    },
    {
     "cell_type": "code",
     "collapsed": false,
     "input": [],
     "language": "python",
     "metadata": {},
     "outputs": [],
     "prompt_number": 12
    },
    {
     "cell_type": "heading",
     "level": 4,
     "metadata": {},
     "source": [
      "Zero Mean"
     ]
    },
    {
     "cell_type": "code",
     "collapsed": false,
     "input": [
      "ripl.assume('make_const_func', VentureFunction(makeConstFunc, [v.NumberType()], constantType))\n",
      "ripl.assume('zero', \"(apply_function make_const_func 0)\")"
     ],
     "language": "python",
     "metadata": {},
     "outputs": [
      {
       "metadata": {},
       "output_type": "pyout",
       "prompt_number": 13,
       "text": [
        "<function __main__.<lambda>>"
       ]
      }
     ],
     "prompt_number": 13
    },
    {
     "cell_type": "heading",
     "level": 2,
     "metadata": {},
     "source": [
      "Hyperparameters"
     ]
    },
    {
     "cell_type": "code",
     "collapsed": false,
     "input": [
      "ripl.assume('a','(scope_include (quote hypers) 0  (gamma 1 2))')\n",
      "#ripl.assume('l','(tag (quote hypers) 9  (inv_gamma 1  1))')\n",
      "#ripl.assume('sf','(tag (quote hypers) 1  (inv_gamma 1 1))')\n",
      "#ripl.assume('sn','(scope_include (quote hypers) 3 (uniform_continuous 2 5))')\n",
      "#ripl.assume('p','(tag (quote hypers) 2  (inv_gamma 1 1))')"
     ],
     "language": "python",
     "metadata": {},
     "outputs": [
      {
       "metadata": {},
       "output_type": "pyout",
       "prompt_number": 14,
       "text": [
        "0.6149748208287461"
       ]
      }
     ],
     "prompt_number": 14
    },
    {
     "cell_type": "heading",
     "level": 4,
     "metadata": {},
     "source": [
      "LIN"
     ]
    },
    {
     "cell_type": "code",
     "collapsed": false,
     "input": [
      "ripl.assume('make_linear', VentureFunction(makeLinear, [v.NumberType()], v.AnyType(\"VentureFunction\")))\n",
      "ripl.assume('lin', \" (apply_function make_linear a )\")"
     ],
     "language": "python",
     "metadata": {},
     "outputs": [
      {
       "metadata": {},
       "output_type": "pyout",
       "prompt_number": 15,
       "text": [
        "<function __main__.f>"
       ]
      }
     ],
     "prompt_number": 15
    },
    {
     "cell_type": "code",
     "collapsed": false,
     "input": [],
     "language": "python",
     "metadata": {},
     "outputs": [],
     "prompt_number": 15
    },
    {
     "cell_type": "heading",
     "level": 3,
     "metadata": {},
     "source": [
      "SE"
     ]
    },
    {
     "cell_type": "code",
     "collapsed": false,
     "input": [
      "#ripl.assume('make_se', VentureFunction(makeSquaredExponential, [v.NumberType(), v.NumberType()], v.AnyType(\"VentureFunction\")))\n",
      "\n",
      "#ripl.assume('se', \"(apply_function make_se sf  l)\")"
     ],
     "language": "python",
     "metadata": {},
     "outputs": [],
     "prompt_number": 16
    },
    {
     "cell_type": "heading",
     "level": 3,
     "metadata": {},
     "source": [
      "WN"
     ]
    },
    {
     "cell_type": "code",
     "collapsed": false,
     "input": [
      "#ripl.assume('make_noise', VentureFunction(makeNoise, [v.NumberType()], v.AnyType(\"VentureFunction\")))\n",
      "\n",
      "\n",
      "#ripl.assume('wn', \"(apply_function make_noise sn)\")"
     ],
     "language": "python",
     "metadata": {},
     "outputs": [],
     "prompt_number": 17
    },
    {
     "cell_type": "heading",
     "level": 4,
     "metadata": {},
     "source": [
      "PER"
     ]
    },
    {
     "cell_type": "code",
     "collapsed": false,
     "input": [
      "#ripl.assume('make_periodic', VentureFunction(makePeriodic, [v.NumberType(), v.NumberType(), v.NumberType()], v.AnyType(\"VentureFunction\")))\n",
      "\n",
      "\n",
      "#ripl.assume('per', \"(apply_function make_periodic sf p l)\")"
     ],
     "language": "python",
     "metadata": {},
     "outputs": [],
     "prompt_number": 18
    },
    {
     "cell_type": "heading",
     "level": 2,
     "metadata": {},
     "source": [
      "Underlying Ground Truth"
     ]
    },
    {
     "cell_type": "code",
     "collapsed": false,
     "input": [
      "ground_truth = \"linear\""
     ],
     "language": "python",
     "metadata": {},
     "outputs": [],
     "prompt_number": 19
    },
    {
     "cell_type": "code",
     "collapsed": false,
     "input": [
      "if ground_truth == \"periodic\":\n",
      "    ripl.assume('noise','(lambda (x) (normal 0 0.1))')\n",
      "    ripl.assume('true_function','(lambda ( x)  (sin (* 3 x ))   )')\n",
      "    ripl.assume('y','(lambda ( x) ( +  (true_function x) (noise x))  )')\n",
      "    display(Math(r'y = f(x) + \\eta_x = \\sin (3x) + \\eta_x\\;\\;\\;\\;\\;\\;\\;\\;\\eta_x \\sim \\mathcal{N}(0,0.1)'))\n",
      "    ya = -5 # plotting parameter\n",
      "    yb =5"
     ],
     "language": "python",
     "metadata": {},
     "outputs": [],
     "prompt_number": 20
    },
    {
     "cell_type": "code",
     "collapsed": false,
     "input": [
      "if ground_truth == \"linear\":\n",
      "    ripl.assume('noise','(lambda (x) (normal 0 1))')\n",
      "    ripl.assume('true_function','(lambda ( x)   (* 2 x )   )')\n",
      "    ripl.assume('y','(lambda ( x) ( +  (true_function x) (noise x))  )')\n",
      "    display(Math(r'y = f(x) + \\eta_x = 2 * x  + \\eta_x\\;\\;\\;\\;\\;\\;\\;\\;\\eta_x \\sim \\mathcal{N}(0,1)'))\n",
      "    ya = 0 # plotting parameter\n",
      "    yb =20"
     ],
     "language": "python",
     "metadata": {},
     "outputs": [
      {
       "latex": [
        "$$y = f(x) + \\eta_x = 2 * x  + \\eta_x\\;\\;\\;\\;\\;\\;\\;\\;\\eta_x \\sim \\mathcal{N}(0,1)$$"
       ],
       "metadata": {},
       "output_type": "display_data",
       "text": [
        "<IPython.core.display.Math at 0x7fcd2ac76c90>"
       ]
      }
     ],
     "prompt_number": 21
    },
    {
     "cell_type": "code",
     "collapsed": false,
     "input": [
      "if ground_truth == \"periodicpluslinear\":\n",
      "    ripl.assume('noise','(lambda (x) (normal 0 0.7))')\n",
      "    ripl.assume('true_function','(lambda ( x)   ( + (* 2 x ) (* 2 (sin (* 5 x ))))  )')\n",
      "    ripl.assume('y','(lambda ( x) ( +  (true_function x) (noise x))  )')\n",
      "    display(Math(r'y = f(x) + \\eta_x = 2 * x  + 2 \\sin (5 x) + \\eta_x\\;\\;\\;\\;\\;\\;\\;\\;\\eta_x \\sim \\mathcal{N}(0,0.7)'))\n",
      "    ya = 0 # plotting parameter\n",
      "    yb =20"
     ],
     "language": "python",
     "metadata": {},
     "outputs": [],
     "prompt_number": 22
    },
    {
     "cell_type": "heading",
     "level": 2,
     "metadata": {},
     "source": [
      "Sample Training Data"
     ]
    },
    {
     "cell_type": "code",
     "collapsed": false,
     "input": [
      "n = 20\n",
      "xtrain = np.random.uniform(0,10,n)\n",
      "ytrain = np.zeros((xtrain.shape))\n",
      "for i in range(n): \n",
      "     sample_from_y= \"( y %f )\" % xtrain[i]\n",
      "     ytrain[i]=ripl.sample(sample_from_y)"
     ],
     "language": "python",
     "metadata": {},
     "outputs": [],
     "prompt_number": 23
    },
    {
     "cell_type": "heading",
     "level": 3,
     "metadata": {},
     "source": [
      "For plotting the actual function, we sample from the real thing:"
     ]
    },
    {
     "cell_type": "code",
     "collapsed": false,
     "input": [
      "n = 200\n",
      "actual_x = np.linspace(0,10,n)\n",
      "actual_f = np.zeros((actual_x.shape))\n",
      "for i in range(n): \n",
      "     sample_from_f= \"( true_function %f )\" % actual_x[i]\n",
      "     actual_f[i]=ripl.sample(sample_from_f)\n"
     ],
     "language": "python",
     "metadata": {},
     "outputs": [],
     "prompt_number": 24
    },
    {
     "cell_type": "heading",
     "level": 3,
     "metadata": {},
     "source": [
      "GP Structure Prior"
     ]
    },
    {
     "cell_type": "heading",
     "level": 4,
     "metadata": {},
     "source": [
      "way so that we can visualize posterior:"
     ]
    },
    {
     "cell_type": "heading",
     "level": 3,
     "metadata": {},
     "source": [
      "Gaussian Process"
     ]
    },
    {
     "cell_type": "code",
     "collapsed": false,
     "input": [
      "ripl.bind_foreign_sp(\"make_gp_part_der\",gp_with_derivatives.makeGPSP)"
     ],
     "language": "python",
     "metadata": {},
     "outputs": [],
     "prompt_number": 25
    },
    {
     "cell_type": "code",
     "collapsed": false,
     "input": [
      "\n",
      "#ripl.assume('cov','(apply_function  func_times  per lin )')\n",
      "ripl.assume('gp','(tag (quote parameter) 1 (make_gp_part_der zero lin))')\n"
     ],
     "language": "python",
     "metadata": {},
     "outputs": [
      {
       "metadata": {},
       "output_type": "pyout",
       "prompt_number": 26,
       "text": [
        "<gp_der.GP at 0x7fcd2ace7e50>"
       ]
      }
     ],
     "prompt_number": 26
    },
    {
     "cell_type": "heading",
     "level": 2,
     "metadata": {},
     "source": [
      "Plot the Prior"
     ]
    },
    {
     "cell_type": "code",
     "collapsed": false,
     "input": [
      "def genSamples(x):\n",
      "    sampleString='(gp (array '\n",
      "    for i in range(len(x)):\n",
      "        sampleString+= str(x[i]) + ' ' \n",
      "    sampleString+='))'\n",
      "    #print(sampleString)\n",
      "    return sampleString"
     ],
     "language": "python",
     "metadata": {},
     "outputs": [],
     "prompt_number": 27
    },
    {
     "cell_type": "code",
     "collapsed": false,
     "input": [
      "\n"
     ],
     "language": "python",
     "metadata": {},
     "outputs": [],
     "prompt_number": 27
    },
    {
     "cell_type": "code",
     "collapsed": false,
     "input": [
      "def makeObservations(x,y):\n",
      "    print(y)\n",
      "    xString = genSamples(x)\n",
      "    ripl.observe(xString, array(y.tolist()))\n",
      "    #ripl.observe('(gp (array -3 4))', array([-1, 1]))\n",
      "    \n",
      "makeObservations(xtrain,ytrain)   "
     ],
     "language": "python",
     "metadata": {},
     "outputs": [
      {
       "output_type": "stream",
       "stream": "stdout",
       "text": [
        "[  9.8015649   19.55667519  20.12987157  16.64385305  11.60991449\n",
        "  17.2892492   20.54486481  17.33823417   6.613615    13.86725073\n",
        "  10.51505609  11.89298615  13.36344591   8.98802702   4.78352388\n",
        "  11.58035372   3.7876864   17.86543209   8.46829673  12.05712448]\n"
       ]
      }
     ],
     "prompt_number": 28
    },
    {
     "cell_type": "code",
     "collapsed": false,
     "input": [
      "\n",
      "fig = plt.figure(figsize=(figlength,figheigth), dpi=200)\n",
      "\n",
      "for i in range(100):\n",
      "    xpost= np.random.uniform(low=0.0, high=10.0, size=50)\n",
      "    sampleString=genSamples(xpost)\n",
      "    ypost = ripl.sample(sampleString)\n",
      "    yp = [y for (x,y) in sorted(zip(xpost,ypost))]\n",
      "    pl.plot(sorted(xpost),yp,c=\"red\",alpha=0.1,linewidth=2)\n",
      "    \n",
      "pl.plot(actual_x,actual_f,c=\"#3498db\")\n",
      "pl.scatter(xtrain,ytrain,c=\"black\",marker=\"x\",linewidth=2,s=60)\n",
      "pl.xlim(xa,xb)\n",
      "pl.ylim(ya,yb)\n",
      "pl.show()"
     ],
     "language": "python",
     "metadata": {},
     "outputs": [
      {
       "metadata": {},
       "output_type": "display_data",
       "png": "[encoded data removed]",
       "text": [
        "<matplotlib.figure.Figure at 0x7fcd2ac3a510>"
       ]
      }
     ],
     "prompt_number": 29
    },
    {
     "cell_type": "code",
     "collapsed": false,
     "input": [
      "#ripl.infer(1000)"
     ],
     "language": "python",
     "metadata": {},
     "outputs": [],
     "prompt_number": 30
    },
    {
     "cell_type": "code",
     "collapsed": false,
     "input": [
      "\n",
      "cycle=100\n",
      "for i in range(cycle):\n",
      "    ripl.infer(\"(hmc parameter all 10 10 3)\")\n",
      "    ripl.infer(\"(mh hypers one 1)\") \n"
     ],
     "language": "python",
     "metadata": {},
     "outputs": [],
     "prompt_number": 31
    },
    {
     "cell_type": "code",
     "collapsed": false,
     "input": [
      "'''\n",
      "cycle=50\n",
      "for i in range(cycle):\n",
      "    ripl.infer(\"(hmc parameter all 10 10 3)\")\n",
      "    ripl.infer(3)\n",
      "          \n",
      "'''        \n",
      "    "
     ],
     "language": "python",
     "metadata": {},
     "outputs": [
      {
       "metadata": {},
       "output_type": "pyout",
       "prompt_number": 32,
       "text": [
        "'\\ncycle=50\\nfor i in range(cycle):\\n    ripl.infer(\"(hmc parameter all 10 10 3)\")\\n    ripl.infer(3)\\n          \\n'"
       ]
      }
     ],
     "prompt_number": 32
    },
    {
     "cell_type": "code",
     "collapsed": false,
     "input": [
      "\n",
      "fig = plt.figure(figsize=(figlength,figheigth), dpi=200)\n",
      "\n",
      "for i in range(100):\n",
      "    xpost= np.random.uniform(low=0.0, high=10.0, size=50)\n",
      "    sampleString=genSamples(xpost)\n",
      "    ypost = ripl.sample(sampleString)\n",
      "    yp = [y for (x,y) in sorted(zip(xpost,ypost))]\n",
      "    pl.plot(sorted(xpost),yp,c=\"red\",alpha=0.1,linewidth=2)\n",
      "    \n",
      "pl.plot(actual_x,actual_f,c=\"#3498db\")\n",
      "pl.scatter(xtrain,ytrain,c=\"black\",marker=\"x\",linewidth=2,s=60)\n",
      "pl.xlim(xa,xb)\n",
      "pl.ylim(ya,yb)\n",
      "pl.show()\n"
     ],
     "language": "python",
     "metadata": {},
     "outputs": [
      {
       "metadata": {},
       "output_type": "display_data",
       "png": "[encoded data removed]",
       "text": [
        "<matplotlib.figure.Figure at 0x7fcd2a966090>"
       ]
      }
     ],
     "prompt_number": 33
    },
    {
     "cell_type": "code",
     "collapsed": false,
     "input": [
      "\n",
      "fig = plt.figure(figsize=(figlength,figheigth), dpi=200)\n",
      "for i in range(10):\n",
      "    xpost= np.random.uniform(low=0.0, high=10.0, size=100)\n",
      "    sampleString=genSamples(xpost)\n",
      "    ypost = ripl.predict(sampleString)\n",
      "    yp = [y for (x,y) in sorted(zip(xpost,ypost))]\n",
      "    pl.plot(sorted(xpost),yp,c=\"red\",alpha=0.1,linewidth=2)\n",
      "    \n",
      "pl.plot(actual_x,actual_f,c=\"#3498db\")\n",
      "pl.scatter(xtrain,ytrain,c=\"black\",marker=\"x\",linewidth=2,s=60)\n",
      "pl.xlim(xa,xb)\n",
      "pl.ylim(ya,yb)\n"
     ],
     "language": "python",
     "metadata": {},
     "outputs": [
      {
       "metadata": {},
       "output_type": "pyout",
       "prompt_number": 34,
       "text": [
        "(0, 20)"
       ]
      },
      {
       "metadata": {},
       "output_type": "display_data",
       "png": "[encoded data removed]",
       "text": [
        "<matplotlib.figure.Figure at 0x7fcd2a7d0f10>"
       ]
      }
     ],
     "prompt_number": 34
    },
    {
     "cell_type": "code",
     "collapsed": false,
     "input": [],
     "language": "python",
     "metadata": {},
     "outputs": [],
     "prompt_number": 34
    }
   ],
   "metadata": {}
  }
 ]
}